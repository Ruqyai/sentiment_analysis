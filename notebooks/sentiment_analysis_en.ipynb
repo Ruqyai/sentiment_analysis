{
  "nbformat": 4,
  "nbformat_minor": 0,
  "metadata": {
    "colab": {
      "name": "NLP.ipynb",
      "provenance": [],
      "collapsed_sections": [],
      "toc_visible": true
    },
    "kernelspec": {
      "name": "python3",
      "display_name": "Python 3"
    },
    "accelerator": "GPU"
  },
  "cells": [
    {
      "cell_type": "markdown",
      "metadata": {
        "id": "UGwmik-z3QyS",
        "colab_type": "text"
      },
      "source": [
        "# This notebook to build a sentiment analysis for Movies dataset."
      ]
    },
    {
      "cell_type": "markdown",
      "metadata": {
        "id": "eIbhP_Jy3hv5",
        "colab_type": "text"
      },
      "source": [
        "### Import necessary libraries"
      ]
    },
    {
      "cell_type": "code",
      "metadata": {
        "id": "fDOxzvhG-mSV",
        "colab_type": "code",
        "outputId": "6e8b3dd7-6b31-4154-f88e-fc2566ebb2bf",
        "colab": {
          "base_uri": "https://localhost:8080/",
          "height": 302
        }
      },
      "source": [
        "import pandas as pd # for reading csv file\n",
        "import re # for preprocessing text\n",
        "import string # for preprocessing text\n",
        "from sklearn.feature_extraction.text import CountVectorizer # to create Bag of words\n",
        "from sklearn.model_selection import train_test_split  # for splitting data\n",
        "from sklearn.naive_bayes import GaussianNB # to bulid classifier model\n",
        "from sklearn.preprocessing import LabelEncoder # to convert classes to number \n",
        "from sklearn.metrics import accuracy_score # to calculate accuracy\n",
        "import nltk # for processing texts\n",
        "from nltk.corpus import stopwords # list of stop words\n",
        "nltk.download('punkt')\n",
        "nltk.download('stopwords')\n",
        "nltk.download('wordnet')\n",
        "\n",
        "# douwnload data\n",
        "!wget https://raw.githubusercontent.com/ZarahShibli/sentiment_analysis/master/data/IMDB_Dataset.csv"
      ],
      "execution_count": 3,
      "outputs": [
        {
          "output_type": "stream",
          "text": [
            "[nltk_data] Downloading package punkt to /root/nltk_data...\n",
            "[nltk_data]   Package punkt is already up-to-date!\n",
            "[nltk_data] Downloading package stopwords to /root/nltk_data...\n",
            "[nltk_data]   Package stopwords is already up-to-date!\n",
            "[nltk_data] Downloading package wordnet to /root/nltk_data...\n",
            "[nltk_data]   Package wordnet is already up-to-date!\n",
            "--2020-03-05 11:14:24--  https://raw.githubusercontent.com/ZarahShibli/sentiment_analysis/master/data/IMDB_Dataset.csv\n",
            "Resolving raw.githubusercontent.com (raw.githubusercontent.com)... 151.101.0.133, 151.101.64.133, 151.101.128.133, ...\n",
            "Connecting to raw.githubusercontent.com (raw.githubusercontent.com)|151.101.0.133|:443... connected.\n",
            "HTTP request sent, awaiting response... 200 OK\n",
            "Length: 66212309 (63M) [text/plain]\n",
            "Saving to: ‘IMDB_Dataset.csv’\n",
            "\n",
            "IMDB_Dataset.csv    100%[===================>]  63.14M   231MB/s    in 0.3s    \n",
            "\n",
            "2020-03-05 11:14:27 (231 MB/s) - ‘IMDB_Dataset.csv’ saved [66212309/66212309]\n",
            "\n"
          ],
          "name": "stdout"
        }
      ]
    },
    {
      "cell_type": "markdown",
      "metadata": {
        "id": "18yhqpR5PiGX",
        "colab_type": "text"
      },
      "source": [
        "## Model Architecture\n",
        "\n",
        "![Model steps](https://user-images.githubusercontent.com/42017072/75925841-7890d480-5e7a-11ea-8311-576a5ec34e20.png)\n"
      ]
    },
    {
      "cell_type": "markdown",
      "metadata": {
        "id": "X_MW4dei7wrx",
        "colab_type": "text"
      },
      "source": [
        "## Read data\n",
        "[IMDB dataset](https://www.kaggle.com/lakshmi25npathi/imdb-dataset-of-50k-movie-reviews) having 50K movie reviews. This is a dataset for binary sentiment classification."
      ]
    },
    {
      "cell_type": "code",
      "metadata": {
        "id": "iUIfP0Oe_aHH",
        "colab_type": "code",
        "outputId": "ddef41a3-b745-4176-baba-6e7ff95a926b",
        "colab": {
          "base_uri": "https://localhost:8080/",
          "height": 195
        }
      },
      "source": [
        "data = pd.read_csv(r\"IMDB_Dataset.csv\")\n",
        "data.head()"
      ],
      "execution_count": 8,
      "outputs": [
        {
          "output_type": "execute_result",
          "data": {
            "text/html": [
              "<div>\n",
              "<style scoped>\n",
              "    .dataframe tbody tr th:only-of-type {\n",
              "        vertical-align: middle;\n",
              "    }\n",
              "\n",
              "    .dataframe tbody tr th {\n",
              "        vertical-align: top;\n",
              "    }\n",
              "\n",
              "    .dataframe thead th {\n",
              "        text-align: right;\n",
              "    }\n",
              "</style>\n",
              "<table border=\"1\" class=\"dataframe\">\n",
              "  <thead>\n",
              "    <tr style=\"text-align: right;\">\n",
              "      <th></th>\n",
              "      <th>review</th>\n",
              "      <th>sentiment</th>\n",
              "    </tr>\n",
              "  </thead>\n",
              "  <tbody>\n",
              "    <tr>\n",
              "      <th>0</th>\n",
              "      <td>One of the other reviewers has mentioned that ...</td>\n",
              "      <td>positive</td>\n",
              "    </tr>\n",
              "    <tr>\n",
              "      <th>1</th>\n",
              "      <td>A wonderful little production. &lt;br /&gt;&lt;br /&gt;The...</td>\n",
              "      <td>positive</td>\n",
              "    </tr>\n",
              "    <tr>\n",
              "      <th>2</th>\n",
              "      <td>I thought this was a wonderful way to spend ti...</td>\n",
              "      <td>positive</td>\n",
              "    </tr>\n",
              "    <tr>\n",
              "      <th>3</th>\n",
              "      <td>Basically there's a family where a little boy ...</td>\n",
              "      <td>negative</td>\n",
              "    </tr>\n",
              "    <tr>\n",
              "      <th>4</th>\n",
              "      <td>Petter Mattei's \"Love in the Time of Money\" is...</td>\n",
              "      <td>positive</td>\n",
              "    </tr>\n",
              "  </tbody>\n",
              "</table>\n",
              "</div>"
            ],
            "text/plain": [
              "                                              review sentiment\n",
              "0  One of the other reviewers has mentioned that ...  positive\n",
              "1  A wonderful little production. <br /><br />The...  positive\n",
              "2  I thought this was a wonderful way to spend ti...  positive\n",
              "3  Basically there's a family where a little boy ...  negative\n",
              "4  Petter Mattei's \"Love in the Time of Money\" is...  positive"
            ]
          },
          "metadata": {
            "tags": []
          },
          "execution_count": 8
        }
      ]
    },
    {
      "cell_type": "code",
      "metadata": {
        "id": "0TOx8t42L3dH",
        "colab_type": "code",
        "outputId": "68ab6fce-8782-491a-d55e-ad4dd80c1713",
        "colab": {
          "base_uri": "https://localhost:8080/",
          "height": 34
        }
      },
      "source": [
        "# number of samples in dataset\n",
        "data.shape"
      ],
      "execution_count": 9,
      "outputs": [
        {
          "output_type": "execute_result",
          "data": {
            "text/plain": [
              "(50000, 2)"
            ]
          },
          "metadata": {
            "tags": []
          },
          "execution_count": 9
        }
      ]
    },
    {
      "cell_type": "code",
      "metadata": {
        "id": "YiyuLs8OMfrr",
        "colab_type": "code",
        "outputId": "1472910a-3d94-4c37-c2df-2332ea21857c",
        "colab": {
          "base_uri": "https://localhost:8080/",
          "height": 67
        }
      },
      "source": [
        "# count of each type \n",
        "data.sentiment.value_counts()"
      ],
      "execution_count": 10,
      "outputs": [
        {
          "output_type": "execute_result",
          "data": {
            "text/plain": [
              "positive    25000\n",
              "negative    25000\n",
              "Name: sentiment, dtype: int64"
            ]
          },
          "metadata": {
            "tags": []
          },
          "execution_count": 10
        }
      ]
    },
    {
      "cell_type": "code",
      "metadata": {
        "id": "MSUfjRgPQFZQ",
        "colab_type": "code",
        "outputId": "8f295045-28a1-4ee8-af43-424c34361ff4",
        "colab": {
          "base_uri": "https://localhost:8080/",
          "height": 67
        }
      },
      "source": [
        "# count of missing values in dataset \n",
        "data.isna().sum()"
      ],
      "execution_count": 11,
      "outputs": [
        {
          "output_type": "execute_result",
          "data": {
            "text/plain": [
              "review       0\n",
              "sentiment    0\n",
              "dtype: int64"
            ]
          },
          "metadata": {
            "tags": []
          },
          "execution_count": 11
        }
      ]
    },
    {
      "cell_type": "markdown",
      "metadata": {
        "id": "KgpRcHABTP2k",
        "colab_type": "text"
      },
      "source": [
        "## Clean text"
      ]
    },
    {
      "cell_type": "code",
      "metadata": {
        "id": "UslCEEhgN6P2",
        "colab_type": "code",
        "outputId": "89242293-0dba-4d58-ba9b-7028214de0d9",
        "colab": {
          "base_uri": "https://localhost:8080/",
          "height": 54
        }
      },
      "source": [
        "data['review'][20]"
      ],
      "execution_count": 12,
      "outputs": [
        {
          "output_type": "execute_result",
          "data": {
            "text/plain": [
              "\"After the success of Die Hard and it's sequels it's no surprise really that in the 1990s, a glut of 'Die Hard on a .....' movies cashed in on the wrong guy, wrong place, wrong time concept. That is what they did with Cliffhanger, Die Hard on a mountain just in time to rescue Sly 'Stop or My Mom Will Shoot' Stallone's career.<br /><br />Cliffhanger is one big nit-pickers dream, especially to those who are expert at mountain climbing, base-jumping, aviation, facial expressions, acting skills. All in all it's full of excuses to dismiss the film as one overblown pile of junk. Stallone even managed to get out-acted by a horse! However, if you an forget all the nonsense, it's actually a very lovable and undeniably entertaining romp that delivers as plenty of thrills, and unintentionally, plenty of laughs.<br /><br />You've got to love John Lithgows sneery evilness, his tick every box band of baddies, and best of all, the permanently harassed and hapless 'turncoat' agent, Rex Linn as Travers.<br /><br />He may of been Henry in 'Portrait of a Serial Killer' but Michael Rooker is noteworthy for a cringe-worthy performance as Hal, he insists on constantly shrieking in painful disbelief at his captors 'that man never hurt anybody' And whilst he surely can't be, it really does look like Ralph Waite's Frank character is grinning as the girl plummets to her death.<br /><br />Mention too must go to former 'London's Burning' actor Craig Fairbrass as the Brit bad guy, who comes a cropper whilst using Hal as a Human Football, yes, you can't help enjoy that bit, Hal needed a good kicking.<br /><br />So forget your better judgement, who cares if 'that could never happen', lower your acting expectations, turn up the volume and enjoy! And if you're looking for Qaulen, he's the one wearing the helicopter.\""
            ]
          },
          "metadata": {
            "tags": []
          },
          "execution_count": 12
        }
      ]
    },
    {
      "cell_type": "code",
      "metadata": {
        "id": "nPMZkDCSOrA3",
        "colab_type": "code",
        "colab": {}
      },
      "source": [
        "def clean_text(text):\n",
        "  '''\n",
        "  DESCRIPTION:\n",
        "  This function to clean text \n",
        "  INPUT: \n",
        "  text: string\n",
        "  OUTPUT: \n",
        "  text: string after clean it\n",
        "  ''' \n",
        "  text = text.lower() # convert letters to lower case\n",
        "  text = re.sub(\"[^a-zA-Z]\", \" \", text) # remove non-letters\n",
        "  text = re.sub(r'\\d+', '', text) # remove number\n",
        "  text = re.sub(r'http\\S+', '', text) # remove links\n",
        "  text = text.translate(str.maketrans('','', string.punctuation)) # remove punctuation\n",
        "  text = re.sub(' +', ' ',text) # remove extra space\n",
        "  text = text.strip() # remove whitespaces\n",
        "\n",
        "  #text = ' '.join([word for word in text.split() if word not in stopwords.words(\"english\")]) # remove stop words\n",
        "  #lemma = nltk.WordNetLemmatizer() # define lemmatizer\n",
        "  #text = ' '.join([lemma.lemmatize(word) for word in text.split()]) \n",
        "  return text"
      ],
      "execution_count": 0,
      "outputs": []
    },
    {
      "cell_type": "code",
      "metadata": {
        "id": "_z3unBoueccX",
        "colab_type": "code",
        "colab": {}
      },
      "source": [
        "# The cleaning function applied in all reviews\n",
        "data['review'] = data['review'].apply(clean_text)"
      ],
      "execution_count": 0,
      "outputs": []
    },
    {
      "cell_type": "code",
      "metadata": {
        "id": "ezwEkhcaemK3",
        "colab_type": "code",
        "outputId": "df8499b3-24ef-4587-d01b-94ba01e9d71f",
        "colab": {
          "base_uri": "https://localhost:8080/",
          "height": 54
        }
      },
      "source": [
        "data['review'][20]"
      ],
      "execution_count": 15,
      "outputs": [
        {
          "output_type": "execute_result",
          "data": {
            "text/plain": [
              "'after the success of die hard and it s sequels it s no surprise really that in the s a glut of die hard on a movies cashed in on the wrong guy wrong place wrong time concept that is what they did with cliffhanger die hard on a mountain just in time to rescue sly stop or my mom will shoot stallone s career br br cliffhanger is one big nit pickers dream especially to those who are expert at mountain climbing base jumping aviation facial expressions acting skills all in all it s full of excuses to dismiss the film as one overblown pile of junk stallone even managed to get out acted by a horse however if you an forget all the nonsense it s actually a very lovable and undeniably entertaining romp that delivers as plenty of thrills and unintentionally plenty of laughs br br you ve got to love john lithgows sneery evilness his tick every box band of baddies and best of all the permanently harassed and hapless turncoat agent rex linn as travers br br he may of been henry in portrait of a serial killer but michael rooker is noteworthy for a cringe worthy performance as hal he insists on constantly shrieking in painful disbelief at his captors that man never hurt anybody and whilst he surely can t be it really does look like ralph waite s frank character is grinning as the girl plummets to her death br br mention too must go to former london s burning actor craig fairbrass as the brit bad guy who comes a cropper whilst using hal as a human football yes you can t help enjoy that bit hal needed a good kicking br br so forget your better judgement who cares if that could never happen lower your acting expectations turn up the volume and enjoy and if you re looking for qaulen he s the one wearing the helicopter'"
            ]
          },
          "metadata": {
            "tags": []
          },
          "execution_count": 15
        }
      ]
    },
    {
      "cell_type": "markdown",
      "metadata": {
        "id": "nAbY5_zGQQ4l",
        "colab_type": "text"
      },
      "source": [
        "## Create Bag of words"
      ]
    },
    {
      "cell_type": "code",
      "metadata": {
        "id": "ESZvxliIOlG0",
        "colab_type": "code",
        "outputId": "ae24b151-8210-411d-e1c9-829e9c02fac4",
        "colab": {
          "base_uri": "https://localhost:8080/",
          "height": 134
        }
      },
      "source": [
        "max_features = 1500\n",
        "count_vector = CountVectorizer(max_features = max_features)  \n",
        "X = count_vector.fit_transform(data['review']).toarray() \n",
        "X"
      ],
      "execution_count": 16,
      "outputs": [
        {
          "output_type": "execute_result",
          "data": {
            "text/plain": [
              "array([[0, 0, 1, ..., 0, 0, 0],\n",
              "       [0, 0, 1, ..., 0, 0, 0],\n",
              "       [0, 0, 0, ..., 0, 0, 0],\n",
              "       ...,\n",
              "       [0, 0, 0, ..., 0, 0, 0],\n",
              "       [0, 0, 2, ..., 0, 0, 0],\n",
              "       [0, 0, 1, ..., 0, 0, 0]])"
            ]
          },
          "metadata": {
            "tags": []
          },
          "execution_count": 16
        }
      ]
    },
    {
      "cell_type": "code",
      "metadata": {
        "id": "rYlfOMY8O309",
        "colab_type": "code",
        "outputId": "0eb85627-70d2-4e45-a7e2-72dd0c77b922",
        "colab": {
          "base_uri": "https://localhost:8080/",
          "height": 54
        }
      },
      "source": [
        "print(\"most using {} words: {} \".format(max_features, count_vector.get_feature_names()))"
      ],
      "execution_count": 17,
      "outputs": [
        {
          "output_type": "stream",
          "text": [
            "most using 1500 words: ['ability', 'able', 'about', 'above', 'absolutely', 'accent', 'across', 'act', 'acted', 'acting', 'action', 'actor', 'actors', 'actress', 'actresses', 'acts', 'actual', 'actually', 'adaptation', 'add', 'added', 'adds', 'admit', 'adult', 'adventure', 'affair', 'after', 'again', 'against', 'age', 'agent', 'ago', 'agree', 'ahead', 'air', 'alien', 'alive', 'all', 'almost', 'alone', 'along', 'already', 'also', 'although', 'always', 'am', 'amazing', 'america', 'american', 'americans', 'among', 'amount', 'amusing', 'an', 'and', 'animated', 'animation', 'annoying', 'another', 'answer', 'anti', 'any', 'anyone', 'anything', 'anyway', 'apart', 'apparently', 'appeal', 'appear', 'appearance', 'appeared', 'appears', 'appreciate', 'approach', 'are', 'aren', 'army', 'around', 'art', 'as', 'aside', 'ask', 'aspect', 'aspects', 'at', 'atmosphere', 'attack', 'attempt', 'attempts', 'attention', 'audience', 'audiences', 'available', 'average', 'avoid', 'award', 'away', 'awesome', 'awful', 'baby', 'back', 'background', 'bad', 'badly', 'band', 'bar', 'barely', 'based', 'basic', 'basically', 'batman', 'battle', 'be', 'beat', 'beautiful', 'beautifully', 'beauty', 'became', 'because', 'become', 'becomes', 'bed', 'been', 'before', 'begin', 'beginning', 'begins', 'behind', 'being', 'believable', 'believe', 'ben', 'besides', 'best', 'better', 'between', 'beyond', 'big', 'biggest', 'bill', 'billy', 'bit', 'bizarre', 'black', 'blood', 'blue', 'body', 'bond', 'book', 'books', 'bored', 'boring', 'born', 'boss', 'both', 'bother', 'bottom', 'bought', 'box', 'boy', 'boyfriend', 'boys', 'br', 'brain', 'break', 'brief', 'brilliant', 'bring', 'brings', 'british', 'brother', 'brothers', 'brought', 'bruce', 'budget', 'building', 'bunch', 'business', 'but', 'buy', 'by', 'call', 'called', 'came', 'camera', 'camp', 'can', 'cannot', 'car', 'care', 'career', 'cartoon', 'case', 'cast', 'casting', 'cat', 'catch', 'caught', 'cause', 'central', 'century', 'certain', 'certainly', 'chance', 'change', 'changed', 'changes', 'channel', 'character', 'characters', 'charles', 'charlie', 'charm', 'charming', 'chase', 'cheap', 'check', 'cheesy', 'chemistry', 'child', 'children', 'choice', 'chris', 'christian', 'christmas', 'christopher', 'church', 'cinema', 'cinematic', 'cinematography', 'city', 'class', 'classic', 'clear', 'clearly', 'clever', 'clich', 'climax', 'close', 'club', 'co', 'cold', 'collection', 'college', 'color', 'come', 'comedies', 'comedy', 'comes', 'comic', 'coming', 'comment', 'comments', 'common', 'company', 'compared', 'compelling', 'complete', 'completely', 'complex', 'computer', 'concept', 'conclusion', 'confused', 'confusing', 'consider', 'considered', 'considering', 'constantly', 'contains', 'content', 'control', 'convincing', 'cool', 'cop', 'cops', 'copy', 'costumes', 'could', 'couldn', 'count', 'country', 'couple', 'course', 'cover', 'crap', 'crazy', 'create', 'created', 'creative', 'credit', 'credits', 'creepy', 'crew', 'crime', 'critics', 'cry', 'cult', 'culture', 'cut', 'cute', 'dad', 'dance', 'dancing', 'dark', 'date', 'daughter', 'david', 'day', 'days', 'de', 'dead', 'deal', 'death', 'decent', 'decide', 'decided', 'decides', 'deep', 'definitely', 'delivers', 'depth', 'deserves', 'despite', 'details', 'detective', 'developed', 'development', 'dialog', 'dialogue', 'did', 'didn', 'die', 'died', 'dies', 'difference', 'different', 'difficult', 'direct', 'directed', 'directing', 'direction', 'director', 'directors', 'disappointed', 'disappointing', 'disappointment', 'disney', 'disturbing', 'do', 'doctor', 'documentary', 'does', 'doesn', 'dog', 'doing', 'don', 'done', 'door', 'double', 'doubt', 'down', 'dr', 'drama', 'dramatic', 'drawn', 'dream', 'dreams', 'drive', 'drug', 'drugs', 'due', 'dull', 'dumb', 'during', 'dvd', 'each', 'earlier', 'early', 'earth', 'easily', 'easy', 'ed', 'edge', 'editing', 'effect', 'effective', 'effects', 'effort', 'either', 'elements', 'else', 'emotion', 'emotional', 'emotions', 'end', 'ended', 'ending', 'ends', 'english', 'enjoy', 'enjoyable', 'enjoyed', 'enough', 'entertaining', 'entertainment', 'entire', 'entirely', 'episode', 'episodes', 'equally', 'era', 'escape', 'especially', 'etc', 'even', 'events', 'eventually', 'ever', 'every', 'everybody', 'everyone', 'everything', 'evil', 'ex', 'exactly', 'example', 'excellent', 'except', 'exception', 'exciting', 'excuse', 'expect', 'expectations', 'expected', 'expecting', 'experience', 'explain', 'extreme', 'extremely', 'eye', 'eyes', 'face', 'faces', 'fact', 'failed', 'fails', 'fair', 'fairly', 'fake', 'fall', 'falling', 'falls', 'familiar', 'family', 'famous', 'fan', 'fans', 'fantastic', 'fantasy', 'far', 'fascinating', 'fast', 'father', 'favorite', 'fear', 'feature', 'features', 'feel', 'feeling', 'feelings', 'feels', 'fell', 'felt', 'female', 'festival', 'few', 'fi', 'fiction', 'fight', 'fighting', 'figure', 'filled', 'film', 'filmed', 'filming', 'filmmakers', 'films', 'final', 'finally', 'find', 'finding', 'finds', 'fine', 'finish', 'fire', 'first', 'fit', 'five', 'flat', 'flick', 'flicks', 'focus', 'folks', 'follow', 'following', 'follows', 'footage', 'for', 'force', 'forced', 'forever', 'forget', 'forgotten', 'form', 'former', 'forward', 'found', 'four', 'frank', 'free', 'french', 'fresh', 'friend', 'friends', 'from', 'front', 'full', 'fully', 'fun', 'funniest', 'funny', 'further', 'future', 'game', 'gang', 'garbage', 'gave', 'gay', 'gem', 'general', 'generally', 'genius', 'genre', 'george', 'german', 'get', 'gets', 'getting', 'ghost', 'giant', 'girl', 'girlfriend', 'girls', 'give', 'given', 'gives', 'giving', 'glad', 'go', 'god', 'goes', 'going', 'gone', 'good', 'gore', 'got', 'government', 'grade', 'great', 'greatest', 'green', 'ground', 'group', 'guess', 'gun', 'guy', 'guys', 'had', 'hair', 'half', 'hand', 'hands', 'happen', 'happened', 'happening', 'happens', 'happy', 'hard', 'hardly', 'harry', 'has', 'hate', 'have', 'haven', 'having', 'he', 'head', 'hear', 'heard', 'heart', 'heavy', 'held', 'hell', 'help', 'helps', 'her', 'here', 'hero', 'herself', 'hey', 'high', 'highly', 'hilarious', 'him', 'himself', 'his', 'historical', 'history', 'hit', 'hitchcock', 'hold', 'holes', 'hollywood', 'home', 'honest', 'honestly', 'hope', 'hoping', 'horrible', 'horror', 'hospital', 'hot', 'hotel', 'hour', 'hours', 'house', 'how', 'however', 'huge', 'human', 'humor', 'humour', 'hurt', 'husband', 'idea', 'ideas', 'if', 'ii', 'image', 'images', 'imagine', 'imdb', 'immediately', 'important', 'impossible', 'impressed', 'impression', 'impressive', 'in', 'include', 'including', 'incredible', 'incredibly', 'indeed', 'indian', 'industry', 'information', 'innocent', 'inside', 'instead', 'intelligent', 'intended', 'interest', 'interested', 'interesting', 'into', 'involved', 'involving', 'is', 'island', 'isn', 'issues', 'it', 'italian', 'its', 'itself', 'jack', 'james', 'jane', 'japanese', 'jean', 'jim', 'job', 'joe', 'john', 'joke', 'jokes', 'jones', 'journey', 'just', 'justice', 'keep', 'keeps', 'kelly', 'kept', 'key', 'kid', 'kids', 'kill', 'killed', 'killer', 'killing', 'kills', 'kind', 'king', 'knew', 'know', 'knowing', 'known', 'knows', 'la', 'lack', 'lacks', 'lady', 'lame', 'land', 'language', 'large', 'last', 'late', 'later', 'laugh', 'laughable', 'laughed', 'laughing', 'laughs', 'law', 'lead', 'leading', 'leads', 'learn', 'least', 'leave', 'leaves', 'leaving', 'lee', 'left', 'less', 'let', 'level', 'life', 'light', 'lighting', 'likable', 'like', 'liked', 'likely', 'likes', 'line', 'lines', 'list', 'literally', 'little', 'live', 'lived', 'lives', 'living', 'll', 'local', 'location', 'london', 'long', 'longer', 'look', 'looked', 'looking', 'looks', 'lost', 'lot', 'lots', 'loud', 'love', 'loved', 'lovely', 'lover', 'loves', 'low', 'machine', 'mad', 'made', 'magic', 'main', 'mainly', 'major', 'make', 'makers', 'makes', 'making', 'male', 'man', 'managed', 'manages', 'manner', 'many', 'mark', 'marriage', 'married', 'martin', 'mary', 'master', 'masterpiece', 'match', 'material', 'matter', 'may', 'maybe', 'me', 'mean', 'meaning', 'means', 'meant', 'meet', 'meets', 'members', 'memorable', 'men', 'mention', 'mentioned', 'mess', 'message', 'michael', 'middle', 'might', 'military', 'million', 'mind', 'minor', 'minute', 'minutes', 'miss', 'missed', 'missing', 'mistake', 'modern', 'mom', 'moment', 'moments', 'money', 'monster', 'mood', 'moral', 'more', 'most', 'mostly', 'mother', 'motion', 'move', 'moves', 'movie', 'movies', 'moving', 'mr', 'much', 'murder', 'music', 'musical', 'must', 'my', 'myself', 'mysterious', 'mystery', 'naked', 'name', 'named', 'names', 'narrative', 'natural', 'nature', 'near', 'nearly', 'need', 'needed', 'needs', 'neither', 'never', 'new', 'news', 'next', 'nice', 'night', 'no', 'nobody', 'noir', 'non', 'none', 'nor', 'normal', 'not', 'note', 'nothing', 'notice', 'novel', 'now', 'nowhere', 'nudity', 'number', 'obvious', 'obviously', 'odd', 'of', 'off', 'offer', 'office', 'often', 'oh', 'ok', 'okay', 'old', 'older', 'on', 'once', 'one', 'ones', 'only', 'open', 'opening', 'opera', 'opinion', 'opportunity', 'or', 'order', 'original', 'oscar', 'other', 'others', 'otherwise', 'our', 'out', 'outside', 'outstanding', 'over', 'overall', 'own', 'pace', 'paid', 'pain', 'painful', 'parents', 'paris', 'park', 'part', 'particular', 'particularly', 'parts', 'party', 'pass', 'past', 'pathetic', 'paul', 'pay', 'people', 'perfect', 'perfectly', 'performance', 'performances', 'perhaps', 'period', 'person', 'personal', 'personally', 'peter', 'photography', 'pick', 'picture', 'pictures', 'piece', 'pieces', 'place', 'places', 'plain', 'plan', 'plane', 'planet', 'play', 'played', 'playing', 'plays', 'please', 'plenty', 'plot', 'plus', 'point', 'pointless', 'points', 'police', 'political', 'poor', 'poorly', 'popular', 'porn', 'portrayal', 'portrayed', 'positive', 'possible', 'possibly', 'post', 'potential', 'power', 'powerful', 'predictable', 'premise', 'presence', 'present', 'presented', 'pretty', 'previous', 'prison', 'probably', 'problem', 'problems', 'produced', 'producer', 'producers', 'production', 'project', 'public', 'pull', 'pure', 'purpose', 'put', 'puts', 'putting', 'quality', 'question', 'questions', 'quickly', 'quite', 'race', 'radio', 'random', 'rare', 'rate', 'rated', 'rather', 'rating', 'ray', 're', 'read', 'reading', 'real', 'realistic', 'reality', 'realize', 'really', 'reason', 'reasons', 'recent', 'recently', 'recommend', 'recommended', 'red', 'relationship', 'relationships', 'release', 'released', 'remains', 'remake', 'remember', 'rent', 'respect', 'rest', 'result', 'return', 'revenge', 'review', 'reviews', 'rich', 'richard', 'ride', 'ridiculous', 'right', 'road', 'robert', 'rock', 'role', 'roles', 'romance', 'romantic', 'room', 'run', 'running', 'runs', 'russian', 'sad', 'sadly', 'said', 'sam', 'same', 'save', 'saw', 'say', 'saying', 'says', 'scary', 'scene', 'scenery', 'scenes', 'school', 'sci', 'science', 'score', 'scott', 'screen', 'screenplay', 'script', 'season', 'second', 'secret', 'see', 'seeing', 'seem', 'seemed', 'seemingly', 'seems', 'seen', 'sees', 'self', 'sense', 'sent', 'sequel', 'sequence', 'sequences', 'series', 'serious', 'seriously', 'set', 'sets', 'setting', 'several', 'sex', 'sexual', 'sexy', 'shame', 'share', 'she', 'ship', 'shock', 'shoot', 'shooting', 'short', 'shot', 'shots', 'should', 'show', 'showed', 'showing', 'shown', 'shows', 'sick', 'side', 'silent', 'silly', 'similar', 'simple', 'simply', 'since', 'singing', 'single', 'sister', 'sit', 'sitting', 'situation', 'situations', 'six', 'slasher', 'slightly', 'slow', 'slowly', 'small', 'smart', 'smith', 'so', 'social', 'society', 'soldier', 'soldiers', 'solid', 'some', 'somehow', 'someone', 'something', 'sometimes', 'somewhat', 'somewhere', 'son', 'song', 'songs', 'soon', 'sorry', 'sort', 'soul', 'sound', 'sounds', 'soundtrack', 'south', 'space', 'speak', 'speaking', 'special', 'spend', 'spent', 'spirit', 'spoiler', 'spoilers', 'spot', 'st', 'stage', 'stand', 'standard', 'stands', 'star', 'starring', 'stars', 'start', 'started', 'starts', 'state', 'stay', 'steve', 'stewart', 'stick', 'still', 'stop', 'store', 'stories', 'story', 'storyline', 'straight', 'strange', 'street', 'strong', 'student', 'students', 'studio', 'stuff', 'stunning', 'stupid', 'style', 'sub', 'subject', 'subtle', 'success', 'successful', 'such', 'suddenly', 'suggest', 'summer', 'super', 'superb', 'support', 'supporting', 'suppose', 'supposed', 'supposedly', 'sure', 'surely', 'surprise', 'surprised', 'surprisingly', 'suspense', 'sweet', 'take', 'taken', 'takes', 'taking', 'tale', 'talent', 'talented', 'talk', 'talking', 'taste', 'team', 'teen', 'television', 'tell', 'telling', 'tells', 'ten', 'tension', 'terms', 'terrible', 'terrific', 'th', 'than', 'thank', 'thanks', 'that', 'the', 'theater', 'their', 'them', 'theme', 'themes', 'themselves', 'then', 'there', 'these', 'they', 'thing', 'things', 'think', 'thinking', 'thinks', 'third', 'this', 'those', 'though', 'thought', 'three', 'thriller', 'through', 'throughout', 'throw', 'thrown', 'thus', 'time', 'times', 'tired', 'title', 'to', 'today', 'together', 'told', 'tom', 'tone', 'tony', 'too', 'took', 'top', 'total', 'totally', 'touch', 'touching', 'tough', 'towards', 'town', 'track', 'trailer', 'train', 'trash', 'tried', 'tries', 'trip', 'trouble', 'true', 'truly', 'truth', 'try', 'trying', 'turn', 'turned', 'turns', 'tv', 'twice', 'twist', 'twists', 'two', 'type', 'typical', 'ugly', 'ultimately', 'unbelievable', 'under', 'understand', 'unfortunately', 'unique', 'unless', 'unlike', 'until', 'up', 'upon', 'us', 'use', 'used', 'uses', 'using', 'usual', 'usually', 'utterly', 'value', 'values', 'vampire', 'van', 'various', 've', 'version', 'very', 'victim', 'victims', 'video', 'view', 'viewer', 'viewers', 'viewing', 'villain', 'violence', 'violent', 'visual', 'voice', 'wait', 'waiting', 'walk', 'walking', 'wall', 'want', 'wanted', 'wants', 'war', 'was', 'wasn', 'waste', 'wasted', 'watch', 'watched', 'watching', 'water', 'way', 'ways', 'we', 'weak', 'week', 'weird', 'well', 'went', 'were', 'weren', 'west', 'western', 'what', 'whatever', 'when', 'where', 'whether', 'which', 'while', 'white', 'who', 'whole', 'whom', 'whose', 'why', 'wife', 'wild', 'will', 'william', 'win', 'wish', 'with', 'within', 'without', 'woman', 'women', 'won', 'wonder', 'wonderful', 'word', 'words', 'work', 'worked', 'working', 'works', 'world', 'worse', 'worst', 'worth', 'worthy', 'would', 'wouldn', 'wow', 'write', 'writer', 'writers', 'writing', 'written', 'wrong', 'wrote', 'yeah', 'year', 'years', 'yes', 'yet', 'york', 'you', 'young', 'younger', 'your', 'yourself', 'zombie', 'zombies'] \n"
          ],
          "name": "stdout"
        }
      ]
    },
    {
      "cell_type": "code",
      "metadata": {
        "id": "5vHHf-q9Z0tB",
        "colab_type": "code",
        "outputId": "52760554-e806-484a-83b4-d5cc70d6a690",
        "colab": {
          "base_uri": "https://localhost:8080/",
          "height": 54
        }
      },
      "source": [
        "print(count_vector.vocabulary_)"
      ],
      "execution_count": 18,
      "outputs": [
        {
          "output_type": "stream",
          "text": [
            "{'one': 922, 'of': 910, 'the': 1298, 'other': 934, 'has': 591, 'mentioned': 828, 'that': 1297, 'after': 26, 'watching': 1425, 'just': 700, 'episode': 408, 'you': 1493, 'll': 768, 'be': 112, 'they': 1308, 'are': 74, 'right': 1081, 'as': 79, 'this': 1315, 'is': 679, 'exactly': 425, 'what': 1439, 'happened': 584, 'with': 1458, 'me': 817, 'br': 162, 'first': 496, 'thing': 1309, 'about': 2, 'was': 1419, 'its': 685, 'and': 54, 'scenes': 1107, 'violence': 1406, 'which': 1444, 'set': 1136, 'in': 659, 'from': 525, 'word': 1466, 'go': 559, 'not': 898, 'show': 1154, 'for': 508, 'or': 930, 'no': 891, 'to': 1330, 'drugs': 370, 'sex': 1140, 'classic': 232, 'use': 1383, 'it': 683, 'called': 182, 'given': 555, 'state': 1227, 'mainly': 793, 'on': 920, 'city': 230, 'an': 53, 'prison': 1017, 'where': 1442, 'all': 37, 'have': 593, 'face': 442, 'so': 1182, 'high': 611, 'home': 624, 'many': 804, 'more': 852, 'death': 313, 'never': 885, 'far': 460, 'away': 96, 'would': 1477, 'say': 1101, 'main': 792, 'appeal': 67, 'due': 371, 'fact': 444, 'goes': 561, 'shows': 1158, 'wouldn': 1478, 'forget': 512, 'pretty': 1015, 'pictures': 975, 'audiences': 91, 'charm': 212, 'romance': 1087, 'doesn': 353, 'mess': 829, 'around': 77, 'ever': 418, 'saw': 1100, 'couldn': 279, 'but': 178, 'watched': 1424, 'developed': 326, 'taste': 1281, 'got': 566, 'who': 1447, 'out': 938, 'kill': 709, 'order': 931, 'get': 546, 'well': 1433, 'middle': 832, 'class': 231, 'being': 128, 'turned': 1361, 'into': 676, 'their': 1300, 'lack': 722, 'street': 1240, 'experience': 436, 'may': 815, 'become': 119, 'viewing': 1404, 'if': 647, 'can': 186, 'touch': 1342, 'your': 1496, 'side': 1160, 'wonderful': 1465, 'little': 763, 'production': 1024, 'filming': 485, 'very': 1397, 'old': 918, 'time': 1326, 'gives': 556, 'sometimes': 1192, 'sense': 1128, 'entire': 406, 'piece': 976, 'actors': 12, 'extremely': 439, 'michael': 831, 'only': 924, 'he': 596, 'down': 361, 'too': 1337, 'truly': 1356, 'see': 1119, 'editing': 384, 'by': 180, 'worth': 1475, 'written': 1484, 'great': 569, 'master': 810, 'comedy': 247, 'his': 616, 'life': 751, 'really': 1054, 'comes': 248, 'things': 1310, 'fantasy': 459, 'rather': 1044, 'than': 1294, 'dream': 366, 'remains': 1066, 'solid': 1187, 'then': 1305, 'plays': 987, 'our': 937, 'particularly': 953, 'sets': 1137, 'flat': 499, 'every': 419, 'done': 357, 'thought': 1318, 'way': 1427, 'spend': 1210, 'hot': 632, 'summer': 1257, 'sitting': 1171, 'air': 34, 'theater': 1299, 'light': 752, 'plot': 990, 'dialogue': 329, 'characters': 209, 'likable': 754, 'even': 415, 'killer': 711, 'while': 1445, 'some': 1188, 'disappointed': 344, 'when': 1441, 'realize': 1053, 'match': 812, 'point': 992, 'still': 1232, 'fully': 528, 'control': 271, 'style': 1248, 'us': 1382, 'love': 782, 'most': 853, 'laughed': 734, 'at': 84, 'comedies': 246, 'years': 1489, 've': 1395, 'been': 122, 'impressed': 656, 'she': 1145, 'managed': 801, 'tone': 1335, 'her': 606, 'sexy': 1142, 'image': 649, 'average': 93, 'young': 1494, 'woman': 1461, 'career': 190, 'interesting': 675, 'friends': 524, 'basically': 109, 'there': 1306, 'family': 454, 'boy': 159, 'thinks': 1313, 'zombie': 1498, 'parents': 948, 'fighting': 480, 'movie': 859, 'opera': 927, 'suddenly': 1255, 'decides': 317, 'ok': 916, 're': 1047, 'going': 562, 'make': 795, 'film': 483, 'must': 867, 'decide': 315, 'thriller': 1320, 'drama': 363, 'like': 755, 'real': 1050, 'we': 1429, 'totally': 1341, 'expected': 434, 'similar': 1163, 'instead': 670, 'playing': 986, 'shots': 1152, 'them': 1301, 'money': 848, 'stunning': 1246, 'watch': 1423, 'mr': 862, 'human': 640, 'seems': 1124, 'telling': 1286, 'power': 1008, 'success': 1252, 'do': 349, 'people': 961, 'different': 336, 'situations': 1173, 'play': 984, 'same': 1098, 'theme': 1302, 'director': 342, 'action': 10, 'present': 1013, 'new': 886, 'york': 1492, 'these': 1307, 'meet': 822, 'each': 376, 'another': 58, 'next': 888, 'person': 968, 'know': 717, 'previous': 1016, 'look': 774, 'taken': 1273, 'how': 637, 'live': 764, 'world': 1472, 'own': 943, 'gets': 547, 'picture': 974, 'big': 137, 'best': 133, 'place': 978, 'find': 490, 'case': 192, 'acting': 9, 'good': 564, 'under': 1373, 'direction': 341, 'steve': 1229, 'rest': 1071, 'talented': 1278, 'cast': 193, 'come': 245, 'alive': 36, 'wish': 1457, 'work': 1468, 'probably': 1018, 'my': 868, 'favorite': 464, 'story': 1236, 'cause': 198, 'boring': 151, 'despite': 323, 'having': 595, 'seen': 1125, 'times': 1327, 'last': 729, 'paul': 959, 'performance': 964, 'brings': 168, 'eyes': 441, 'few': 476, 'roles': 1086, 'kids': 708, 'says': 1103, 'up': 1380, 'children': 220, 'makes': 797, 'fun': 529, 'mother': 855, 'slow': 1177, 'happening': 585, 'believable': 129, 'had': 578, 'sure': 1265, 'series': 1133, 'today': 1331, 'bring': 167, 'back': 100, 'kid': 707, 'black': 143, 'white': 1446, 'tv': 1363, 'were': 1435, 'hero': 608, 'week': 1431, 'need': 881, 'change': 204, 'pace': 944, 'water': 1426, 'adventure': 24, 'oh': 915, 'thank': 1295, 'view': 1401, 'movies': 860, 'any': 61, 'believe': 130, 'nice': 889, 'read': 1048, 'plus': 991, 'points': 994, 'lines': 760, 'let': 749, 'leave': 743, 'doubt': 360, 'amazing': 46, 'fresh': 522, 'idea': 645, 'brilliant': 166, 'off': 911, 'funny': 531, 'further': 532, 'complete': 257, 'waste': 1421, 'writing': 1483, 'bad': 102, 'performances': 965, 'almost': 38, 'entertaining': 404, 'hard': 588, 'hand': 581, 'original': 932, 'also': 42, 'band': 104, 'such': 1254, 'fit': 497, 'felt': 473, 'give': 554, 'stars': 1223, 'respect': 1070, 'made': 790, 'huge': 639, 'now': 903, 'awful': 98, 'positive': 1003, 'comments': 252, 'here': 607, 'looking': 776, 'forward': 516, 'mistake': 843, 'films': 487, 'worst': 1474, 'storyline': 1237, 'soundtrack': 1204, 'song': 1196, 'lame': 725, 'country': 281, 'played': 985, 'less': 748, 'four': 518, 'looks': 777, 'cheap': 215, 'extreme': 438, 'happy': 587, 'end': 395, 'credits': 291, 'giving': 557, 'score': 1111, 'least': 742, 'making': 798, 'bit': 141, 'effort': 388, 'will': 1454, 'hell': 603, 'mom': 845, 'liked': 756, 'camp': 185, 'alien': 35, 'those': 1316, 'humour': 642, 'based': 107, 'everything': 422, 'actual': 16, 'odd': 909, 'didn': 331, 'jokes': 697, 'low': 787, 'budget': 174, 'problem': 1019, 'itself': 686, 'eventually': 417, 'lost': 778, 'interest': 673, 'imagine': 651, 'something': 1191, 'better': 134, 'try': 1358, 'brother': 170, 'planet': 983, 'came': 183, 'scene': 1105, 'men': 826, 'horror': 630, 'cheesy': 217, 'tired': 1328, 'monster': 849, 'type': 1368, 'usually': 1388, 'beautiful': 114, 'might': 833, 'daughter': 306, 'died': 333, 'care': 189, 'much': 863, 'romantic': 1088, 'year': 1488, 'predictable': 1010, 'humor': 641, 'later': 731, 'loved': 783, 'star': 1221, 'early': 378, 'took': 1338, 'notice': 901, 'since': 1166, 'scary': 1104, 'possible': 1004, 'fan': 456, 'again': 27, 'enjoyed': 402, 'maybe': 816, 'apparently': 66, 'bought': 157, 'cry': 296, 'long': 772, 'ago': 31, 'before': 123, 'game': 534, 'killing': 712, 'secret': 1118, 'island': 680, 'should': 1153, 'together': 1332, 'along': 40, 'feeling': 469, 'three': 1319, 'names': 875, 'actually': 17, 'tale': 1276, 'jack': 687, 'yes': 1490, 'german': 545, 'however': 638, 'true': 1355, 'whole': 1448, 'don': 356, 'looked': 775, 'beyond': 136, 'evil': 423, 'mad': 789, 'dr': 362, 'soldiers': 1186, 'top': 1339, 'spoiler': 1213, 'reason': 1055, 'rich': 1077, 'haven': 594, 'gone': 563, 'started': 1225, 'cannot': 187, 'stay': 1228, 'delivers': 320, 'meaning': 819, 'did': 330, 'until': 1379, 'laugh': 732, 'take': 1272, 'ahead': 33, 'annoying': 57, 'shoot': 1148, 'him': 614, 'minutes': 839, 'screen': 1113, 'appreciate': 72, 'trying': 1359, 'why': 1451, 'because': 118, 'certain': 201, 'tried': 1351, 'era': 411, 'words': 1467, 'write': 1480, 'ten': 1288, 'english': 399, 'keep': 702, 'saying': 1102, 'does': 352, 'cut': 299, 'fantastic': 458, 'famous': 455, 'george': 544, 'man': 800, 'everybody': 420, 'kind': 714, 'drawn': 365, 'unbelievable': 1372, 'sort': 1200, 'school': 1108, 'project': 1025, 'thinking': 1312, 'bizarre': 142, 'supposed': 1263, 'town': 1346, 'involved': 677, 'quite': 1037, 'ridiculous': 1080, 'lots': 780, 'relationship': 1062, 'nowhere': 904, 'dance': 302, 'pass': 956, 'million': 835, 'wasted': 1422, 'could': 278, 'spent': 1211, 'simply': 1165, 'fails': 446, 'title': 1329, 'excellent': 427, 'always': 44, 'exception': 429, 'feel': 468, 'character': 208, 'major': 794, 'version': 1396, 'attempts': 88, 'earlier': 377, 'special': 1209, 'effects': 387, 'enjoy': 400, 'older': 919, 'horrible': 629, 'wasn': 1420, 'minute': 838, 'fight': 479, 'chance': 203, 'development': 327, 'running': 1091, 'emotional': 393, 'except': 428, 'machine': 788, 'wanted': 1416, 'ghost': 549, 'final': 488, 'beginning': 125, 'return': 1073, 'victim': 1398, 'both': 154, 'wait': 1410, 'someone': 1190, 'tell': 1285, 'line': 759, 'conclusion': 262, 'adult': 23, 'either': 389, 'disappointment': 346, 'save': 1099, 'remember': 1068, 'cinema': 227, 'dark': 304, 'places': 979, 'dad': 301, 'sister': 1169, 'appearance': 69, 'actor': 11, 'think': 1311, 'shot': 1151, 'dies': 334, 'anyone': 62, 'knows': 720, 'dvd': 375, 'etc': 414, 'please': 988, 'club': 239, 'shame': 1143, 'hear': 598, 'others': 935, 'against': 28, 'female': 474, 'perfectly': 963, 'fine': 493, 'dull': 372, 'script': 1115, 'suppose': 1262, 'weren': 1436, 'enough': 403, 'naked': 872, 'couple': 282, 'hours': 635, 'die': 332, 'surprise': 1267, 'wrong': 1485, 'guy': 576, 'concept': 261, 'stop': 1233, 'especially': 413, 'full': 527, 'acted': 8, 'plenty': 989, 'laughs': 736, 'john': 695, 'box': 158, 'agent': 30, 'worthy': 1476, 'constantly': 268, 'painful': 947, 'hurt': 643, 'surely': 1266, 'frank': 519, 'girl': 551, 'mention': 827, 'former': 515, 'london': 771, 'using': 1386, 'help': 604, 'needed': 882, 'happen': 583, 'expectations': 433, 'turn': 1360, 'terrible': 1291, 'aspects': 83, 'sequences': 1132, 'fake': 449, 'amusing': 52, 'towards': 1345, 'women': 1462, 'utterly': 1389, 'appear': 68, 'weird': 1432, 'costumes': 277, 'absolutely': 4, 'won': 1463, 'although': 43, 'isn': 681, 'anything': 63, 'music': 865, 'takes': 1274, 'heard': 599, 'start': 1224, 'straight': 1238, 'am': 45, 'matter': 814, 'used': 1384, 'several': 1139, 'hilarious': 613, 'lot': 779, 'moving': 861, 'usual': 1387, 'animation': 56, 'worse': 1473, 'bunch': 176, 'run': 1090, 'over': 941, 'kept': 705, 'pick': 973, 'season': 1116, 'honestly': 626, 'barely': 106, 'night': 890, 'stupid': 1247, 'means': 820, 'unless': 1377, 'amount': 51, 'known': 719, 'actress': 13, 'part': 951, 'depth': 321, 'nor': 896, 'cop': 274, 'feels': 471, 'video': 1400, 'complex': 259, 'though': 1317, 'details': 324, 'dumb': 373, 'role': 1085, 'terrific': 1292, 'job': 693, 'songs': 1197, 'unfortunately': 1375, 'masterpiece': 811, 'trip': 1353, 'mind': 836, 'aside': 80, 'fall': 450, 'date': 305, 'poorly': 998, 'miss': 840, 'future': 533, 'follow': 504, 'door': 358, 'want': 1415, 'personally': 970, 'talk': 1279, 'inside': 669, 'agree': 32, 'genre': 543, 'worked': 1469, 'failed': 445, 'twist': 1365, 'presented': 1014, 'nothing': 900, 'fascinating': 461, 'journey': 699, 'mysterious': 870, 'subject': 1250, 'explain': 437, 'brain': 163, 'wants': 1417, 'guess': 574, 'ground': 572, 'showed': 1155, 'reality': 1052, 'surprised': 1268, 'cinematography': 229, 'myself': 869, 'else': 391, 'walk': 1412, 'open': 925, 'eye': 440, 'crazy': 286, 'leaving': 745, 'audience': 90, 'once': 921, 'political': 996, 'hollywood': 623, 'values': 1391, 'list': 761, 'spirit': 1212, 'behind': 127, 'war': 1418, 'serious': 1134, 'poor': 997, 'particular': 952, 'seemed': 1122, 'able': 1, 'stand': 1218, 'america': 47, 'funniest': 530, 'typical': 1369, 'speak': 1207, 'dancing': 303, 'clich': 236, 'seem': 1121, 'large': 728, 'compelling': 256, 'cold': 241, 'starring': 1222, 'law': 737, 'entirely': 407, 'literally': 762, 'battle': 111, 'sequence': 1131, 'puts': 1031, 'period': 967, 'soldier': 1185, 'becomes': 120, 'equally': 410, 'left': 747, 'appears': 71, 'indeed': 664, 'somewhat': 1193, 'soon': 1198, 'turns': 1362, 'confusing': 264, 'begins': 126, 'ways': 1428, 'coming': 250, 'course': 283, 'tough': 1344, 'helps': 605, 'put': 1030, 'perhaps': 966, 'brought': 172, 'upon': 1381, 'within': 1459, 'two': 1367, 'disturbing': 348, 'south': 1205, 'whom': 1449, 'surprisingly': 1269, 'father': 463, 'ray': 1046, 'changed': 205, 'mostly': 854, 'anti': 60, 'message': 830, 'effective': 386, 'land': 726, 'past': 957, 'century': 200, 'effect': 385, 'manages': 802, 'mood': 850, 'atmosphere': 85, 'climax': 237, 'justice': 701, 'between': 135, 'nature': 878, 'neither': 884, 'unique': 1376, 'lives': 766, 'apart': 65, 'suspense': 1270, 'noir': 893, 'company': 254, 'robert': 1083, 'sam': 1097, 'happens': 586, 'police': 995, 'detective': 325, 'falls': 452, 'second': 1117, 'third': 1314, 'male': 799, 'central': 199, 'smart': 1180, 'sad': 1094, 'kelly': 704, 'small': 1179, 'memorable': 825, 'hands': 582, 'thus': 1325, 'attempt': 87, 'novel': 902, 'richard': 1078, 'gay': 538, 'murder': 864, 'news': 887, 'potential': 1007, 'works': 1471, 'general': 540, 'girlfriend': 552, 'question': 1034, 'whether': 1443, 'indian': 665, 'directed': 339, 'successful': 1253, 'leading': 739, 'directors': 343, 'tells': 1287, 'unlike': 1378, 'approach': 73, 'various': 1394, 'himself': 615, 'crime': 294, 'leads': 740, 'finally': 489, 'house': 636, 'short': 1150, 'hair': 579, 'moments': 847, 'through': 1321, 'emotions': 394, 'among': 50, 'cult': 297, 'baby': 99, 'quality': 1033, 'alone': 39, 'opening': 926, 'revenge': 1074, 'motion': 856, 'ultimately': 1371, 'non': 894, 'living': 767, 'hotel': 633, 'italian': 684, 'speaking': 1208, 'business': 177, 'yet': 1491, 'count': 280, 'missing': 842, 'close': 238, 'without': 1460, 'fear': 465, 'caught': 197, 'truth': 1357, 'told': 1333, 'half': 580, 'days': 309, 'seemingly': 1123, 'release': 1064, 'uses': 1385, 'deep': 318, 'impossible': 655, 'friend': 523, 'single': 1168, 'taking': 1275, 'during': 374, 'waiting': 1411, 'la': 721, 'expecting': 435, 'expect': 432, 'tension': 1289, 'fast': 462, 'gave': 537, 'seriously': 1135, 'lead': 738, 'anyway': 64, 'talent': 1277, 'certainly': 202, 'avoid': 94, 'bored': 150, 'cute': 300, 'sweet': 1271, 'age': 29, 'edge': 383, 'wonder': 1464, 'hardly': 589, 'language': 727, 'nudity': 905, 'hoping': 628, 'television': 1284, 'rated': 1043, 'rent': 1069, 'needs': 883, 'portrayed': 1002, 'ones': 923, 'aspect': 82, 'number': 906, 'including': 661, 'begin': 124, 'created': 288, 'double': 359, 'purpose': 1029, 'throughout': 1322, 'add': 19, 'act': 7, 'completely': 258, 'hope': 627, 'following': 505, 'value': 1390, 'obviously': 908, 'figure': 481, 'front': 526, 'okay': 917, 'david': 307, 'ride': 1079, 'greatest': 570, 'writer': 1481, 'husband': 644, 'computer': 260, 'thrown': 1324, 'call': 181, 'shooting': 1149, 'whatever': 1440, 'name': 873, 'clearly': 234, 'camera': 184, 'child': 219, 'creepy': 292, 'went': 1434, 'casting': 194, 'hold': 621, 'james': 688, 'themselves': 1304, 'entertainment': 405, 'recommend': 1059, 'book': 148, 'issues': 682, 'race': 1038, 'personal': 969, 'background': 101, 'jones': 698, 'oscar': 933, 'doctor': 350, 'william': 1455, 'chemistry': 218, 'ending': 397, 'consider': 265, 'stories': 1235, 'example': 426, 'changes': 206, 'dialog': 328, 'pain': 946, 'local': 769, 'trailer': 1348, 'confused': 263, 'cops': 275, 'gun': 575, 'killed': 710, 'hit': 619, 'six': 1174, 'held': 602, 'god': 560, 'army': 76, 'starts': 1226, 'highly': 612, 'events': 416, 'level': 750, 'laughable': 733, 'gang': 535, 'contains': 269, 'available': 92, 'sent': 1129, 'working': 1470, 'american': 48, 'car': 188, 'grade': 568, 'hour': 634, 'americans': 49, 'heavy': 601, 'musical': 866, 'parts': 954, 'compared': 255, 'singing': 1167, 'lighting': 753, 'common': 253, 'opinion': 928, 'obvious': 907, 'talking': 1280, 'enjoyable': 401, 'whose': 1450, 'supporting': 1261, 'mary': 809, 'born': 152, 'earth': 379, 'stuff': 1245, 'public': 1026, 'nearly': 880, 'late': 730, 'screenplay': 1114, 'imdb': 652, 'charles': 210, 'situation': 1172, 'tom': 1334, 'bottom': 156, 'head': 597, 'wife': 1452, 'boss': 153, 'voice': 1409, 'sees': 1126, 'pure': 1028, 'thanks': 1296, 'younger': 1495, 'shock': 1147, 'son': 1195, 'total': 1340, 'note': 899, 'train': 1349, 'rate': 1042, 'social': 1183, 'normal': 897, 'affair': 25, 'th': 1293, 'western': 1438, 'simple': 1164, 'acts': 15, 'narrative': 876, 'premise': 1011, 'none': 895, 'minor': 837, 'getting': 548, 'learn': 741, 'sound': 1202, 'moves': 858, 'flicks': 501, 'spoilers': 1214, 'familiar': 453, 'innocent': 668, 'forced': 510, 'ended': 396, 'church': 226, 'hospital': 631, 'fell': 472, 'married': 807, 'french': 521, 'already': 41, 'marriage': 806, 'violent': 1407, 'knew': 716, 'ability': 0, 'found': 517, 'day': 308, 'members': 824, 'seeing': 1120, 'heart': 600, 'added': 20, 'decided': 316, 'appeared': 70, 'kills': 713, 'dead': 311, 'fans': 457, 'rating': 1045, 'faces': 443, 'yourself': 1497, 'space': 1206, 'support': 1260, 'post': 1006, 'shown': 1157, 'stands': 1220, 'self': 1127, 'create': 287, 'ends': 398, 'difficult': 337, 'documentary': 351, 'mark': 805, 'viewer': 1402, 'fair': 447, 'problems': 1020, 'porn': 1000, 'ii': 648, 'group': 573, 'blood': 144, 'gore': 565, 'decent': 314, 'leaves': 744, 'office': 913, 'outside': 939, 'hitchcock': 620, 'themes': 1303, 'british': 169, 'building': 175, 'often': 914, 'knowing': 718, 'producer': 1022, 'directing': 340, 'elements': 390, 'brief': 165, 'co': 240, 'perfect': 962, 'meets': 823, 'include': 660, 'popular': 999, 'martin': 808, 'form': 514, 'pull': 1027, 'incredibly': 663, 'art': 78, 'clever': 235, 'twists': 1366, 'drug': 369, 'store': 1234, 'putting': 1032, 'king': 715, 'sick': 1159, 'stage': 1217, 'convincing': 272, 'aren': 75, 'five': 498, 'peter': 971, 'somewhere': 1194, 'important': 654, 'longer': 773, 'actresses': 14, 'terms': 1290, 'disappointing': 345, 'lovely': 784, 'impressive': 658, 'besides': 132, 'moral': 851, 'named': 874, 'silent': 1161, 'easily': 380, 'remake': 1067, 'silly': 1162, 'force': 509, 'ex': 424, 'mystery': 871, 'strong': 1241, 'recommended': 1060, 'check': 216, 'share': 1144, 'strange': 1239, 'boys': 161, 'material': 813, 'bother': 155, 'definitely': 319, 'beauty': 116, 'free': 520, 'gem': 539, 'easy': 381, 'lover': 785, 'trouble': 1354, 'jim': 692, 'otherwise': 936, 'crap': 285, 'presence': 1012, 'slightly': 1176, 'visual': 1408, 'producers': 1023, 'sequel': 1130, 'everyone': 421, 'sorry': 1199, 'brothers': 171, 'produced': 1021, 'throw': 1323, 'students': 1243, 'holes': 622, 'room': 1089, 'bill': 139, 'above': 3, 'beat': 113, 'overall': 942, 'awesome': 97, 'clear': 233, 'honest': 625, 'manner': 803, 'beautifully': 115, 'filmed': 484, 'considered': 266, 'feature': 466, 'released': 1065, 'showing': 1156, 'subtle': 1251, 'across': 6, 'pathetic': 958, 'harry': 590, 'doing': 355, 'focus': 502, 'super': 1258, 'college': 243, 'ed': 382, 'bond': 147, 'de': 310, 'bar': 105, 'tries': 1352, 'christopher': 225, 'lee': 746, 'biggest': 138, 'modern': 844, 'hate': 592, 'finds': 492, 'chris': 222, 'intended': 672, 'keeps': 703, 'japanese': 690, 'flick': 500, 'dog': 354, 'girls': 553, 'team': 1282, 'guys': 577, 'random': 1040, 'yeah': 1487, 'cool': 273, 'twice': 1364, 'finding': 491, 'reviews': 1076, 'critics': 295, 'immediately': 653, 'follows': 506, 'forgotten': 513, 'rare': 1041, 'impression': 657, 'incredible': 662, 'genius': 542, 'moment': 846, 'ask': 81, 'sit': 1170, 'filled': 482, 'fiction': 478, 'weak': 1430, 'ideas': 646, 'quickly': 1036, 'joke': 696, 'finish': 494, 'bed': 121, 'touching': 1343, 'mean': 818, 'interested': 674, 'reading': 1049, 'accent': 5, 'books': 149, 'attack': 86, 'rock': 1084, 'said': 1096, 'sadly': 1095, 'industry': 666, 'pointless': 993, 'hey': 610, 'villain': 1405, 'glad': 558, 'became': 117, 'comment': 251, 'loves': 786, 'ship': 1146, 'natural': 877, 'folks': 503, 'possibly': 1005, 'red': 1061, 'animated': 55, 'fairly': 448, 'involving': 678, 'understand': 1374, 'difference': 335, 'plain': 980, 'fire': 495, 'superb': 1259, 'writers': 1482, 'content': 270, 'near': 879, 'van': 1393, 'festival': 475, 'charlie': 211, 'questions': 1035, 'excuse': 431, 'slasher': 1175, 'comic': 249, 'garbage': 536, 'buy': 179, 'disney': 347, 'ugly': 1370, 'stick': 1231, 'trash': 1350, 'supposedly': 1264, 'meant': 821, 'studio': 1244, 'pieces': 977, 'runs': 1092, 'crew': 293, 'cinematic': 228, 'history': 618, 'jane': 689, 'direct': 338, 'copy': 276, 'wrote': 1486, 'review': 1075, 'realistic': 1051, 'outstanding': 940, 'chase': 214, 'ben': 131, 'loud': 781, 'scenery': 1106, 'paris': 949, 'choice': 221, 'government': 567, 'boyfriend': 160, 'victims': 1399, 'cover': 284, 'footage': 507, 'collection': 242, 'teen': 1283, 'body': 146, 'blue': 145, 'stewart': 1230, 'falling': 451, 'badly': 103, 'lacks': 723, 'cat': 195, 'zombies': 1499, 'walking': 1413, 'win': 1456, 'sci': 1109, 'fi': 477, 'west': 1437, 'sexual': 1141, 'escape': 412, 'photography': 972, 'tony': 1336, 'deserves': 322, 'somehow': 1189, 'deal': 312, 'road': 1082, 'laughing': 735, 'drive': 368, 'smith': 1181, 'paid': 945, 'attention': 89, 'credit': 290, 'track': 1347, 'cartoon': 191, 'features': 467, 'location': 770, 'forever': 511, 'episodes': 409, 'green': 571, 'pay': 960, 'historical': 617, 'generally': 541, 'adds': 21, 'society': 1184, 'sounds': 1203, 'recently': 1058, 'standard': 1219, 'giant': 550, 'setting': 1138, 'adaptation': 18, 'catch': 196, 'plan': 981, 'joe': 694, 'nobody': 892, 'relationships': 1063, 'powerful': 1009, 'reasons': 1056, 'likely': 757, 'party': 955, 'lady': 724, 'magic': 791, 'spot': 1215, 'park': 950, 'break': 164, 'filmmakers': 486, 'answer': 59, 'portrayal': 1001, 'sub': 1249, 'emotion': 392, 'bruce': 173, 'dreams': 367, 'student': 1242, 'move': 857, 'science': 1110, 'information': 667, 'batman': 110, 'basic': 108, 'herself': 609, 'slowly': 1178, 'images': 650, 'recent': 1057, 'soul': 1201, 'missed': 841, 'exciting': 430, 'admit': 22, 'offer': 912, 'vampire': 1392, 'suggest': 1256, 'opportunity': 929, 'wild': 1453, 'jean': 691, 'russian': 1093, 'lived': 765, 'military': 834, 'viewers': 1403, 'creative': 289, 'makers': 796, 'channel': 207, 'color': 244, 'likes': 758, 'plane': 982, 'radio': 1039, 'wow': 1479, 'billy': 140, 'considering': 267, 'st': 1216, 'dramatic': 364, 'intelligent': 671, 'christmas': 224, 'scott': 1112, 'wall': 1414, 'result': 1072, 'charming': 213, 'award': 95, 'feelings': 470, 'christian': 223, 'key': 706, 'culture': 298}\n"
          ],
          "name": "stdout"
        }
      ]
    },
    {
      "cell_type": "code",
      "metadata": {
        "id": "Uqy6zjWTtIHy",
        "colab_type": "code",
        "outputId": "429a7932-3154-489a-80cd-3492b5776230",
        "colab": {
          "base_uri": "https://localhost:8080/",
          "height": 422
        }
      },
      "source": [
        "d = pd.DataFrame(X,columns=count_vector.get_feature_names())\n",
        "d"
      ],
      "execution_count": 19,
      "outputs": [
        {
          "output_type": "execute_result",
          "data": {
            "text/html": [
              "<div>\n",
              "<style scoped>\n",
              "    .dataframe tbody tr th:only-of-type {\n",
              "        vertical-align: middle;\n",
              "    }\n",
              "\n",
              "    .dataframe tbody tr th {\n",
              "        vertical-align: top;\n",
              "    }\n",
              "\n",
              "    .dataframe thead th {\n",
              "        text-align: right;\n",
              "    }\n",
              "</style>\n",
              "<table border=\"1\" class=\"dataframe\">\n",
              "  <thead>\n",
              "    <tr style=\"text-align: right;\">\n",
              "      <th></th>\n",
              "      <th>ability</th>\n",
              "      <th>able</th>\n",
              "      <th>about</th>\n",
              "      <th>above</th>\n",
              "      <th>absolutely</th>\n",
              "      <th>accent</th>\n",
              "      <th>across</th>\n",
              "      <th>act</th>\n",
              "      <th>acted</th>\n",
              "      <th>acting</th>\n",
              "      <th>action</th>\n",
              "      <th>actor</th>\n",
              "      <th>actors</th>\n",
              "      <th>actress</th>\n",
              "      <th>actresses</th>\n",
              "      <th>acts</th>\n",
              "      <th>actual</th>\n",
              "      <th>actually</th>\n",
              "      <th>adaptation</th>\n",
              "      <th>add</th>\n",
              "      <th>added</th>\n",
              "      <th>adds</th>\n",
              "      <th>admit</th>\n",
              "      <th>adult</th>\n",
              "      <th>adventure</th>\n",
              "      <th>affair</th>\n",
              "      <th>after</th>\n",
              "      <th>again</th>\n",
              "      <th>against</th>\n",
              "      <th>age</th>\n",
              "      <th>agent</th>\n",
              "      <th>ago</th>\n",
              "      <th>agree</th>\n",
              "      <th>ahead</th>\n",
              "      <th>air</th>\n",
              "      <th>alien</th>\n",
              "      <th>alive</th>\n",
              "      <th>all</th>\n",
              "      <th>almost</th>\n",
              "      <th>alone</th>\n",
              "      <th>...</th>\n",
              "      <th>without</th>\n",
              "      <th>woman</th>\n",
              "      <th>women</th>\n",
              "      <th>won</th>\n",
              "      <th>wonder</th>\n",
              "      <th>wonderful</th>\n",
              "      <th>word</th>\n",
              "      <th>words</th>\n",
              "      <th>work</th>\n",
              "      <th>worked</th>\n",
              "      <th>working</th>\n",
              "      <th>works</th>\n",
              "      <th>world</th>\n",
              "      <th>worse</th>\n",
              "      <th>worst</th>\n",
              "      <th>worth</th>\n",
              "      <th>worthy</th>\n",
              "      <th>would</th>\n",
              "      <th>wouldn</th>\n",
              "      <th>wow</th>\n",
              "      <th>write</th>\n",
              "      <th>writer</th>\n",
              "      <th>writers</th>\n",
              "      <th>writing</th>\n",
              "      <th>written</th>\n",
              "      <th>wrong</th>\n",
              "      <th>wrote</th>\n",
              "      <th>yeah</th>\n",
              "      <th>year</th>\n",
              "      <th>years</th>\n",
              "      <th>yes</th>\n",
              "      <th>yet</th>\n",
              "      <th>york</th>\n",
              "      <th>you</th>\n",
              "      <th>young</th>\n",
              "      <th>younger</th>\n",
              "      <th>your</th>\n",
              "      <th>yourself</th>\n",
              "      <th>zombie</th>\n",
              "      <th>zombies</th>\n",
              "    </tr>\n",
              "  </thead>\n",
              "  <tbody>\n",
              "    <tr>\n",
              "      <th>0</th>\n",
              "      <td>0</td>\n",
              "      <td>0</td>\n",
              "      <td>1</td>\n",
              "      <td>0</td>\n",
              "      <td>0</td>\n",
              "      <td>0</td>\n",
              "      <td>0</td>\n",
              "      <td>0</td>\n",
              "      <td>0</td>\n",
              "      <td>0</td>\n",
              "      <td>0</td>\n",
              "      <td>0</td>\n",
              "      <td>0</td>\n",
              "      <td>0</td>\n",
              "      <td>0</td>\n",
              "      <td>0</td>\n",
              "      <td>0</td>\n",
              "      <td>0</td>\n",
              "      <td>0</td>\n",
              "      <td>0</td>\n",
              "      <td>0</td>\n",
              "      <td>0</td>\n",
              "      <td>0</td>\n",
              "      <td>0</td>\n",
              "      <td>0</td>\n",
              "      <td>0</td>\n",
              "      <td>1</td>\n",
              "      <td>0</td>\n",
              "      <td>0</td>\n",
              "      <td>0</td>\n",
              "      <td>0</td>\n",
              "      <td>0</td>\n",
              "      <td>0</td>\n",
              "      <td>0</td>\n",
              "      <td>0</td>\n",
              "      <td>0</td>\n",
              "      <td>0</td>\n",
              "      <td>1</td>\n",
              "      <td>0</td>\n",
              "      <td>0</td>\n",
              "      <td>...</td>\n",
              "      <td>0</td>\n",
              "      <td>0</td>\n",
              "      <td>0</td>\n",
              "      <td>0</td>\n",
              "      <td>0</td>\n",
              "      <td>0</td>\n",
              "      <td>2</td>\n",
              "      <td>0</td>\n",
              "      <td>0</td>\n",
              "      <td>0</td>\n",
              "      <td>0</td>\n",
              "      <td>0</td>\n",
              "      <td>0</td>\n",
              "      <td>0</td>\n",
              "      <td>0</td>\n",
              "      <td>0</td>\n",
              "      <td>0</td>\n",
              "      <td>1</td>\n",
              "      <td>1</td>\n",
              "      <td>0</td>\n",
              "      <td>0</td>\n",
              "      <td>0</td>\n",
              "      <td>0</td>\n",
              "      <td>0</td>\n",
              "      <td>0</td>\n",
              "      <td>0</td>\n",
              "      <td>0</td>\n",
              "      <td>0</td>\n",
              "      <td>0</td>\n",
              "      <td>0</td>\n",
              "      <td>0</td>\n",
              "      <td>0</td>\n",
              "      <td>0</td>\n",
              "      <td>3</td>\n",
              "      <td>0</td>\n",
              "      <td>0</td>\n",
              "      <td>1</td>\n",
              "      <td>0</td>\n",
              "      <td>0</td>\n",
              "      <td>0</td>\n",
              "    </tr>\n",
              "    <tr>\n",
              "      <th>1</th>\n",
              "      <td>0</td>\n",
              "      <td>0</td>\n",
              "      <td>1</td>\n",
              "      <td>0</td>\n",
              "      <td>0</td>\n",
              "      <td>0</td>\n",
              "      <td>0</td>\n",
              "      <td>0</td>\n",
              "      <td>0</td>\n",
              "      <td>0</td>\n",
              "      <td>0</td>\n",
              "      <td>0</td>\n",
              "      <td>1</td>\n",
              "      <td>0</td>\n",
              "      <td>0</td>\n",
              "      <td>0</td>\n",
              "      <td>0</td>\n",
              "      <td>0</td>\n",
              "      <td>0</td>\n",
              "      <td>0</td>\n",
              "      <td>0</td>\n",
              "      <td>0</td>\n",
              "      <td>0</td>\n",
              "      <td>0</td>\n",
              "      <td>0</td>\n",
              "      <td>0</td>\n",
              "      <td>0</td>\n",
              "      <td>0</td>\n",
              "      <td>0</td>\n",
              "      <td>0</td>\n",
              "      <td>0</td>\n",
              "      <td>0</td>\n",
              "      <td>0</td>\n",
              "      <td>0</td>\n",
              "      <td>0</td>\n",
              "      <td>0</td>\n",
              "      <td>0</td>\n",
              "      <td>2</td>\n",
              "      <td>0</td>\n",
              "      <td>0</td>\n",
              "      <td>...</td>\n",
              "      <td>0</td>\n",
              "      <td>0</td>\n",
              "      <td>0</td>\n",
              "      <td>0</td>\n",
              "      <td>0</td>\n",
              "      <td>1</td>\n",
              "      <td>0</td>\n",
              "      <td>0</td>\n",
              "      <td>0</td>\n",
              "      <td>0</td>\n",
              "      <td>0</td>\n",
              "      <td>0</td>\n",
              "      <td>0</td>\n",
              "      <td>0</td>\n",
              "      <td>0</td>\n",
              "      <td>1</td>\n",
              "      <td>0</td>\n",
              "      <td>0</td>\n",
              "      <td>0</td>\n",
              "      <td>0</td>\n",
              "      <td>0</td>\n",
              "      <td>0</td>\n",
              "      <td>0</td>\n",
              "      <td>0</td>\n",
              "      <td>1</td>\n",
              "      <td>0</td>\n",
              "      <td>0</td>\n",
              "      <td>0</td>\n",
              "      <td>0</td>\n",
              "      <td>0</td>\n",
              "      <td>0</td>\n",
              "      <td>0</td>\n",
              "      <td>0</td>\n",
              "      <td>1</td>\n",
              "      <td>0</td>\n",
              "      <td>0</td>\n",
              "      <td>0</td>\n",
              "      <td>0</td>\n",
              "      <td>0</td>\n",
              "      <td>0</td>\n",
              "    </tr>\n",
              "    <tr>\n",
              "      <th>2</th>\n",
              "      <td>0</td>\n",
              "      <td>0</td>\n",
              "      <td>0</td>\n",
              "      <td>0</td>\n",
              "      <td>0</td>\n",
              "      <td>0</td>\n",
              "      <td>0</td>\n",
              "      <td>0</td>\n",
              "      <td>0</td>\n",
              "      <td>0</td>\n",
              "      <td>0</td>\n",
              "      <td>0</td>\n",
              "      <td>0</td>\n",
              "      <td>0</td>\n",
              "      <td>0</td>\n",
              "      <td>0</td>\n",
              "      <td>0</td>\n",
              "      <td>0</td>\n",
              "      <td>0</td>\n",
              "      <td>0</td>\n",
              "      <td>0</td>\n",
              "      <td>0</td>\n",
              "      <td>0</td>\n",
              "      <td>0</td>\n",
              "      <td>0</td>\n",
              "      <td>0</td>\n",
              "      <td>0</td>\n",
              "      <td>0</td>\n",
              "      <td>0</td>\n",
              "      <td>0</td>\n",
              "      <td>0</td>\n",
              "      <td>0</td>\n",
              "      <td>0</td>\n",
              "      <td>0</td>\n",
              "      <td>1</td>\n",
              "      <td>0</td>\n",
              "      <td>0</td>\n",
              "      <td>0</td>\n",
              "      <td>0</td>\n",
              "      <td>0</td>\n",
              "      <td>...</td>\n",
              "      <td>0</td>\n",
              "      <td>1</td>\n",
              "      <td>0</td>\n",
              "      <td>0</td>\n",
              "      <td>0</td>\n",
              "      <td>1</td>\n",
              "      <td>0</td>\n",
              "      <td>0</td>\n",
              "      <td>0</td>\n",
              "      <td>0</td>\n",
              "      <td>0</td>\n",
              "      <td>0</td>\n",
              "      <td>0</td>\n",
              "      <td>0</td>\n",
              "      <td>0</td>\n",
              "      <td>0</td>\n",
              "      <td>0</td>\n",
              "      <td>0</td>\n",
              "      <td>0</td>\n",
              "      <td>0</td>\n",
              "      <td>0</td>\n",
              "      <td>0</td>\n",
              "      <td>0</td>\n",
              "      <td>0</td>\n",
              "      <td>0</td>\n",
              "      <td>0</td>\n",
              "      <td>0</td>\n",
              "      <td>0</td>\n",
              "      <td>0</td>\n",
              "      <td>1</td>\n",
              "      <td>0</td>\n",
              "      <td>0</td>\n",
              "      <td>0</td>\n",
              "      <td>0</td>\n",
              "      <td>1</td>\n",
              "      <td>0</td>\n",
              "      <td>0</td>\n",
              "      <td>0</td>\n",
              "      <td>0</td>\n",
              "      <td>0</td>\n",
              "    </tr>\n",
              "    <tr>\n",
              "      <th>3</th>\n",
              "      <td>0</td>\n",
              "      <td>0</td>\n",
              "      <td>0</td>\n",
              "      <td>0</td>\n",
              "      <td>0</td>\n",
              "      <td>0</td>\n",
              "      <td>0</td>\n",
              "      <td>0</td>\n",
              "      <td>0</td>\n",
              "      <td>0</td>\n",
              "      <td>0</td>\n",
              "      <td>0</td>\n",
              "      <td>0</td>\n",
              "      <td>0</td>\n",
              "      <td>0</td>\n",
              "      <td>0</td>\n",
              "      <td>0</td>\n",
              "      <td>0</td>\n",
              "      <td>0</td>\n",
              "      <td>0</td>\n",
              "      <td>0</td>\n",
              "      <td>0</td>\n",
              "      <td>0</td>\n",
              "      <td>0</td>\n",
              "      <td>0</td>\n",
              "      <td>0</td>\n",
              "      <td>0</td>\n",
              "      <td>0</td>\n",
              "      <td>0</td>\n",
              "      <td>0</td>\n",
              "      <td>0</td>\n",
              "      <td>0</td>\n",
              "      <td>0</td>\n",
              "      <td>0</td>\n",
              "      <td>0</td>\n",
              "      <td>0</td>\n",
              "      <td>0</td>\n",
              "      <td>3</td>\n",
              "      <td>0</td>\n",
              "      <td>0</td>\n",
              "      <td>...</td>\n",
              "      <td>0</td>\n",
              "      <td>0</td>\n",
              "      <td>0</td>\n",
              "      <td>0</td>\n",
              "      <td>0</td>\n",
              "      <td>0</td>\n",
              "      <td>0</td>\n",
              "      <td>0</td>\n",
              "      <td>0</td>\n",
              "      <td>0</td>\n",
              "      <td>0</td>\n",
              "      <td>0</td>\n",
              "      <td>0</td>\n",
              "      <td>0</td>\n",
              "      <td>0</td>\n",
              "      <td>0</td>\n",
              "      <td>0</td>\n",
              "      <td>0</td>\n",
              "      <td>0</td>\n",
              "      <td>0</td>\n",
              "      <td>0</td>\n",
              "      <td>0</td>\n",
              "      <td>0</td>\n",
              "      <td>0</td>\n",
              "      <td>0</td>\n",
              "      <td>0</td>\n",
              "      <td>0</td>\n",
              "      <td>0</td>\n",
              "      <td>0</td>\n",
              "      <td>0</td>\n",
              "      <td>0</td>\n",
              "      <td>0</td>\n",
              "      <td>0</td>\n",
              "      <td>2</td>\n",
              "      <td>0</td>\n",
              "      <td>0</td>\n",
              "      <td>0</td>\n",
              "      <td>0</td>\n",
              "      <td>2</td>\n",
              "      <td>0</td>\n",
              "    </tr>\n",
              "    <tr>\n",
              "      <th>4</th>\n",
              "      <td>0</td>\n",
              "      <td>0</td>\n",
              "      <td>2</td>\n",
              "      <td>0</td>\n",
              "      <td>0</td>\n",
              "      <td>0</td>\n",
              "      <td>0</td>\n",
              "      <td>0</td>\n",
              "      <td>0</td>\n",
              "      <td>1</td>\n",
              "      <td>1</td>\n",
              "      <td>0</td>\n",
              "      <td>0</td>\n",
              "      <td>0</td>\n",
              "      <td>0</td>\n",
              "      <td>0</td>\n",
              "      <td>0</td>\n",
              "      <td>0</td>\n",
              "      <td>0</td>\n",
              "      <td>0</td>\n",
              "      <td>0</td>\n",
              "      <td>0</td>\n",
              "      <td>0</td>\n",
              "      <td>0</td>\n",
              "      <td>0</td>\n",
              "      <td>0</td>\n",
              "      <td>0</td>\n",
              "      <td>0</td>\n",
              "      <td>0</td>\n",
              "      <td>0</td>\n",
              "      <td>0</td>\n",
              "      <td>0</td>\n",
              "      <td>0</td>\n",
              "      <td>0</td>\n",
              "      <td>0</td>\n",
              "      <td>0</td>\n",
              "      <td>1</td>\n",
              "      <td>2</td>\n",
              "      <td>0</td>\n",
              "      <td>0</td>\n",
              "      <td>...</td>\n",
              "      <td>0</td>\n",
              "      <td>0</td>\n",
              "      <td>0</td>\n",
              "      <td>0</td>\n",
              "      <td>0</td>\n",
              "      <td>0</td>\n",
              "      <td>0</td>\n",
              "      <td>0</td>\n",
              "      <td>1</td>\n",
              "      <td>0</td>\n",
              "      <td>0</td>\n",
              "      <td>0</td>\n",
              "      <td>1</td>\n",
              "      <td>0</td>\n",
              "      <td>0</td>\n",
              "      <td>0</td>\n",
              "      <td>0</td>\n",
              "      <td>0</td>\n",
              "      <td>0</td>\n",
              "      <td>0</td>\n",
              "      <td>0</td>\n",
              "      <td>0</td>\n",
              "      <td>0</td>\n",
              "      <td>0</td>\n",
              "      <td>0</td>\n",
              "      <td>0</td>\n",
              "      <td>0</td>\n",
              "      <td>0</td>\n",
              "      <td>0</td>\n",
              "      <td>0</td>\n",
              "      <td>0</td>\n",
              "      <td>0</td>\n",
              "      <td>1</td>\n",
              "      <td>0</td>\n",
              "      <td>0</td>\n",
              "      <td>0</td>\n",
              "      <td>0</td>\n",
              "      <td>0</td>\n",
              "      <td>0</td>\n",
              "      <td>0</td>\n",
              "    </tr>\n",
              "    <tr>\n",
              "      <th>...</th>\n",
              "      <td>...</td>\n",
              "      <td>...</td>\n",
              "      <td>...</td>\n",
              "      <td>...</td>\n",
              "      <td>...</td>\n",
              "      <td>...</td>\n",
              "      <td>...</td>\n",
              "      <td>...</td>\n",
              "      <td>...</td>\n",
              "      <td>...</td>\n",
              "      <td>...</td>\n",
              "      <td>...</td>\n",
              "      <td>...</td>\n",
              "      <td>...</td>\n",
              "      <td>...</td>\n",
              "      <td>...</td>\n",
              "      <td>...</td>\n",
              "      <td>...</td>\n",
              "      <td>...</td>\n",
              "      <td>...</td>\n",
              "      <td>...</td>\n",
              "      <td>...</td>\n",
              "      <td>...</td>\n",
              "      <td>...</td>\n",
              "      <td>...</td>\n",
              "      <td>...</td>\n",
              "      <td>...</td>\n",
              "      <td>...</td>\n",
              "      <td>...</td>\n",
              "      <td>...</td>\n",
              "      <td>...</td>\n",
              "      <td>...</td>\n",
              "      <td>...</td>\n",
              "      <td>...</td>\n",
              "      <td>...</td>\n",
              "      <td>...</td>\n",
              "      <td>...</td>\n",
              "      <td>...</td>\n",
              "      <td>...</td>\n",
              "      <td>...</td>\n",
              "      <td>...</td>\n",
              "      <td>...</td>\n",
              "      <td>...</td>\n",
              "      <td>...</td>\n",
              "      <td>...</td>\n",
              "      <td>...</td>\n",
              "      <td>...</td>\n",
              "      <td>...</td>\n",
              "      <td>...</td>\n",
              "      <td>...</td>\n",
              "      <td>...</td>\n",
              "      <td>...</td>\n",
              "      <td>...</td>\n",
              "      <td>...</td>\n",
              "      <td>...</td>\n",
              "      <td>...</td>\n",
              "      <td>...</td>\n",
              "      <td>...</td>\n",
              "      <td>...</td>\n",
              "      <td>...</td>\n",
              "      <td>...</td>\n",
              "      <td>...</td>\n",
              "      <td>...</td>\n",
              "      <td>...</td>\n",
              "      <td>...</td>\n",
              "      <td>...</td>\n",
              "      <td>...</td>\n",
              "      <td>...</td>\n",
              "      <td>...</td>\n",
              "      <td>...</td>\n",
              "      <td>...</td>\n",
              "      <td>...</td>\n",
              "      <td>...</td>\n",
              "      <td>...</td>\n",
              "      <td>...</td>\n",
              "      <td>...</td>\n",
              "      <td>...</td>\n",
              "      <td>...</td>\n",
              "      <td>...</td>\n",
              "      <td>...</td>\n",
              "      <td>...</td>\n",
              "    </tr>\n",
              "    <tr>\n",
              "      <th>49995</th>\n",
              "      <td>0</td>\n",
              "      <td>0</td>\n",
              "      <td>1</td>\n",
              "      <td>0</td>\n",
              "      <td>0</td>\n",
              "      <td>0</td>\n",
              "      <td>0</td>\n",
              "      <td>0</td>\n",
              "      <td>0</td>\n",
              "      <td>0</td>\n",
              "      <td>0</td>\n",
              "      <td>0</td>\n",
              "      <td>0</td>\n",
              "      <td>0</td>\n",
              "      <td>0</td>\n",
              "      <td>0</td>\n",
              "      <td>0</td>\n",
              "      <td>0</td>\n",
              "      <td>0</td>\n",
              "      <td>0</td>\n",
              "      <td>0</td>\n",
              "      <td>0</td>\n",
              "      <td>0</td>\n",
              "      <td>0</td>\n",
              "      <td>0</td>\n",
              "      <td>0</td>\n",
              "      <td>0</td>\n",
              "      <td>0</td>\n",
              "      <td>0</td>\n",
              "      <td>0</td>\n",
              "      <td>0</td>\n",
              "      <td>0</td>\n",
              "      <td>0</td>\n",
              "      <td>0</td>\n",
              "      <td>0</td>\n",
              "      <td>0</td>\n",
              "      <td>0</td>\n",
              "      <td>2</td>\n",
              "      <td>0</td>\n",
              "      <td>0</td>\n",
              "      <td>...</td>\n",
              "      <td>0</td>\n",
              "      <td>0</td>\n",
              "      <td>0</td>\n",
              "      <td>0</td>\n",
              "      <td>0</td>\n",
              "      <td>0</td>\n",
              "      <td>0</td>\n",
              "      <td>0</td>\n",
              "      <td>0</td>\n",
              "      <td>0</td>\n",
              "      <td>0</td>\n",
              "      <td>0</td>\n",
              "      <td>0</td>\n",
              "      <td>0</td>\n",
              "      <td>0</td>\n",
              "      <td>0</td>\n",
              "      <td>0</td>\n",
              "      <td>0</td>\n",
              "      <td>0</td>\n",
              "      <td>0</td>\n",
              "      <td>0</td>\n",
              "      <td>0</td>\n",
              "      <td>0</td>\n",
              "      <td>0</td>\n",
              "      <td>0</td>\n",
              "      <td>0</td>\n",
              "      <td>0</td>\n",
              "      <td>0</td>\n",
              "      <td>0</td>\n",
              "      <td>0</td>\n",
              "      <td>0</td>\n",
              "      <td>0</td>\n",
              "      <td>0</td>\n",
              "      <td>2</td>\n",
              "      <td>0</td>\n",
              "      <td>0</td>\n",
              "      <td>1</td>\n",
              "      <td>3</td>\n",
              "      <td>0</td>\n",
              "      <td>0</td>\n",
              "    </tr>\n",
              "    <tr>\n",
              "      <th>49996</th>\n",
              "      <td>0</td>\n",
              "      <td>0</td>\n",
              "      <td>0</td>\n",
              "      <td>0</td>\n",
              "      <td>0</td>\n",
              "      <td>0</td>\n",
              "      <td>0</td>\n",
              "      <td>0</td>\n",
              "      <td>0</td>\n",
              "      <td>1</td>\n",
              "      <td>0</td>\n",
              "      <td>0</td>\n",
              "      <td>0</td>\n",
              "      <td>0</td>\n",
              "      <td>0</td>\n",
              "      <td>0</td>\n",
              "      <td>0</td>\n",
              "      <td>0</td>\n",
              "      <td>0</td>\n",
              "      <td>0</td>\n",
              "      <td>0</td>\n",
              "      <td>0</td>\n",
              "      <td>0</td>\n",
              "      <td>0</td>\n",
              "      <td>0</td>\n",
              "      <td>0</td>\n",
              "      <td>0</td>\n",
              "      <td>0</td>\n",
              "      <td>0</td>\n",
              "      <td>0</td>\n",
              "      <td>0</td>\n",
              "      <td>0</td>\n",
              "      <td>0</td>\n",
              "      <td>0</td>\n",
              "      <td>0</td>\n",
              "      <td>0</td>\n",
              "      <td>0</td>\n",
              "      <td>1</td>\n",
              "      <td>0</td>\n",
              "      <td>0</td>\n",
              "      <td>...</td>\n",
              "      <td>0</td>\n",
              "      <td>0</td>\n",
              "      <td>0</td>\n",
              "      <td>0</td>\n",
              "      <td>0</td>\n",
              "      <td>0</td>\n",
              "      <td>0</td>\n",
              "      <td>0</td>\n",
              "      <td>0</td>\n",
              "      <td>0</td>\n",
              "      <td>0</td>\n",
              "      <td>0</td>\n",
              "      <td>0</td>\n",
              "      <td>0</td>\n",
              "      <td>0</td>\n",
              "      <td>0</td>\n",
              "      <td>0</td>\n",
              "      <td>0</td>\n",
              "      <td>0</td>\n",
              "      <td>0</td>\n",
              "      <td>0</td>\n",
              "      <td>0</td>\n",
              "      <td>0</td>\n",
              "      <td>0</td>\n",
              "      <td>0</td>\n",
              "      <td>0</td>\n",
              "      <td>0</td>\n",
              "      <td>0</td>\n",
              "      <td>0</td>\n",
              "      <td>0</td>\n",
              "      <td>0</td>\n",
              "      <td>0</td>\n",
              "      <td>0</td>\n",
              "      <td>1</td>\n",
              "      <td>0</td>\n",
              "      <td>0</td>\n",
              "      <td>0</td>\n",
              "      <td>0</td>\n",
              "      <td>0</td>\n",
              "      <td>0</td>\n",
              "    </tr>\n",
              "    <tr>\n",
              "      <th>49997</th>\n",
              "      <td>0</td>\n",
              "      <td>0</td>\n",
              "      <td>0</td>\n",
              "      <td>0</td>\n",
              "      <td>0</td>\n",
              "      <td>0</td>\n",
              "      <td>0</td>\n",
              "      <td>1</td>\n",
              "      <td>0</td>\n",
              "      <td>1</td>\n",
              "      <td>0</td>\n",
              "      <td>0</td>\n",
              "      <td>0</td>\n",
              "      <td>0</td>\n",
              "      <td>0</td>\n",
              "      <td>0</td>\n",
              "      <td>0</td>\n",
              "      <td>0</td>\n",
              "      <td>0</td>\n",
              "      <td>0</td>\n",
              "      <td>0</td>\n",
              "      <td>0</td>\n",
              "      <td>0</td>\n",
              "      <td>0</td>\n",
              "      <td>0</td>\n",
              "      <td>0</td>\n",
              "      <td>0</td>\n",
              "      <td>0</td>\n",
              "      <td>0</td>\n",
              "      <td>0</td>\n",
              "      <td>0</td>\n",
              "      <td>0</td>\n",
              "      <td>0</td>\n",
              "      <td>0</td>\n",
              "      <td>0</td>\n",
              "      <td>0</td>\n",
              "      <td>0</td>\n",
              "      <td>1</td>\n",
              "      <td>0</td>\n",
              "      <td>0</td>\n",
              "      <td>...</td>\n",
              "      <td>0</td>\n",
              "      <td>0</td>\n",
              "      <td>0</td>\n",
              "      <td>0</td>\n",
              "      <td>0</td>\n",
              "      <td>0</td>\n",
              "      <td>0</td>\n",
              "      <td>0</td>\n",
              "      <td>0</td>\n",
              "      <td>0</td>\n",
              "      <td>0</td>\n",
              "      <td>0</td>\n",
              "      <td>0</td>\n",
              "      <td>0</td>\n",
              "      <td>0</td>\n",
              "      <td>0</td>\n",
              "      <td>0</td>\n",
              "      <td>1</td>\n",
              "      <td>0</td>\n",
              "      <td>0</td>\n",
              "      <td>0</td>\n",
              "      <td>0</td>\n",
              "      <td>0</td>\n",
              "      <td>0</td>\n",
              "      <td>0</td>\n",
              "      <td>1</td>\n",
              "      <td>0</td>\n",
              "      <td>0</td>\n",
              "      <td>0</td>\n",
              "      <td>0</td>\n",
              "      <td>0</td>\n",
              "      <td>0</td>\n",
              "      <td>0</td>\n",
              "      <td>0</td>\n",
              "      <td>0</td>\n",
              "      <td>0</td>\n",
              "      <td>0</td>\n",
              "      <td>0</td>\n",
              "      <td>0</td>\n",
              "      <td>0</td>\n",
              "    </tr>\n",
              "    <tr>\n",
              "      <th>49998</th>\n",
              "      <td>0</td>\n",
              "      <td>0</td>\n",
              "      <td>2</td>\n",
              "      <td>0</td>\n",
              "      <td>0</td>\n",
              "      <td>0</td>\n",
              "      <td>1</td>\n",
              "      <td>0</td>\n",
              "      <td>0</td>\n",
              "      <td>0</td>\n",
              "      <td>0</td>\n",
              "      <td>0</td>\n",
              "      <td>0</td>\n",
              "      <td>0</td>\n",
              "      <td>0</td>\n",
              "      <td>0</td>\n",
              "      <td>0</td>\n",
              "      <td>0</td>\n",
              "      <td>0</td>\n",
              "      <td>0</td>\n",
              "      <td>0</td>\n",
              "      <td>0</td>\n",
              "      <td>0</td>\n",
              "      <td>0</td>\n",
              "      <td>0</td>\n",
              "      <td>0</td>\n",
              "      <td>0</td>\n",
              "      <td>0</td>\n",
              "      <td>0</td>\n",
              "      <td>0</td>\n",
              "      <td>0</td>\n",
              "      <td>0</td>\n",
              "      <td>0</td>\n",
              "      <td>0</td>\n",
              "      <td>0</td>\n",
              "      <td>0</td>\n",
              "      <td>0</td>\n",
              "      <td>1</td>\n",
              "      <td>0</td>\n",
              "      <td>0</td>\n",
              "      <td>...</td>\n",
              "      <td>0</td>\n",
              "      <td>1</td>\n",
              "      <td>0</td>\n",
              "      <td>0</td>\n",
              "      <td>0</td>\n",
              "      <td>0</td>\n",
              "      <td>0</td>\n",
              "      <td>0</td>\n",
              "      <td>0</td>\n",
              "      <td>0</td>\n",
              "      <td>0</td>\n",
              "      <td>0</td>\n",
              "      <td>0</td>\n",
              "      <td>0</td>\n",
              "      <td>0</td>\n",
              "      <td>0</td>\n",
              "      <td>0</td>\n",
              "      <td>1</td>\n",
              "      <td>0</td>\n",
              "      <td>0</td>\n",
              "      <td>0</td>\n",
              "      <td>0</td>\n",
              "      <td>0</td>\n",
              "      <td>0</td>\n",
              "      <td>0</td>\n",
              "      <td>0</td>\n",
              "      <td>0</td>\n",
              "      <td>0</td>\n",
              "      <td>0</td>\n",
              "      <td>0</td>\n",
              "      <td>0</td>\n",
              "      <td>0</td>\n",
              "      <td>0</td>\n",
              "      <td>1</td>\n",
              "      <td>0</td>\n",
              "      <td>0</td>\n",
              "      <td>0</td>\n",
              "      <td>0</td>\n",
              "      <td>0</td>\n",
              "      <td>0</td>\n",
              "    </tr>\n",
              "    <tr>\n",
              "      <th>49999</th>\n",
              "      <td>0</td>\n",
              "      <td>0</td>\n",
              "      <td>1</td>\n",
              "      <td>0</td>\n",
              "      <td>0</td>\n",
              "      <td>0</td>\n",
              "      <td>0</td>\n",
              "      <td>0</td>\n",
              "      <td>0</td>\n",
              "      <td>0</td>\n",
              "      <td>0</td>\n",
              "      <td>0</td>\n",
              "      <td>0</td>\n",
              "      <td>0</td>\n",
              "      <td>0</td>\n",
              "      <td>0</td>\n",
              "      <td>0</td>\n",
              "      <td>0</td>\n",
              "      <td>0</td>\n",
              "      <td>0</td>\n",
              "      <td>0</td>\n",
              "      <td>0</td>\n",
              "      <td>0</td>\n",
              "      <td>0</td>\n",
              "      <td>0</td>\n",
              "      <td>0</td>\n",
              "      <td>0</td>\n",
              "      <td>0</td>\n",
              "      <td>0</td>\n",
              "      <td>0</td>\n",
              "      <td>0</td>\n",
              "      <td>0</td>\n",
              "      <td>0</td>\n",
              "      <td>0</td>\n",
              "      <td>0</td>\n",
              "      <td>0</td>\n",
              "      <td>0</td>\n",
              "      <td>1</td>\n",
              "      <td>0</td>\n",
              "      <td>0</td>\n",
              "      <td>...</td>\n",
              "      <td>0</td>\n",
              "      <td>0</td>\n",
              "      <td>0</td>\n",
              "      <td>0</td>\n",
              "      <td>0</td>\n",
              "      <td>0</td>\n",
              "      <td>0</td>\n",
              "      <td>0</td>\n",
              "      <td>0</td>\n",
              "      <td>0</td>\n",
              "      <td>0</td>\n",
              "      <td>0</td>\n",
              "      <td>0</td>\n",
              "      <td>0</td>\n",
              "      <td>1</td>\n",
              "      <td>2</td>\n",
              "      <td>0</td>\n",
              "      <td>1</td>\n",
              "      <td>0</td>\n",
              "      <td>0</td>\n",
              "      <td>0</td>\n",
              "      <td>0</td>\n",
              "      <td>0</td>\n",
              "      <td>0</td>\n",
              "      <td>0</td>\n",
              "      <td>0</td>\n",
              "      <td>0</td>\n",
              "      <td>0</td>\n",
              "      <td>0</td>\n",
              "      <td>0</td>\n",
              "      <td>0</td>\n",
              "      <td>0</td>\n",
              "      <td>0</td>\n",
              "      <td>1</td>\n",
              "      <td>0</td>\n",
              "      <td>0</td>\n",
              "      <td>0</td>\n",
              "      <td>0</td>\n",
              "      <td>0</td>\n",
              "      <td>0</td>\n",
              "    </tr>\n",
              "  </tbody>\n",
              "</table>\n",
              "<p>50000 rows × 1500 columns</p>\n",
              "</div>"
            ],
            "text/plain": [
              "       ability  able  about  above  ...  your  yourself  zombie  zombies\n",
              "0            0     0      1      0  ...     1         0       0        0\n",
              "1            0     0      1      0  ...     0         0       0        0\n",
              "2            0     0      0      0  ...     0         0       0        0\n",
              "3            0     0      0      0  ...     0         0       2        0\n",
              "4            0     0      2      0  ...     0         0       0        0\n",
              "...        ...   ...    ...    ...  ...   ...       ...     ...      ...\n",
              "49995        0     0      1      0  ...     1         3       0        0\n",
              "49996        0     0      0      0  ...     0         0       0        0\n",
              "49997        0     0      0      0  ...     0         0       0        0\n",
              "49998        0     0      2      0  ...     0         0       0        0\n",
              "49999        0     0      1      0  ...     0         0       0        0\n",
              "\n",
              "[50000 rows x 1500 columns]"
            ]
          },
          "metadata": {
            "tags": []
          },
          "execution_count": 19
        }
      ]
    },
    {
      "cell_type": "code",
      "metadata": {
        "id": "-AglMJ90elxR",
        "colab_type": "code",
        "outputId": "699c626d-0b7b-4787-a1c3-faaba36c8043",
        "colab": {
          "base_uri": "https://localhost:8080/",
          "height": 34
        }
      },
      "source": [
        "# convert classes to number\n",
        "encoder = LabelEncoder()\n",
        "y = encoder.fit_transform(data['sentiment'])\n",
        "y"
      ],
      "execution_count": 20,
      "outputs": [
        {
          "output_type": "execute_result",
          "data": {
            "text/plain": [
              "array([1, 1, 1, ..., 0, 0, 0])"
            ]
          },
          "metadata": {
            "tags": []
          },
          "execution_count": 20
        }
      ]
    },
    {
      "cell_type": "code",
      "metadata": {
        "id": "MjE9Olq7ento",
        "colab_type": "code",
        "colab": {}
      },
      "source": [
        "X_train, X_test, y_train, y_test = train_test_split(X,y, test_size =0.2, random_state=42)\n"
      ],
      "execution_count": 0,
      "outputs": []
    },
    {
      "cell_type": "markdown",
      "metadata": {
        "id": "cLPU03d4f8aT",
        "colab_type": "text"
      },
      "source": [
        "## Build classifier model"
      ]
    },
    {
      "cell_type": "markdown",
      "metadata": {
        "id": "-OE9xqLvRton",
        "colab_type": "text"
      },
      "source": [
        "### Training model"
      ]
    },
    {
      "cell_type": "code",
      "metadata": {
        "id": "E3lksI3sgWdc",
        "colab_type": "code",
        "outputId": "9632d47f-f34c-471e-cb78-d06e75291c01",
        "colab": {
          "base_uri": "https://localhost:8080/",
          "height": 34
        }
      },
      "source": [
        "# Define Gauusian Naive bayes\n",
        "model = GaussianNB()\n",
        "\n",
        "# train model\n",
        "model.fit(X_train, y_train) "
      ],
      "execution_count": 22,
      "outputs": [
        {
          "output_type": "execute_result",
          "data": {
            "text/plain": [
              "GaussianNB(priors=None, var_smoothing=1e-09)"
            ]
          },
          "metadata": {
            "tags": []
          },
          "execution_count": 22
        }
      ]
    },
    {
      "cell_type": "markdown",
      "metadata": {
        "id": "km_lP1M5Roxm",
        "colab_type": "text"
      },
      "source": [
        "### Evaluate model"
      ]
    },
    {
      "cell_type": "code",
      "metadata": {
        "id": "GmRkPpPhgfdj",
        "colab_type": "code",
        "outputId": "d6878b6c-ff8b-485f-9ce3-651bd4030c3d",
        "colab": {
          "base_uri": "https://localhost:8080/",
          "height": 34
        }
      },
      "source": [
        "# Predicting the Test set results \n",
        "y_pred = model.predict(X_test) \n",
        "y_pred"
      ],
      "execution_count": 23,
      "outputs": [
        {
          "output_type": "execute_result",
          "data": {
            "text/plain": [
              "array([0, 1, 0, ..., 1, 0, 0])"
            ]
          },
          "metadata": {
            "tags": []
          },
          "execution_count": 23
        }
      ]
    },
    {
      "cell_type": "code",
      "metadata": {
        "id": "q37egok4jgmM",
        "colab_type": "code",
        "outputId": "fc4b06f9-b698-4d34-e698-3fb735519173",
        "colab": {
          "base_uri": "https://localhost:8080/",
          "height": 34
        }
      },
      "source": [
        "\n",
        "print('Test model accuracy: ',accuracy_score(y_test, y_pred))"
      ],
      "execution_count": 24,
      "outputs": [
        {
          "output_type": "stream",
          "text": [
            "Test model accuracy:  0.799\n"
          ],
          "name": "stdout"
        }
      ]
    },
    {
      "cell_type": "markdown",
      "metadata": {
        "id": "hp4wX7_9Ry7h",
        "colab_type": "text"
      },
      "source": [
        "### Test with new review"
      ]
    },
    {
      "cell_type": "code",
      "metadata": {
        "id": "mHghfxwnqRR6",
        "colab_type": "code",
        "outputId": "047e2155-072e-4f40-a6b4-116baf574c0d",
        "colab": {
          "base_uri": "https://localhost:8080/",
          "height": 34
        }
      },
      "source": [
        "# input statment\n",
        "test_review = ['This is a bad movie'] \n",
        "\n",
        "# convert to number\n",
        "test_vector = count_vector.transform(test_review)\n",
        "test_vector = test_vector.toarray()\n",
        "\n",
        "## encodeing predict class\n",
        "text_predict_class = encoder.inverse_transform(model.predict(test_vector))\n",
        "print(test_review[0], 'is: ',text_predict_class[0])"
      ],
      "execution_count": 25,
      "outputs": [
        {
          "output_type": "stream",
          "text": [
            "This is a bad movie is:  negative\n"
          ],
          "name": "stdout"
        }
      ]
    },
    {
      "cell_type": "code",
      "metadata": {
        "id": "aKfvm_x9c7OM",
        "colab_type": "code",
        "colab": {}
      },
      "source": [
        ""
      ],
      "execution_count": 0,
      "outputs": []
    }
  ]
}
