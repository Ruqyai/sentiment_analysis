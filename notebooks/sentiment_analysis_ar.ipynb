{
  "nbformat": 4,
  "nbformat_minor": 0,
  "metadata": {
    "colab": {
      "name": "NLP-arabic.ipynb",
      "provenance": [],
      "collapsed_sections": [],
      "toc_visible": true
    },
    "kernelspec": {
      "name": "python3",
      "display_name": "Python 3"
    },
    "accelerator": "GPU"
  },
  "cells": [
    {
      "cell_type": "markdown",
      "metadata": {
        "id": "0C1wIVTo499N",
        "colab_type": "text"
      },
      "source": [
        "# This notebook to build a sentiment analysis for Movies dataset."
      ]
    },
    {
      "cell_type": "markdown",
      "metadata": {
        "id": "vVkhGGcu5Cdx",
        "colab_type": "text"
      },
      "source": [
        "### Import necessary libraries"
      ]
    },
    {
      "cell_type": "code",
      "metadata": {
        "id": "fDOxzvhG-mSV",
        "colab_type": "code",
        "outputId": "faaa9c78-9196-4b13-b789-80e5471d63fd",
        "colab": {
          "base_uri": "https://localhost:8080/",
          "height": 218
        }
      },
      "source": [
        "import pandas as pd # for reading csv file\n",
        "import re # for preprocessing text\n",
        "import string # for preprocessing text\n",
        "from sklearn.feature_extraction.text import CountVectorizer # to create Bag of words\n",
        "from sklearn.model_selection import train_test_split  # for splitting data\n",
        "from sklearn.naive_bayes import GaussianNB # to bulid classifier model\n",
        "from sklearn.preprocessing import LabelEncoder # to convert classes to number \n",
        "from sklearn.metrics import accuracy_score # to calculate accuracy\n",
        "import nltk # for processing texts\n",
        "from nltk.corpus import stopwords # list of stop words\n",
        "nltk.download('punkt')\n",
        "nltk.download('stopwords')\n",
        "nltk.download('wordnet')\n",
        "\n",
        "# douwnload data\n",
        "!wget https://raw.githubusercontent.com/ZarahShibli/sentiment_analysis/data/bbn_shared_2.csv\n"
      ],
      "execution_count": 185,
      "outputs": [
        {
          "output_type": "stream",
          "text": [
            "[nltk_data] Downloading package punkt to /root/nltk_data...\n",
            "[nltk_data]   Package punkt is already up-to-date!\n",
            "[nltk_data] Downloading package stopwords to /root/nltk_data...\n",
            "[nltk_data]   Package stopwords is already up-to-date!\n",
            "[nltk_data] Downloading package wordnet to /root/nltk_data...\n",
            "[nltk_data]   Package wordnet is already up-to-date!\n",
            "--2020-03-05 13:42:25--  https://raw.githubusercontent.com/ZarahShibli/sentiment_analysis/data/bbn_shared-2.csv\n",
            "Resolving raw.githubusercontent.com (raw.githubusercontent.com)... 151.101.0.133, 151.101.64.133, 151.101.128.133, ...\n",
            "Connecting to raw.githubusercontent.com (raw.githubusercontent.com)|151.101.0.133|:443... connected.\n",
            "HTTP request sent, awaiting response... 404 Not Found\n",
            "2020-03-05 13:42:25 ERROR 404: Not Found.\n",
            "\n"
          ],
          "name": "stdout"
        }
      ]
    },
    {
      "cell_type": "markdown",
      "metadata": {
        "id": "gZ0mPf1i5SbR",
        "colab_type": "text"
      },
      "source": [
        "## Model Architecture\n",
        "\n",
        "![Model steps](https://user-images.githubusercontent.com/42017072/75925841-7890d480-5e7a-11ea-8311-576a5ec34e20.png)\n"
      ]
    },
    {
      "cell_type": "markdown",
      "metadata": {
        "id": "6CpwIohV5USN",
        "colab_type": "text"
      },
      "source": [
        "## Read data\n",
        "[BBN Blog Posts Sentiment Corpus](https://saifmohammad.com/WebPages/ArabicSA.html) contains A random subset of 1200 sentences chosen from the BBN Arabic-Dialect–English Parallel Text."
      ]
    },
    {
      "cell_type": "code",
      "metadata": {
        "id": "iUIfP0Oe_aHH",
        "colab_type": "code",
        "outputId": "446d82bb-913d-4625-b99d-e52aee60694a",
        "colab": {
          "base_uri": "https://localhost:8080/",
          "height": 195
        }
      },
      "source": [
        "data = pd.read_csv(r\"bbn_shared_2.csv\")\n",
        "data.head()"
      ],
      "execution_count": 186,
      "outputs": [
        {
          "output_type": "execute_result",
          "data": {
            "text/html": [
              "<div>\n",
              "<style scoped>\n",
              "    .dataframe tbody tr th:only-of-type {\n",
              "        vertical-align: middle;\n",
              "    }\n",
              "\n",
              "    .dataframe tbody tr th {\n",
              "        vertical-align: top;\n",
              "    }\n",
              "\n",
              "    .dataframe thead th {\n",
              "        text-align: right;\n",
              "    }\n",
              "</style>\n",
              "<table border=\"1\" class=\"dataframe\">\n",
              "  <thead>\n",
              "    <tr style=\"text-align: right;\">\n",
              "      <th></th>\n",
              "      <th>Arabic_text</th>\n",
              "      <th>ar:manual_sentiment</th>\n",
              "      <th>ar:manual_confidence</th>\n",
              "    </tr>\n",
              "  </thead>\n",
              "  <tbody>\n",
              "    <tr>\n",
              "      <th>0</th>\n",
              "      <td>خصوصا الشركات لأنو رح تكون هدف سهل لمحاولت اخت...</td>\n",
              "      <td>Negative</td>\n",
              "      <td>0.8231</td>\n",
              "    </tr>\n",
              "    <tr>\n",
              "      <th>1</th>\n",
              "      <td>ألفين مبروك أخي تميم يعني والله بتستاهل فعلاً ...</td>\n",
              "      <td>Positive</td>\n",
              "      <td>1.0000</td>\n",
              "    </tr>\n",
              "    <tr>\n",
              "      <th>2</th>\n",
              "      <td>يآأاساتر مين هووون بشوووف</td>\n",
              "      <td>Negative</td>\n",
              "      <td>0.7474</td>\n",
              "    </tr>\n",
              "    <tr>\n",
              "      <th>3</th>\n",
              "      <td>يعني اذا كنت انا صاحب شركة كمان ما رح اخد غير ...</td>\n",
              "      <td>Positive</td>\n",
              "      <td>0.4961</td>\n",
              "    </tr>\n",
              "    <tr>\n",
              "      <th>4</th>\n",
              "      <td>وحتى بالعدوان كانوا شركاء في مجزرة مروحين ...</td>\n",
              "      <td>Negative</td>\n",
              "      <td>0.9124</td>\n",
              "    </tr>\n",
              "  </tbody>\n",
              "</table>\n",
              "</div>"
            ],
            "text/plain": [
              "                                         Arabic_text  ... ar:manual_confidence\n",
              "0  خصوصا الشركات لأنو رح تكون هدف سهل لمحاولت اخت...  ...               0.8231\n",
              "1  ألفين مبروك أخي تميم يعني والله بتستاهل فعلاً ...  ...               1.0000\n",
              "2                         يآأاساتر مين هووون بشوووف   ...               0.7474\n",
              "3  يعني اذا كنت انا صاحب شركة كمان ما رح اخد غير ...  ...               0.4961\n",
              "4     وحتى بالعدوان كانوا شركاء في مجزرة مروحين ...   ...               0.9124\n",
              "\n",
              "[5 rows x 3 columns]"
            ]
          },
          "metadata": {
            "tags": []
          },
          "execution_count": 186
        }
      ]
    },
    {
      "cell_type": "code",
      "metadata": {
        "id": "911DNhjLy9kp",
        "colab_type": "code",
        "colab": {
          "base_uri": "https://localhost:8080/",
          "height": 402
        },
        "outputId": "8f154488-59a1-4511-8e06-618828b106ea"
      },
      "source": [
        "data = data.drop(columns=['ar:manual_confidence']) # remove last column \n",
        "data = data.rename(columns={\"Arabic_text\": \"text\", \"ar:manual_sentiment\": \"sentiment\"}) # rename columns name\n",
        "data"
      ],
      "execution_count": 187,
      "outputs": [
        {
          "output_type": "execute_result",
          "data": {
            "text/html": [
              "<div>\n",
              "<style scoped>\n",
              "    .dataframe tbody tr th:only-of-type {\n",
              "        vertical-align: middle;\n",
              "    }\n",
              "\n",
              "    .dataframe tbody tr th {\n",
              "        vertical-align: top;\n",
              "    }\n",
              "\n",
              "    .dataframe thead th {\n",
              "        text-align: right;\n",
              "    }\n",
              "</style>\n",
              "<table border=\"1\" class=\"dataframe\">\n",
              "  <thead>\n",
              "    <tr style=\"text-align: right;\">\n",
              "      <th></th>\n",
              "      <th>text</th>\n",
              "      <th>sentiment</th>\n",
              "    </tr>\n",
              "  </thead>\n",
              "  <tbody>\n",
              "    <tr>\n",
              "      <th>0</th>\n",
              "      <td>خصوصا الشركات لأنو رح تكون هدف سهل لمحاولت اخت...</td>\n",
              "      <td>Negative</td>\n",
              "    </tr>\n",
              "    <tr>\n",
              "      <th>1</th>\n",
              "      <td>ألفين مبروك أخي تميم يعني والله بتستاهل فعلاً ...</td>\n",
              "      <td>Positive</td>\n",
              "    </tr>\n",
              "    <tr>\n",
              "      <th>2</th>\n",
              "      <td>يآأاساتر مين هووون بشوووف</td>\n",
              "      <td>Negative</td>\n",
              "    </tr>\n",
              "    <tr>\n",
              "      <th>3</th>\n",
              "      <td>يعني اذا كنت انا صاحب شركة كمان ما رح اخد غير ...</td>\n",
              "      <td>Positive</td>\n",
              "    </tr>\n",
              "    <tr>\n",
              "      <th>4</th>\n",
              "      <td>وحتى بالعدوان كانوا شركاء في مجزرة مروحين ...</td>\n",
              "      <td>Negative</td>\n",
              "    </tr>\n",
              "    <tr>\n",
              "      <th>...</th>\n",
              "      <td>...</td>\n",
              "      <td>...</td>\n",
              "    </tr>\n",
              "    <tr>\n",
              "      <th>1195</th>\n",
              "      <td>مما اضطرني الى حرقهاتصوروا ان اللهب ارتفع اعلى...</td>\n",
              "      <td>Negative</td>\n",
              "    </tr>\n",
              "    <tr>\n",
              "      <th>1196</th>\n",
              "      <td>ومأخوذين بتصرفات خارجية مبهرة ملهاش علاقة بالم...</td>\n",
              "      <td>Negative</td>\n",
              "    </tr>\n",
              "    <tr>\n",
              "      <th>1197</th>\n",
              "      <td>على هالطريق نفسو كنت مبارحة ومشيت ورا مرسيدس ف...</td>\n",
              "      <td>Neutral</td>\n",
              "    </tr>\n",
              "    <tr>\n",
              "      <th>1198</th>\n",
              "      <td>وبيعملو شي مفيد لانو وزيادة علييهم الحيوانات ..</td>\n",
              "      <td>Negative</td>\n",
              "    </tr>\n",
              "    <tr>\n",
              "      <th>1199</th>\n",
              "      <td>تصميم ٢ أنا عجبني كتير وناوي احجزه للمدام المس...</td>\n",
              "      <td>Positive</td>\n",
              "    </tr>\n",
              "  </tbody>\n",
              "</table>\n",
              "<p>1200 rows × 2 columns</p>\n",
              "</div>"
            ],
            "text/plain": [
              "                                                   text sentiment\n",
              "0     خصوصا الشركات لأنو رح تكون هدف سهل لمحاولت اخت...  Negative\n",
              "1     ألفين مبروك أخي تميم يعني والله بتستاهل فعلاً ...  Positive\n",
              "2                            يآأاساتر مين هووون بشوووف   Negative\n",
              "3     يعني اذا كنت انا صاحب شركة كمان ما رح اخد غير ...  Positive\n",
              "4        وحتى بالعدوان كانوا شركاء في مجزرة مروحين ...   Negative\n",
              "...                                                 ...       ...\n",
              "1195  مما اضطرني الى حرقهاتصوروا ان اللهب ارتفع اعلى...  Negative\n",
              "1196  ومأخوذين بتصرفات خارجية مبهرة ملهاش علاقة بالم...  Negative\n",
              "1197  على هالطريق نفسو كنت مبارحة ومشيت ورا مرسيدس ف...   Neutral\n",
              "1198   وبيعملو شي مفيد لانو وزيادة علييهم الحيوانات ..   Negative\n",
              "1199  تصميم ٢ أنا عجبني كتير وناوي احجزه للمدام المس...  Positive\n",
              "\n",
              "[1200 rows x 2 columns]"
            ]
          },
          "metadata": {
            "tags": []
          },
          "execution_count": 187
        }
      ]
    },
    {
      "cell_type": "code",
      "metadata": {
        "id": "0TOx8t42L3dH",
        "colab_type": "code",
        "outputId": "fe928263-489a-4715-cd97-10f578370c56",
        "colab": {
          "base_uri": "https://localhost:8080/",
          "height": 34
        }
      },
      "source": [
        "# number of samples in dataset\n",
        "data.shape"
      ],
      "execution_count": 188,
      "outputs": [
        {
          "output_type": "execute_result",
          "data": {
            "text/plain": [
              "(1200, 2)"
            ]
          },
          "metadata": {
            "tags": []
          },
          "execution_count": 188
        }
      ]
    },
    {
      "cell_type": "code",
      "metadata": {
        "id": "YiyuLs8OMfrr",
        "colab_type": "code",
        "outputId": "daff06f8-3ed5-4456-b3e6-d823729e3b4b",
        "colab": {
          "base_uri": "https://localhost:8080/",
          "height": 101
        }
      },
      "source": [
        "# count of each type \n",
        "data['sentiment'].value_counts()"
      ],
      "execution_count": 189,
      "outputs": [
        {
          "output_type": "execute_result",
          "data": {
            "text/plain": [
              "Negative    575\n",
              "Positive    498\n",
              "Neutral     126\n",
              "Both          1\n",
              "Name: sentiment, dtype: int64"
            ]
          },
          "metadata": {
            "tags": []
          },
          "execution_count": 189
        }
      ]
    },
    {
      "cell_type": "code",
      "metadata": {
        "id": "MSUfjRgPQFZQ",
        "colab_type": "code",
        "outputId": "87a0687d-a8fa-42ce-fbfe-890a60825035",
        "colab": {
          "base_uri": "https://localhost:8080/",
          "height": 67
        }
      },
      "source": [
        "# counts of missing values in dataset \n",
        "data.isna().sum()"
      ],
      "execution_count": 190,
      "outputs": [
        {
          "output_type": "execute_result",
          "data": {
            "text/plain": [
              "text         0\n",
              "sentiment    0\n",
              "dtype: int64"
            ]
          },
          "metadata": {
            "tags": []
          },
          "execution_count": 190
        }
      ]
    },
    {
      "cell_type": "code",
      "metadata": {
        "id": "YojOxstrTUGh",
        "colab_type": "code",
        "outputId": "b4028171-5cb0-47b1-ce00-9b5fb86e8de8",
        "colab": {
          "base_uri": "https://localhost:8080/",
          "height": 385
        }
      },
      "source": [
        "# count of each type \n",
        "ax = data['sentiment'].value_counts().plot(kind='bar',\n",
        "                                    figsize=(8,5),\n",
        "                                    color= '#ff7f0e',\n",
        "                                    title=\"Counts of each types\")\n",
        "ax.set_xlabel('Type')\n",
        "ax.set_ylabel('Count');"
      ],
      "execution_count": 191,
      "outputs": [
        {
          "output_type": "display_data",
          "data": {
            "image/png": "[encoded data removed]",
            "text/plain": [
              "<Figure size 576x360 with 1 Axes>"
            ]
          },
          "metadata": {
            "tags": []
          }
        }
      ]
    },
    {
      "cell_type": "markdown",
      "metadata": {
        "id": "KgpRcHABTP2k",
        "colab_type": "text"
      },
      "source": [
        "## Clean text"
      ]
    },
    {
      "cell_type": "code",
      "metadata": {
        "id": "UslCEEhgN6P2",
        "colab_type": "code",
        "outputId": "1141a035-804e-4844-b8b0-3b6cf5c86c86",
        "colab": {
          "base_uri": "https://localhost:8080/",
          "height": 34
        }
      },
      "source": [
        "data['text'][15]"
      ],
      "execution_count": 192,
      "outputs": [
        {
          "output_type": "execute_result",
          "data": {
            "text/plain": [
              "'قبل كمن سنة ... ولما توافدو اليهود من كل مناطق العالم '"
            ]
          },
          "metadata": {
            "tags": []
          },
          "execution_count": 192
        }
      ]
    },
    {
      "cell_type": "code",
      "metadata": {
        "id": "nPMZkDCSOrA3",
        "colab_type": "code",
        "colab": {}
      },
      "source": [
        "arabic_punctuations = '''`÷×؛<>_()*&^%][ـ،/:\"؟.,'{}~¦+|!”…“–ـ''' # define arabic punctuations\n",
        "\n",
        "def clean_text(text):\n",
        "  '''\n",
        "  DESCRIPTION:\n",
        "  This function to clean text \n",
        "  INPUT: \n",
        "  text: string\n",
        "  OUTPUT: \n",
        "  text: string after clean it\n",
        "  ''' \n",
        "  text = re.sub(\"[a-zA-Z]\", \" \", text) # remove english letters\n",
        "  text = re.sub('\\n', ' ', text) # remove \\n from text\n",
        "  text = re.sub(r'\\d+', '', text) #remove number\n",
        "  text = re.sub(r'http\\S+', '', text) # remove links\n",
        "  text = text.translate(str.maketrans('','', arabic_punctuations)) # remove punctuation\n",
        "  text = ' '.join([word for word in text.split() if word not in stopwords.words(\"arabic\")]) # remove stop word\n",
        "  text = re.sub(' +', ' ',text) # remove extra space\n",
        "  text = text.strip() #remove whitespaces\n",
        "\n",
        "  return text"
      ],
      "execution_count": 0,
      "outputs": []
    },
    {
      "cell_type": "code",
      "metadata": {
        "id": "_z3unBoueccX",
        "colab_type": "code",
        "colab": {}
      },
      "source": [
        "# The cleaning function applied in all texts\n",
        "data['text'] = data['text'].apply(clean_text)"
      ],
      "execution_count": 0,
      "outputs": []
    },
    {
      "cell_type": "code",
      "metadata": {
        "id": "ezwEkhcaemK3",
        "colab_type": "code",
        "outputId": "bd05a90a-b20b-40a1-a544-c993a22e61a0",
        "colab": {
          "base_uri": "https://localhost:8080/",
          "height": 34
        }
      },
      "source": [
        "data['text'][15]"
      ],
      "execution_count": 195,
      "outputs": [
        {
          "output_type": "execute_result",
          "data": {
            "text/plain": [
              "'قبل كمن سنة ولما توافدو اليهود مناطق العالم'"
            ]
          },
          "metadata": {
            "tags": []
          },
          "execution_count": 195
        }
      ]
    },
    {
      "cell_type": "markdown",
      "metadata": {
        "id": "nAbY5_zGQQ4l",
        "colab_type": "text"
      },
      "source": [
        "## Create Bag of words"
      ]
    },
    {
      "cell_type": "code",
      "metadata": {
        "id": "ESZvxliIOlG0",
        "colab_type": "code",
        "colab": {
          "base_uri": "https://localhost:8080/",
          "height": 134
        },
        "outputId": "84de3763-f75c-41ef-b709-02718e96ad52"
      },
      "source": [
        "max_features = 1500\n",
        "count_vector = CountVectorizer(max_features = max_features)  \n",
        "X = count_vector.fit_transform(data['text']).toarray() \n",
        "X"
      ],
      "execution_count": 196,
      "outputs": [
        {
          "output_type": "execute_result",
          "data": {
            "text/plain": [
              "array([[0, 0, 0, ..., 0, 0, 0],\n",
              "       [0, 0, 0, ..., 0, 0, 0],\n",
              "       [0, 0, 0, ..., 0, 0, 0],\n",
              "       ...,\n",
              "       [0, 0, 0, ..., 0, 0, 0],\n",
              "       [0, 0, 0, ..., 0, 0, 0],\n",
              "       [0, 0, 0, ..., 0, 0, 0]])"
            ]
          },
          "metadata": {
            "tags": []
          },
          "execution_count": 196
        }
      ]
    },
    {
      "cell_type": "code",
      "metadata": {
        "id": "rYlfOMY8O309",
        "colab_type": "code",
        "outputId": "c916bb17-745f-479f-f5e3-9e9516a7dc7c",
        "colab": {
          "base_uri": "https://localhost:8080/",
          "height": 54
        }
      },
      "source": [
        "print(\"most using {} words: {} \".format(max_features, count_vector.get_feature_names()))"
      ],
      "execution_count": 197,
      "outputs": [
        {
          "output_type": "stream",
          "text": [
            "most using 1500 words: ['أبدا', 'أبو', 'أجل', 'أحلى', 'أخوك', 'أخي', 'أرجو', 'أسامة', 'أسوأ', 'أصلا', 'أظن', 'أكتر', 'أكيد', 'ألف', 'أنك', 'أنها', 'أنو', 'أهلا', 'أول', 'أولا', 'أيام', 'إخوة', 'إزا', 'إلها', 'إنت', 'إنو', 'ابو', 'اجت', 'احد', 'احسن', 'احكي', 'احلا', 'احلى', 'احنا', 'اخ', 'اختي', 'اخر', 'اخي', 'اذا', 'ارتفع', 'ارجع', 'ارجو', 'ازا', 'اس', 'اسأل', 'اسئلة', 'اسامة', 'اسم', 'اشتغل', 'اشي', 'اصلا', 'اطول', 'اعرف', 'اعلان', 'اعمال', 'اغتصاب', 'اغلى', 'اقرا', 'اقول', 'اقوى', 'اكبر', 'اكتر', 'اكون', 'اكيد', 'ال', 'الأمر', 'الأهل', 'الا', 'الاتنين', 'الاخ', 'الاختبار', 'الاخرين', 'الازهر', 'الاسباب', 'الاعتراض', 'الاعضاء', 'الامارات', 'الامان', 'الانترنت', 'الايام', 'الباقية', 'البسيطة', 'البلد', 'البلية', 'البنات', 'البنت', 'البيت', 'التاني', 'التلفزيون', 'التنين', 'الجامعة', 'الجاي', 'الجاية', 'الجمعة', 'الجميع', 'الجميلة', 'الجنسية', 'الجيران', 'الحال', 'الحب', 'الحجاب', 'الحق', 'الحقيقة', 'الحكم', 'الحكومة', 'الحكي', 'الحلو', 'الحلوة', 'الحمد', 'الحياة', 'الخ', 'الخير', 'الدعم', 'الدفاع', 'الدكتور', 'الدم', 'الدنيا', 'الدورة', 'الدولة', 'الدين', 'الرجال', 'الرجل', 'الرصيف', 'الزبالة', 'الزلمة', 'الزمن', 'الزنب', 'الزواج', 'السؤال', 'الساعة', 'السبب', 'السعوديه', 'السلام', 'السنة', 'السوري', 'السورية', 'السوق', 'الشارع', 'الشام', 'الشب', 'الشباب', 'الشبكة', 'الشخص', 'الشخصية', 'الشرطي', 'الشركة', 'الشغلة', 'الشغله', 'الشي', 'الصبح', 'الصراحة', 'الصور', 'الطائفية', 'الطلاب', 'الطوائف', 'الطين', 'الظاهر', 'العافية', 'العافيه', 'العالم', 'العالية', 'العربي', 'العربية', 'العزيز', 'العسل', 'العظيم', 'العقل', 'العمل', 'العموم', 'العين', 'العيون', 'الغالية', 'الغربة', 'الغربية', 'الغضب', 'الف', 'الفايروس', 'الفلاح', 'القديم', 'القديمة', 'القران', 'القصة', 'القمة', 'الك', 'الكبيرة', 'الكرة', 'الكريمة', 'الكل', 'الكلام', 'الكلمة', 'الكم', 'الله', 'اللى', 'اللي', 'المباراة', 'المثل', 'المجتمع', 'المرض', 'المشاغب', 'المشكلة', 'المشكله', 'المطبخ', 'المقارنة', 'المناسب', 'المنتدى', 'المهم', 'المواضيع', 'المواطن', 'المواقع', 'الموضوع', 'الموقع', 'المي', 'النا', 'الناس', 'النت', 'النساء', 'النعم', 'النوم', 'اله', 'الها', 'الهم', 'الهي', 'الو', 'الواحد', 'الواقع', 'الوحدة', 'الوطن', 'الوطنية', 'الوقت', 'الى', 'الي', 'اليهود', 'اليوم', 'ام', 'اما', 'امر', 'امرأة', 'ان', 'انا', 'انت', 'انتو', 'انتي', 'انس', 'انسان', 'انشالله', 'انك', 'انكسر', 'انه', 'انها', 'انهم', 'انو', 'انواع', 'اني', 'اهلا', 'اهلي', 'اهلين', 'او', 'اوكي', 'اول', 'اويها', 'اي', 'ايا', 'ايام', 'ايامك', 'ايدي', 'ايمتا', 'ايه', 'بألف', 'بإذن', 'بإنو', 'بابا', 'باص', 'بال', 'بالاخر', 'بالبلد', 'بالتوفيق', 'بالذات', 'بالسلامة', 'بالسن', 'بالشارع', 'بالصيف', 'بالطريقة', 'بالف', 'بالك', 'بالكتب', 'بالكلية', 'بالله', 'بالمرة', 'بالمنتدى', 'بالموضوع', 'بالنسبة', 'باي', 'ببلد', 'بتجنن', 'بتحط', 'بتحققي', 'بتحكي', 'بتستاهل', 'بتسمع', 'بتشوف', 'بتصير', 'بتضحك', 'بتضل', 'بتعرف', 'بتعرفو', 'بتعطي', 'بتكون', 'بتلاقي', 'بتمنا', 'بتمنالك', 'بتمنى', 'بجد', 'بجوز', 'بحارتنا', 'بحب', 'بحط', 'بحياتي', 'بخير', 'بدك', 'بدل', 'بدليل', 'بدنا', 'بدها', 'بدهم', 'بدهن', 'بدو', 'بدون', 'بدي', 'برأيك', 'برأيي', 'برجع', 'بركي', 'بروح', 'بروحوا', 'بسبب', 'بسرعة', 'بسرعه', 'بسوريا', 'بشكرك', 'بشكل', 'بشي', 'بصراحة', 'بصير', 'بعدوا', 'بعدين', 'بعرف', 'بعرفوا', 'بعمل', 'بعيد', 'بعيشها', 'بفوت', 'بقا', 'بقدر', 'بقول', 'بقى', 'بكرا', 'بكرة', 'بكفي', 'بكل', 'بكون', 'بكير', 'بلآش', 'بلا', 'بلاش', 'بلد', 'بلشت', 'بمل', 'بنات', 'بنت', 'بنفس', 'بنقدر', 'بنكون', 'بهالحالة', 'بهالمنتدى', 'بهديك', 'بهل', 'بهي', 'بيت', 'بيتا', 'بيترك', 'بيتك', 'بيتها', 'بيحب', 'بيدل', 'بيستحق', 'بيصير', 'بيضل', 'بيعرف', 'بيقول', 'بيكون', 'بيننا', 'تابع', 'تاكل', 'تاني', 'تبع', 'تبين', 'تتحرش', 'تحاول', 'تحاولي', 'تحت', 'تحديدا', 'تحكي', 'تحياتي', 'تحية', 'تخاف', 'تدخل', 'ترجع', 'تركو', 'تسلاية', 'تشوف', 'تصير', 'تضلي', 'تطلع', 'تعبانة', 'تعليق', 'تعمل', 'تقدم', 'تقريبا', 'تقل', 'تقول', 'تكتب', 'تكون', 'تمام', 'تمر', 'تمنياتي', 'تنسى', 'توصل', 'جارك', 'جامعة', 'جاهزين', 'جايين', 'جبت', 'جد', 'جدآ', 'جدا', 'جديد', 'جديدة', 'جماعة', 'جمال', 'جورية', 'جيب', 'جيد', 'حاطين', 'حاكم', 'حال', 'حالك', 'حالها', 'حالو', 'حالي', 'حب', 'حبيب', 'حدا', 'حرام', 'حرف', 'حضور', 'حطا', 'حق', 'حقها', 'حكمة', 'حكي', 'حل', 'حلنا', 'حلو', 'حلوة', 'حلوه', 'حلوين', 'حماس', 'حي', 'حيا', 'حياتك', 'حياتها', 'خايف', 'خخخ', 'خرج', 'خسران', 'خصوصا', 'خصوصي', 'خطأ', 'خلدون', 'خلص', 'خلو', 'خلي', 'خلينا', 'خليه', 'خمس', 'خنزير', 'خير', 'دائم', 'دائما', 'داخل', 'دايما', 'دخيلك', 'دعاية', 'دغري', 'دكتور', 'دم', 'دنيا', 'دورية', 'دول', 'دي', 'ديما', 'دين', 'رأيي', 'رائع', 'راجع', 'راح', 'راي', 'رايق', 'رب', 'ربحانين', 'ربي', 'رجاء', 'رجال', 'رجل', 'رح', 'رحت', 'رد', 'رقم', 'روح', 'روحي', 'ريت', 'ريحة', 'ريحتو', 'زبالة', 'زعلت', 'زمان', 'زوء', 'زوجتة', 'زي', 'زيادة', 'سؤال', 'سؤالي', 'ساعة', 'ساكن', 'سبب', 'سبحان', 'سبقتني', 'ستي', 'سعيد', 'سعيدة', 'سلااام', 'سلام', 'سلم', 'سمعت', 'سناء', 'سنة', 'سنه', 'سنين', 'سهل', 'سهلا', 'سواء', 'سوريا', 'سيدي', 'شئ', 'شاء', 'شاطرين', 'شالله', 'شاي', 'شايف', 'شايفة', 'شباب', 'شبابلك', 'شخص', 'شر', 'شركات', 'شركة', 'شعب', 'شغل', 'شغلة', 'شغله', 'شفت', 'شكرا', 'شكل', 'شكلو', 'شلون', 'شو', 'شوارع', 'شوف', 'شوكولا', 'شوي', 'شوية', 'شي', 'شيء', 'صار', 'صارت', 'صارو', 'صح', 'صحيح', 'صدر', 'صدقيني', 'صديقة', 'صديقتي', 'صديقي', 'صراحة', 'صرنا', 'صغيرة', 'صفات', 'صناعة', 'صوت', 'صور', 'ضحك', 'ضد', 'طالع', 'طبعا', 'طريق', 'طريقة', 'طريقته', 'طعمة', 'طلاب', 'طلب', 'طلع', 'طلعت', 'طول', 'طيب', 'عادي', 'عارف', 'عافية', 'عالسلامة', 'عالقليلة', 'عالم', 'عام', 'عبدالله', 'عجبني', 'عدد', 'عدم', 'عربي', 'عشان', 'عضو', 'عطاه', 'عفوا', 'عقبال', 'علا', 'علاقة', 'علشان', 'علي', 'عليكم', 'عليكي', 'علينا', 'عليها', 'عليهم', 'عليي', 'عم', 'عمالقة', 'عمتي', 'عمرها', 'عمرو', 'عمل', 'عملو', 'عمو', 'عمي', 'عنا', 'عنجد', 'عندك', 'عندكم', 'عندن', 'عندنا', 'عندها', 'عندهم', 'عندو', 'عندي', 'عنك', 'عنها', 'عنهم', 'عيب', 'عيد', 'عينك', 'عيون', 'عيونك', 'غريب', 'غزة', 'غلط', 'غيرو', 'فاشلة', 'فتح', 'فرحة', 'فرحنا', 'فردا', 'فعلا', 'فقال', 'فقط', 'فكر', 'فكرة', 'فكرت', 'فكره', 'فلسطين', 'فورا', 'فوق', 'فى', 'فيك', 'فيكم', 'فيكي', 'فيني', 'فيهن', 'فيو', 'فيون', 'فيي', 'قادرين', 'قاعدين', 'قال', 'قالب', 'قالها', 'قالو', 'قالولك', 'قالوها', 'قام', 'قامو', 'قانون', 'قاومناهم', 'قبر', 'قبل', 'قبلة', 'قبلت', 'قبلك', 'قبلها', 'قتل', 'قتلة', 'قدام', 'قدر', 'قدرت', 'قدرتك', 'قدرته', 'قدروا', 'قدها', 'قديما', 'قديمة', 'قرأت', 'قراار', 'قرارات', 'قربت', 'قربها', 'قرت', 'قرروا', 'قرص', 'قروو', 'قريبتي', 'قريبين', 'قريت', 'قريتا', 'قريتها', 'قسم', 'قسمين', 'قشطة', 'قصة', 'قصدي', 'قصص', 'قصصر', 'قصير', 'قصيرة', 'قضاء', 'قطة', 'قطع', 'قطعة', 'قطعه', 'قفشة', 'قفشكون', 'قلبك', 'قلبن', 'قلبي', 'قلت', 'قلتلي', 'قلتى', 'قلك', 'قلكن', 'قلمك', 'قلنالو', 'قلولي', 'قليل', 'قليلين', 'قمت', 'قمر', 'قمنا', 'قناعا', 'قهوة', 'قواعد', 'قواكم', 'قوة', 'قول', 'قولة', 'قومي', 'قوي', 'قيلولة', 'قيمة', 'كابين', 'كاتب', 'كاتبهم', 'كاتبو', 'كاتبينو', 'كاتو', 'كارلوس', 'كاسة', 'كافة', 'كافي', 'كالآتي', 'كام', 'كامل', 'كامله', 'كاميليا', 'كان', 'كانت', 'كانو', 'كانوا', 'كب', 'كبر', 'كبسة', 'كبيرة', 'كبيره', 'كتاب', 'كتاباتك', 'كتاباتها', 'كتر', 'كترانة', 'كتلك', 'كتي', 'كتير', 'كتيرة', 'كتيررر', 'كتيروبعدين', 'كتيير', 'كتييي', 'كثر', 'كثير', 'كثيرا', 'كثيير', 'كدا', 'كذابين', 'كذب', 'كراسيهم', 'كرامة', 'كرة', 'كرت', 'كرسي', 'كرشي', 'كرمال', 'كرمالك', 'كريستالات', 'كريم', 'كريمة', 'كزبه', 'كسرين', 'كسل', 'كسول', 'كعرب', 'كفاية', 'كفايه', 'كفرد', 'كفرنا', 'كفروا', 'كفى', 'كل', 'كلام', 'كلامك', 'كلامها', 'كلامون', 'كلشي', 'كلك', 'كلكم', 'كلكن', 'كلمات', 'كلماتك', 'كلمة', 'كلن', 'كله', 'كلها', 'كلهم', 'كلو', 'كلون', 'كلووو', 'كلياتنا', 'كليومين', 'كمان', 'كمن', 'كميل', 'كميوتر', 'كنا', 'كنافة', 'كنت', 'كنتو', 'كنتي', 'كنس', 'كهربائية', 'كوع', 'كوك', 'كوكتيل', 'كوم', 'كون', 'كونري', 'كونه', 'كونوا', 'كونيكت', 'كويسة', 'كيج', 'كيسه', 'كيفك', 'كيفوا', 'كيلين', 'لأ', 'لأبوه', 'لأحمد', 'لأخواته', 'لأخواني', 'لألألألأ', 'لأن', 'لأنفذت', 'لأنك', 'لأنكن', 'لأنن', 'لأنه', 'لأنهم', 'لأنو', 'لأني', 'لأيام', 'لإلو', 'لا', 'لاء', 'لابئلك', 'لابدمن', 'لابسين', 'لابل', 'لاتجوز', 'لاتخاف', 'لاتطلبي', 'لاتغتفر', 'لاتقلي', 'لاتنافسونا', 'لاثبات', 'لاحدا', 'لاحدي', 'لاحظو', 'لاحظوا', 'لاختك', 'لاخر', 'لادخل', 'لارائكم', 'لارض', 'لازم', 'لازمنا', 'لاسباب', 'لاصلها', 'لاعندهم', 'لاكتر', 'لالف', 'لالكن', 'لاموني', 'لاميركا', 'لان', 'لانعرف', 'لانني', 'لانه', 'لانها', 'لانهم', 'لانو', 'لانوحر', 'لاني', 'لاي', 'لبلدي', 'لبنان', 'لحالو', 'لحتى', 'لحد', 'لحدا', 'لحظات', 'لحق', 'لحمارك', 'لحن', 'لدة', 'لدرجه', 'لدورتهم', 'لدي', 'لديك', 'لذلك', 'لربك', 'لربما', 'لربنا', 'لزقوا', 'لزيارة', 'لزيز', 'لزيزة', 'لسا', 'لسان', 'لسه', 'لسى', 'لشخص', 'لشرطي', 'لشغلها', 'لشو', 'لشوف', 'لشي', 'لصالح', 'لصفاتي', 'لصوابه', 'لعب', 'لعبة', 'لعرض', 'لعم', 'لعمى', 'لعن', 'لعند', 'لعندك', 'لعيد', 'لعيونك', 'لغاية', 'لغتنا', 'لغتي', 'لغويا', 'لغيرنا', 'لف', 'لفت', 'لفترة', 'لفرض', 'لفنجان', 'لفينكس', 'لقد', 'لقصص', 'لقيت', 'لكل', 'لكني', 'لكيفية', 'لل', 'للآخير', 'للأخ', 'للأسطورة', 'للأسف', 'للأسلحة', 'للأمام', 'للإكتتاب', 'للاتنين', 'للاجتماع', 'للاخ', 'للادارة', 'للاشياء', 'للاكل', 'للان', 'للاولادي', 'للبحيره', 'للبنان', 'للتاجر', 'للترحيب', 'للتعارف', 'للتعميم', 'للجمعية', 'للجميع', 'للحشيش', 'للحل', 'للحلوين', 'للحيطان', 'للخلف', 'للخير', 'للدين', 'للذ', 'للرجال', 'للريكارات', 'للسؤال', 'للسرقة', 'للسعوديين', 'للسلوكيات', 'للسنة', 'للسياح', 'للسيارات', 'للسيد', 'للشهادات', 'للصبح', 'للصواب', 'للطالب', 'للطالبة', 'للطلبة', 'للظروف', 'للعربية', 'للعلم', 'للعلها', 'للغرب', 'للفت', 'للفريق', 'للكاظم', 'للكل', 'للكهرباء', 'للليش', 'للمدام', 'للمرة', 'للمسؤولين', 'للمسلسل', 'للمشاة', 'للمشي', 'للمطبخ', 'للمنتجات', 'للمنتدى', 'للموضوع', 'للموظفين', 'للناس', 'للنوايا', 'لله', 'للواحد', 'للوهلة', 'للي', 'لمتابعة', 'لمحاولت', 'لمدة', 'لمصلحة', 'لمكانها', 'لمكشات', 'لموضوع', 'لموقع', 'لميس', 'لنشوف', 'لنعمل', 'لنعملو', 'لنغم', 'لنفسك', 'لهل', 'لهون', 'لولي', 'ليرة', 'ليش', 'ليلة', 'ليلي', 'ليه', 'مابعرف', 'ماحدا', 'ماراح', 'مارح', 'ماشي', 'ماصار', 'ماعليش', 'مافي', 'مالا', 'مالنا', 'ماما', 'مبالغة', 'مبروك', 'مبروووك', 'مبسوط', 'مبين', 'متضايقة', 'متل', 'مثل', 'مثلا', 'مجال', 'مجتمعنا', 'مجرد', 'محترمين', 'محشش', 'محمود', 'مدونتك', 'مدير', 'مرة', 'مرتين', 'مسؤول', 'مستحيل', 'مسلسل', 'مسلم', 'مش', 'مشاركاتك', 'مشان', 'مشروع', 'مشكل', 'مشكلة', 'مشكورة', 'مطلوب', 'معجب', 'معروفين', 'معقول', 'معك', 'معلش', 'معن', 'معنا', 'معناتو', 'معناها', 'معها', 'معو', 'معي', 'مفتوح', 'مفيد', 'مكان', 'ملايين', 'ممكن', 'ممم', 'مميزة', 'مناسب', 'مناطق', 'منتدى', 'منشان', 'منك', 'منن', 'منهم', 'منو', 'مني', 'منيح', 'منين', 'مو', 'مواضيع', 'مواضيعك', 'مواقع', 'موجودة', 'موضوع', 'موقع', 'ميلادك', 'ميلادي', 'مين', 'ناتج', 'ناجح', 'نادي', 'ناس', 'نتيجة', 'نحكي', 'نحنا', 'نساء', 'نسيوا', 'نصيحة', 'نصير', 'نطلع', 'نظام', 'نعمل', 'نفس', 'نفسك', 'نفسو', 'نفسي', 'نفق', 'نواجه', 'نور', 'نورت', 'نوع', 'هاد', 'هادا', 'هادي', 'هالاسم', 'هالسؤال', 'هالشغلة', 'هالشي', 'هالشيء', 'هالكلام', 'هالموضوع', 'هالناس', 'هاي', 'هدا', 'هدول', 'هدية', 'هلأ', 'هلق', 'همتك', 'هنن', 'هني', 'هنيك', 'هه', 'ههه', 'هوب', 'هودي', 'هون', 'هوي', 'هيدا', 'هيدي', 'هيك', 'هيي', 'وأكيد', 'وأنا', 'وأنت', 'وا', 'واحد', 'واذا', 'واقع', 'والبركة', 'والحمد', 'والله', 'واللي', 'والمرأة', 'والمشاغب', 'والواقع', 'والوطن', 'والي', 'وان', 'وانا', 'وانت', 'وانتا', 'وانتي', 'وانجاز', 'وانشاء', 'وانشالله', 'وانو', 'وبتمنى', 'وبدون', 'وبس', 'وبعد', 'وبعدين', 'وبهيك', 'وبيرجع', 'وتبقى', 'وجه', 'وحتى', 'وحدة', 'ودايما', 'ورا', 'وسهلا', 'وسيم', 'وشباب', 'وشكرا', 'وشو', 'وصار', 'وصدقني', 'وطبعا', 'وطريقة', 'وعدم', 'وعقبال', 'وعلى', 'وعم', 'وعملت', 'وعن', 'وغيرو', 'وفعلا', 'وفي', 'وقت', 'وقهوة', 'وكان', 'وكل', 'وكمان', 'ولادك', 'ولازم', 'ولد', 'ولك', 'ولم', 'ولما', 'ولي', 'وليس', 'ومؤمن', 'ومات', 'ومتل', 'ومحبوبين', 'ومش', 'ومو', 'ومواضيعك', 'ومواضيعهم', 'ومواقفه', 'وموقف', 'ومية', 'وميزتها', 'وناطرين', 'وناكل', 'وناوي', 'ونباركك', 'ونبلش', 'ونتمنى', 'ونجحت', 'ونحن', 'ونحنا', 'وندردش', 'ونزل', 'ونسايمكم', 'ونسبة', 'ونشا', 'ونشاطك', 'ونشوف', 'ونشوفه', 'ونص', 'ونصركم', 'ونضول', 'ونظافتها', 'ونعم', 'ونعملك', 'ونفس', 'ونفهم', 'وهاد', 'وهدا', 'وهذا', 'وهم', 'وهي', 'وهيك', 'ووئفنا', 'ووحدة', 'وورجينا', 'ووسائل', 'ووقت', 'وولاده', 'وووكتير', 'ويا', 'وياخد', 'وياريت', 'وياك', 'وياكم', 'ويبئى', 'ويبدو', 'ويتأمل', 'ويتحطها', 'ويتربى', 'ويترك', 'ويتفش', 'ويثم', 'ويحسب', 'ويحطوا', 'ويحلئولنا', 'ويد', 'ويروح', 'ويريده', 'ويشوف', 'ويطيب', 'ويع', 'ويعلقنا', 'ويقضي', 'ويقويه', 'ويكبر', 'ويكون', 'ويلا', 'ويلس', 'ويلي', 'وين', 'وينستون', 'وينظف', 'وينعاد', 'ويوم', 'يآأاساتر', 'يأبدع', 'يأثر', 'يأذي', 'يأكل', 'يؤ', 'يؤئر', 'ياااه', 'ياااي', 'يااختي', 'يابختهم', 'يابنتي', 'ياترى', 'ياتومي', 'ياجماعة', 'ياخالد', 'ياخد', 'ياخدو', 'يارب', 'يارح', 'ياروح', 'ياريت', 'ياستار', 'ياستي', 'ياسيدي', 'ياسيريا', 'ياشاام', 'ياشباب', 'ياظالم', 'ياعالم', 'ياعمي', 'يافا', 'ياقمر', 'ياكل', 'ياكلو', 'ياكلوا', 'يالله', 'ياه', 'ياها', 'يبتسملون', 'يبدؤوا', 'يبعت', 'يبعد', 'يبكي', 'يبنوا', 'يبيدوو', 'يتأثر', 'يتئص', 'يتبرؤون', 'يتبع', 'يتجاهل', 'يتحجبو', 'يتحجج', 'يتحرر', 'يتحقق', 'يتحمل', 'يتحول', 'يتزوج', 'يتكحل', 'يثبت', 'يجعل', 'يجي', 'يحصل', 'يحكي', 'يخليلكم', 'يرحم', 'يروح', 'يسترزق', 'يسلم', 'يسلمو', 'يشوف', 'يصير', 'يعرف', 'يعطي', 'يعطيك', 'يعطيكي', 'يعلق', 'يعمل', 'يعملو', 'يعني', 'يعين', 'يعينك', 'يقتل', 'يقول', 'يكون', 'يكونو', 'يلا', 'يللي', 'يلى', 'يلي', 'يمكن', 'ينزل', 'يهنيك', 'يوصل', 'يوم'] \n"
          ],
          "name": "stdout"
        }
      ]
    },
    {
      "cell_type": "code",
      "metadata": {
        "id": "2kAU6ihscQ5H",
        "colab_type": "code",
        "outputId": "ee0d44ac-697a-400e-ad65-09b4c858bcc8",
        "colab": {
          "base_uri": "https://localhost:8080/",
          "height": 54
        }
      },
      "source": [
        "print(count_vector.vocabulary_)"
      ],
      "execution_count": 198,
      "outputs": [
        {
          "output_type": "stream",
          "text": [
            "{'خصوصا': 475, 'لأنو': 908, 'رح': 514, 'تكون': 421, 'سهل': 548, 'لمحاولت': 1094, 'الشبكة': 141, 'مبروك': 1127, 'أخي': 5, 'يعني': 1484, 'والله': 1260, 'بتستاهل': 297, 'فعلا': 677, 'لأنك': 903, 'رجال': 512, 'يآأاساتر': 1405, 'مين': 1196, 'اذا': 38, 'كنت': 875, 'انا': 238, 'شركة': 565, 'كمان': 869, 'وحتى': 1285, 'كانوا': 800, 'أنو': 16, 'ربي': 510, 'قطة': 749, 'صغيرة': 595, 'شغلة': 568, 'حلوة': 463, 'مو': 1187, 'ونضول': 1351, 'وعملت': 1302, 'كبيرة': 804, 'بلا': 362, 'نوع': 1219, 'كله': 861, 'الدين': 119, 'هاد': 1220, 'حق': 456, 'شو': 575, 'ستي': 537, 'ريحة': 521, 'حالها': 446, 'بتمنى': 310, 'كون': 884, 'صديقة': 590, 'احلى': 32, 'منتدى': 1178, 'هنن': 1238, 'دكتور': 494, 'ناجح': 1198, 'بإذن': 268, 'الله': 191, 'ووحدة': 1364, 'السنة': 133, 'عندها': 656, 'مشكلة': 1154, 'سنة': 545, 'قبل': 709, 'معي': 1168, 'كمن': 870, 'ولما': 1317, 'اليهود': 231, 'مناطق': 1177, 'العالم': 159, 'الوحدة': 225, 'الوطنية': 227, 'كتير': 813, 'منيح': 1185, 'هالناس': 1230, 'كلمة': 859, 'هون': 1245, 'واحد': 1255, 'ونص': 1349, 'بتكون': 306, 'تقدم': 416, 'واللي': 1261, 'ياسيدي': 1429, 'بجوز': 312, 'بتعرف': 303, 'انه': 247, 'اللي': 193, 'عطاه': 628, 'عام': 620, 'وانتي': 1271, 'بالف': 282, 'خير': 486, 'عمو': 648, 'يجعل': 1465, 'ايامك': 263, 'كلها': 862, 'وناطرين': 1332, 'مشان': 1151, 'وعقبال': 1299, 'فرحة': 674, 'لأن': 901, 'بيت': 377, 'العين': 169, 'بالسن': 278, 'ليرة': 1110, 'لاحدي': 926, 'المواقع': 208, 'الحب': 99, 'اليوم': 232, 'ليش': 1111, 'الاختبار': 70, 'ان': 237, 'شاء': 554, 'عنهم': 662, 'ويتربى': 1379, 'الك': 183, 'مواضيعك': 1189, 'دائما': 488, 'مميزة': 1175, 'انو': 250, 'لابسين': 916, 'يعملو': 1483, 'شي': 581, 'للفت': 1070, 'أجل': 2, 'وين': 1400, 'وانا': 1268, 'والمشاغب': 1263, 'السبب': 130, 'يلا': 1491, 'نتيجة': 1201, 'يوم': 1499, 'بيستحق': 384, 'والمرأة': 1262, 'أكيد': 12, 'عنك': 660, 'ونزل': 1342, 'مرة': 1143, 'خصوصي': 476, 'كان': 797, 'قواكم': 774, 'ونصركم': 1350, 'بدها': 322, 'شكل': 572, 'فقط': 679, 'اقوى': 59, 'بيقول': 388, 'ضد': 601, 'بكرا': 355, 'ويقضي': 1393, 'انت': 239, 'الاعتراض': 74, 'عنها': 661, 'منك': 1180, 'سبقتني': 536, 'نحنا': 1203, 'المهم': 205, 'للخير': 1046, 'عم': 641, 'ياكلوا': 1440, 'ريت': 520, 'الكل': 187, 'يبتسملون': 1444, 'او': 256, 'وحدة': 1286, 'ألف': 13, 'مبروووك': 1128, 'يعينك': 1486, 'قدها': 722, 'القمة': 182, 'تحت': 399, 'كاتب': 783, 'جديد': 435, 'شيء': 582, 'قدرت': 718, 'بكون': 359, 'عنجد': 651, 'هيي': 1250, 'مجرد': 1137, 'الجامعة': 90, 'بالكلية': 285, 'الدورة': 117, 'الطلاب': 153, 'اي': 260, 'الناس': 213, 'منن': 1181, 'ياروح': 1425, 'عفوا': 629, 'لاتغتفر': 921, 'صور': 599, 'همتك': 1237, 'ونشاطك': 1346, 'ومواضيعك': 1326, 'الحلوة': 107, 'الزنب': 126, 'مش': 1149, 'يالله': 1441, 'لنشوف': 1102, 'الى': 229, 'الحقيقة': 102, 'اخي': 37, 'بلآش': 361, 'خلي': 481, 'معقول': 1159, 'هالسؤال': 1224, 'كلياتنا': 867, 'رقم': 517, 'بدي': 327, 'تقل': 418, 'ارجو': 41, 'لانه': 947, 'السعوديه': 131, 'وشكرا': 1292, 'طريقة': 605, 'لإلو': 911, 'الغربة': 172, 'شعب': 566, 'يلي': 1494, 'هلأ': 1235, 'ونحنا': 1340, 'قاعدين': 697, 'بكل': 358, 'الكلمة': 189, 'هالموضوع': 1229, 'للعلها': 1068, 'عبدالله': 621, 'وبس': 1278, 'اكون': 62, 'للجمعية': 1039, 'سنين': 547, 'قدام': 716, 'وانت': 1269, 'بقى': 354, 'اكيد': 63, 'وانتا': 1270, 'عارف': 615, 'اصلا': 50, 'وشو': 1293, 'حاطين': 442, 'ارتفع': 39, 'الحكي': 105, 'الي': 230, 'كاتبينو': 786, 'ونعم': 1353, 'ممم': 1174, 'حضور': 454, 'لأ': 895, 'جيب': 440, 'بنات': 367, 'عمتي': 643, 'الجيران': 97, 'علينا': 637, 'لاتقلي': 922, 'الشباب': 140, 'جد': 432, 'بدنا': 321, 'يتزوج': 1462, 'قلبي': 757, 'حب': 449, 'يتكحل': 1463, 'المشكلة': 199, 'لحظات': 960, 'بعيشها': 349, 'هاي': 1231, 'يبعد': 1447, 'الطائفية': 152, 'القديم': 178, 'طلع': 610, 'هيدي': 1248, 'ال': 64, 'بلد': 364, 'اللى': 192, 'نظام': 1209, 'بال': 272, 'الزمن': 125, 'عندنا': 655, 'الاتنين': 68, 'يعطيك': 1479, 'العافيه': 158, 'اول': 258, 'شفت': 570, 'الصور': 151, 'العموم': 168, 'علا': 631, 'شايفة': 559, 'ياقمر': 1437, 'ويتفش': 1381, 'بدون': 326, 'وينظف': 1402, 'ودايما': 1287, 'الحكم': 103, 'الاخرين': 71, 'ههه': 1242, 'ياظالم': 1433, 'فيي': 695, 'وأنا': 1252, 'البلد': 82, 'ونظافتها': 1352, 'لأيام': 910, 'بصراحة': 341, 'السورية': 135, 'حالو': 447, 'لذلك': 969, 'لحتى': 957, 'دنيا': 496, 'الشغلة': 146, 'للسلوكيات': 1054, 'للأسف': 1021, 'ممكن': 1173, 'نصير': 1207, 'عليها': 638, 'العافية': 157, 'جورية': 439, 'عندي': 659, 'فكرة': 681, 'حدا': 451, 'عندو': 658, 'المنتدى': 204, 'قناعا': 771, 'نواجه': 1216, 'خرج': 473, 'يقول': 1488, 'الحمد': 108, 'لله': 1089, 'ولد': 1314, 'بتعرفو': 304, 'خلص': 479, 'صرنا': 594, 'حالك': 445, 'قانون': 706, 'وهدا': 1358, 'الشي': 148, 'يمكن': 1495, 'هلق': 1236, 'اكتر': 61, 'أهلا': 17, 'فيك': 688, 'عيونك': 667, 'أحلى': 3, 'كاتو': 787, 'كرمالك': 833, 'شباب': 560, 'يابختهم': 1415, 'ماما': 1125, 'حال': 444, 'عندكم': 653, 'هيك': 1249, 'وليس': 1319, 'كلام': 849, 'كنتي': 877, 'الحياة': 109, 'عالم': 619, 'الاعضاء': 75, 'صارت': 584, 'بالبلد': 274, 'معروفين': 1158, 'بسوريا': 337, 'بشكل': 339, 'لنعمل': 1103, 'كتيير': 817, 'تعليق': 414, 'راح': 505, 'بقا': 351, 'حلنا': 461, 'بدهم': 323, 'لكيفية': 1016, 'قضاء': 748, 'الموقع': 210, 'طريق': 604, 'كاميليا': 796, 'صديقتي': 591, 'بعرف': 345, 'قمر': 769, 'لبنان': 955, 'تقريبا': 417, 'سنه': 546, 'بعدين': 344, 'بإنو': 269, 'مفتوح': 1169, 'نادي': 1199, 'المجتمع': 196, 'معن': 1162, 'لعبة': 991, 'اطول': 51, 'معنا': 1163, 'الاخ': 69, 'قال': 698, 'عمالقة': 642, 'انهم': 249, 'بيننا': 390, 'غلط': 670, 'لغويا': 1003, 'وقت': 1307, 'دخيلك': 491, 'لاء': 913, 'عنا': 650, 'وتبقى': 1283, 'بقول': 353, 'جامعة': 428, 'الازهر': 72, 'فاشلة': 672, 'بجد': 311, 'موضوع': 1192, 'كلو': 864, 'بدو': 325, 'فوق': 686, 'شوارع': 576, 'محمود': 1140, 'سؤال': 530, 'لنغم': 1105, 'انك': 245, 'مشاركاتك': 1150, 'ونتمنى': 1337, 'الجاي': 91, 'أكتر': 11, 'ويوم': 1404, 'سعيد': 538, 'هه': 1241, 'ميلادي': 1195, 'الواحد': 223, 'ويتأمل': 1377, 'علي': 634, 'لادخل': 931, 'منشان': 1179, 'قتلة': 715, 'النت': 214, 'برأيي': 329, 'للتعارف': 1037, 'الجنسية': 96, 'أبدا': 0, 'عيب': 663, 'حرام': 452, 'إنو': 25, 'جايين': 430, 'اقول': 58, 'بنكون': 371, 'ربحانين': 509, 'الشركة': 145, 'للإكتتاب': 1024, 'تقول': 419, 'يقتل': 1487, 'ايدي': 264, 'عليهم': 639, 'ياترى': 1417, 'بالصيف': 280, 'نطلع': 1208, 'شئ': 553, 'باص': 271, 'قيلولة': 780, 'للي': 1092, 'يسترزق': 1472, 'ماشي': 1119, 'الا': 67, 'دين': 501, 'مسلم': 1148, 'بكفي': 357, 'أنك': 14, 'الساعة': 129, 'الصبح': 149, 'شكرا': 571, 'عيون': 666, 'يعطيكي': 1480, 'ياستار': 1427, 'بحط': 315, 'أنها': 15, 'عادي': 614, 'بتسمع': 298, 'حقها': 457, 'تخاف': 404, 'تشوف': 409, 'ومات': 1321, 'خلينا': 482, 'يكون': 1489, 'بحب': 314, 'تحياتي': 402, 'ليلي': 1113, 'الرجال': 120, 'كافي': 791, 'برأيك': 328, 'للتعميم': 1038, 'والي': 1266, 'عملو': 647, 'ناتج': 1197, 'الموضوع': 209, 'وكان': 1309, 'لكل': 1014, 'سواء': 550, 'القصة': 181, 'وكمان': 1311, 'كترانة': 810, 'كتي': 812, 'صح': 586, 'لسا': 977, 'النوم': 217, 'طعمة': 607, 'عالقليلة': 618, 'لشو': 984, 'السؤال': 128, 'حلو': 462, 'كلمات': 857, 'تكتب': 420, 'لأنفذت': 902, 'مجتمعنا': 1136, 'ويبدو': 1376, 'لاصلها': 937, 'انشالله': 244, 'بتمنالك': 309, 'وبعدين': 1280, 'قلك': 761, 'اني': 252, 'لبلدي': 954, 'مشروع': 1152, 'ونجحت': 1338, 'عالسلامة': 617, 'لازم': 934, 'دي': 499, 'تاني': 393, 'رحت': 515, 'متل': 1132, 'بتعطي': 305, 'صار': 583, 'قومي': 778, 'خمس': 484, 'هنيك': 1240, 'جماعة': 437, 'قبلة': 710, 'للسياح': 1056, 'طلعت': 611, 'لاتجوز': 918, 'عجبني': 622, 'الحال': 98, 'الكريمة': 186, 'كانو': 799, 'ياكلو': 1439, 'لابل': 917, 'تتحرش': 396, 'فيكم': 689, 'وكل': 1310, 'دول': 498, 'تاكل': 392, 'برجع': 330, 'وسهلا': 1289, 'أسامة': 7, 'لعيد': 998, 'ميلادك': 1194, 'عينك': 665, 'وهي': 1361, 'جاهزين': 429, 'بتضحك': 301, 'الجميع': 94, 'بالموضوع': 289, 'هدول': 1233, 'لأنن': 905, 'ويروح': 1387, 'لحالو': 956, 'لانو': 950, 'دائم': 487, 'روحي': 519, 'وا': 1254, 'لا': 912, 'شايف': 558, 'انسان': 243, 'قول': 776, 'العظيم': 165, 'للطلبة': 1064, 'اقرا': 57, 'كثيير': 822, 'السلام': 132, 'واذا': 1256, 'وفعلا': 1305, 'يلى': 1493, 'بصير': 342, 'موجودة': 1191, 'صديقي': 592, 'احسن': 29, 'الايام': 79, 'صدر': 588, 'هالكلام': 1228, 'لسان': 978, 'ريحتو': 522, 'يثبت': 1464, 'زوجتة': 527, 'لاسباب': 936, 'بركي': 331, 'شوي': 579, 'عيد': 664, 'ابو': 26, 'عمرو': 645, 'لاني': 952, 'للجميع': 1040, 'الانترنت': 78, 'شبابلك': 561, 'للصبح': 1060, 'لأنه': 906, 'وولاده': 1368, 'للأخ': 1019, 'اجت': 27, 'لهون': 1108, 'ياريت': 1426, 'لمكانها': 1097, 'ماعليش': 1121, 'والبركة': 1258, 'كيسه': 891, 'كنتو': 876, 'بكير': 360, 'شغله': 569, 'فكرت': 682, 'وينستون': 1401, 'اويها': 259, 'كرشي': 831, 'الهم': 220, 'هودي': 1244, 'هني': 1239, 'ازا': 42, 'مجال': 1135, 'لفنجان': 1009, 'قهوة': 772, 'وبدون': 1277, 'نحكي': 1202, 'وندردش': 1341, 'زي': 528, 'العسل': 164, 'سيدي': 552, 'بدليل': 320, 'اعلان': 53, 'لموقع': 1100, 'الكرة': 185, 'وسيم': 1290, 'بيتها': 381, 'لشغلها': 983, 'المشكله': 200, 'ويبئى': 1375, 'بيكون': 389, 'حاكم': 443, 'كوع': 880, 'دورية': 497, 'للمسؤولين': 1078, 'العالية': 160, 'كبيره': 805, 'الشام': 138, 'تحديدا': 400, 'بروحوا': 333, 'الدكتور': 114, 'المرض': 197, 'حكمة': 458, 'بشكرك': 338, 'بتضل': 302, 'رجاء': 511, 'بيعرف': 387, 'فورا': 685, 'بمل': 366, 'ومتل': 1322, 'قلت': 758, 'تحاول': 397, 'منو': 1183, 'معو': 1167, 'مواقع': 1190, 'أظن': 10, 'مالنا': 1124, 'كلووو': 866, 'أخوك': 4, 'الغضب': 174, 'سلااام': 540, 'لابئلك': 914, 'هالاسم': 1223, 'لزيز': 975, 'معجب': 1157, 'يبدؤوا': 1445, 'كلكم': 855, 'لازمنا': 935, 'نفس': 1211, 'وقهوة': 1308, 'كيفك': 892, 'ونبلش': 1336, 'وانجاز': 1272, 'عقبال': 630, 'راجع': 504, 'جبت': 431, 'فيني': 691, 'الأهل': 66, 'احنا': 33, 'للمشاة': 1080, 'للسيارات': 1057, 'الرصيف': 122, 'للمشي': 1081, 'عليكم': 635, 'دايما': 490, 'الف': 175, 'وانشاء': 1273, 'وبيرجع': 1282, 'للمنتدى': 1084, 'عضو': 627, 'الحلو': 106, 'قديما': 723, 'بتحكي': 296, 'بتلاقي': 307, 'الشب': 139, 'يحكي': 1468, 'هدا': 1232, 'الزواج': 127, 'لأنهم': 907, 'إخوة': 21, 'ولازم': 1313, 'زمان': 525, 'هادي': 1222, 'للسيد': 1058, 'تطلع': 412, 'لدي': 967, 'نصيحة': 1206, 'كونوا': 887, 'صحيح': 587, 'اسأل': 44, 'الجاية': 92, 'الظاهر': 156, 'يأثر': 1407, 'بيدل': 383, 'وعدم': 1298, 'للاشياء': 1029, 'يجي': 1466, 'بنفس': 369, 'قصة': 742, 'قادرين': 696, 'ياه': 1442, 'نعمل': 1210, 'حالي': 448, 'يارب': 1423, 'بعدوا': 343, 'اهلا': 253, 'سهلا': 549, 'نفسك': 1212, 'سناء': 544, 'للأسطورة': 1020, 'القديمة': 179, 'الرجل': 121, 'يتحول': 1461, 'تمنياتي': 424, 'بالتوفيق': 275, 'يأبدع': 1406, 'مبين': 1130, 'للوهلة': 1091, 'بالمرة': 287, 'بكرة': 356, 'بالمنتدى': 288, 'طلب': 609, 'بالسلامة': 277, 'علشان': 633, 'عليكي': 636, 'اوكي': 257, 'تحية': 403, 'كفرد': 844, 'وعم': 1301, 'وأنت': 1253, 'بألف': 267, 'الكبيرة': 184, 'ونشوف': 1347, 'ولادك': 1312, 'كلهم': 863, 'بشي': 340, 'نفق': 1215, 'دم': 495, 'مافي': 1122, 'يارح': 1424, 'ويترك': 1380, 'قرص': 732, 'كانت': 798, 'انتي': 241, 'بلشت': 365, 'تابع': 391, 'عدم': 624, 'وينعاد': 1403, 'رب': 508, 'كنا': 873, 'قمنا': 770, 'شكلو': 573, 'التاني': 87, 'بخير': 317, 'مني': 1184, 'البسيطة': 81, 'الجميلة': 95, 'يبعت': 1446, 'الخير': 111, 'لهل': 1107, 'يروح': 1471, 'يشوف': 1475, 'الغربية': 173, 'وغيرو': 1304, 'ويشوف': 1389, 'ورا': 1288, 'عدد': 623, 'قبلك': 712, 'شغل': 567, 'لفرض': 1008, 'وياريت': 1372, 'للرجال': 1049, 'محشش': 1139, 'الشارع': 137, 'قطعه': 752, 'فقال': 678, 'وهيك': 1362, 'كثيرا': 821, 'بسبب': 334, 'حي': 467, 'كرامة': 827, 'لقيت': 1013, 'مبالغة': 1126, 'شخص': 562, 'يعلق': 1481, 'ارجع': 40, 'حطا': 455, 'بنت': 368, 'فلسطين': 684, 'قلولي': 765, 'وعلى': 1300, 'لاحظوا': 928, 'كهربائية': 879, 'قطعة': 751, 'اما': 234, 'اعرف': 52, 'فكر': 680, 'اهلين': 255, 'وان': 1267, 'مبسوط': 1129, 'بهالمنتدى': 373, 'واقع': 1257, 'وبتمنى': 1276, 'كافة': 790, 'شوف': 577, 'وجه': 1284, 'لألألألأ': 900, 'ويعلقنا': 1392, 'هادا': 1221, 'قلنالو': 764, 'ويلا': 1397, 'يعرف': 1477, 'زبالة': 523, 'بالشارع': 279, 'وفي': 1306, 'الزبالة': 123, 'وانو': 1275, 'جارك': 427, 'يعمل': 1482, 'وهاد': 1357, 'رأيي': 502, 'لربما': 971, 'لفترة': 1007, 'خسران': 474, 'بعرفوا': 346, 'هيدا': 1247, 'للأسلحة': 1022, 'يتأثر': 1451, 'لعم': 993, 'يصير': 1476, 'العربية': 162, 'انها': 248, 'كونه': 886, 'ماراح': 1117, 'ايه': 266, 'ماصار': 1120, 'لولي': 1109, 'الها': 219, 'فردا': 676, 'بتصير': 300, 'لموضوع': 1099, 'الجمعة': 93, 'منهم': 1182, 'قرأت': 725, 'كلامك': 850, 'للليش': 1075, 'زوء': 526, 'إزا': 22, 'وهم': 1360, 'وصار': 1294, 'كام': 793, 'ماحدا': 1116, 'يخليلكم': 1469, 'بتشوف': 299, 'يتحمل': 1460, 'مثل': 1133, 'الأمر': 65, 'اسئلة': 45, 'لاثبات': 924, 'القران': 180, 'الهي': 221, 'لف': 1005, 'لنعملو': 1104, 'لشوف': 985, 'امر': 235, 'البنات': 84, 'الصراحة': 150, 'ونسبة': 1344, 'يحصل': 1467, 'داخل': 489, 'كابين': 782, 'بتجنن': 293, 'ليه': 1114, 'ياعالم': 1434, 'ناس': 1200, 'بدهن': 324, 'إلها': 23, 'باي': 291, 'حلوين': 465, 'كتاب': 806, 'عربي': 625, 'وطريقة': 1297, 'الدعم': 112, 'لمتابعة': 1093, 'نور': 1217, 'للسرقة': 1052, 'بالطريقة': 281, 'تضلي': 411, 'تحكي': 401, 'لزقوا': 973, 'ساعة': 532, 'ترجع': 406, 'اشتغل': 48, 'روح': 518, 'كسل': 839, 'كرمال': 832, 'لميس': 1101, 'مستحيل': 1146, 'ياااي': 1413, 'ونعملك': 1354, 'حلوه': 464, 'وميزتها': 1331, 'لانها': 948, 'فيهن': 692, 'الوطن': 226, 'لصالح': 987, 'كراسيهم': 826, 'شوكولا': 578, 'خنزير': 485, 'بيحب': 382, 'فى': 687, 'لكني': 1015, 'لارض': 933, 'لاي': 953, 'بدك': 318, 'كثير': 820, 'حرف': 453, 'المي': 211, 'معناتو': 1164, 'قفشكون': 754, 'قفشة': 753, 'لمدة': 1095, 'ولم': 1316, 'ينزل': 1496, 'كلك': 854, 'لعرض': 992, 'شوية': 580, 'فكره': 683, 'وبهيك': 1281, 'ومش': 1324, 'ويقويه': 1394, 'وياخد': 1371, 'قدر': 717, 'غيرو': 671, 'لعيونك': 999, 'بالكتب': 284, 'عمل': 646, 'قواعد': 773, 'لشي': 986, 'جديدة': 436, 'مرتين': 1144, 'ديما': 500, 'السوق': 136, 'لحمارك': 962, 'الدفاع': 113, 'سؤالي': 531, 'الشخص': 142, 'هدية': 1234, 'عندن': 654, 'بهل': 375, 'جيد': 441, 'للعلم': 1067, 'والوطن': 1265, 'قالوها': 703, 'ياتومي': 1418, 'الوقت': 228, 'للشهادات': 1059, 'مكان': 1171, 'وياكم': 1374, 'ويطيب': 1390, 'ونسايمكم': 1343, 'طلاب': 608, 'ومو': 1325, 'العيون': 170, 'طبعا': 603, 'النساء': 215, 'احكي': 30, 'حكي': 459, 'مدونتك': 1141, 'لان': 944, 'بفوت': 350, 'موقع': 1193, 'نفسو': 1213, 'ايا': 261, 'أصلا': 9, 'بهالحالة': 372, 'بالاخر': 273, 'كلشي': 853, 'قصير': 746, 'سعيدة': 539, 'مسؤول': 1145, 'الدولة': 118, 'يأذي': 1408, 'قلكن': 762, 'غزة': 669, 'البنت': 85, 'كفاية': 842, 'وصدقني': 1295, 'تنسى': 425, 'معك': 1160, 'يتجاهل': 1455, 'كاسة': 789, 'شاي': 557, 'رايق': 507, 'شالله': 556, 'للحيطان': 1044, 'تعبانة': 413, 'خلو': 480, 'للمنتجات': 1083, 'لأخواته': 898, 'للفريق': 1071, 'بعيد': 348, 'انكسر': 246, 'ولك': 1315, 'غريب': 668, 'اشي': 49, 'خطأ': 477, 'معها': 1166, 'النعم': 216, 'ولي': 1318, 'منين': 1186, 'ومية': 1330, 'لنفسك': 1106, 'لارائكم': 932, 'يهنيك': 1497, 'أبو': 1, 'ونباركك': 1335, 'قريت': 736, 'نسيوا': 1205, 'عندهم': 657, 'ونشوفه': 1348, 'هالشيء': 1227, 'كالآتي': 792, 'قربها': 729, 'العقل': 166, 'محترمين': 1138, 'بيصير': 385, 'بعمل': 347, 'ويثم': 1382, 'العمل': 167, 'معلش': 1161, 'توصل': 426, 'ويحسب': 1383, 'للسعوديين': 1053, 'اخر': 36, 'المباراة': 194, 'لفت': 1006, 'الدم': 115, 'للكاظم': 1072, 'قبر': 708, 'الاسباب': 73, 'وهذا': 1359, 'كتيروبعدين': 816, 'مابعرف': 1115, 'للناس': 1087, 'لسه': 979, 'لقد': 1011, 'ام': 233, 'أيام': 20, 'هالشغلة': 1225, 'شركات': 564, 'بدل': 319, 'التنين': 89, 'صدقيني': 589, 'كذب': 825, 'ويكبر': 1395, 'يتحرر': 1458, 'ونحن': 1339, 'انس': 242, 'عليي': 640, 'شاطرين': 555, 'للآخير': 1018, 'يتحجج': 1457, 'حل': 460, 'يعين': 1485, 'لحق': 961, 'وناكل': 1333, 'الطين': 155, 'صراحة': 593, 'متضايقة': 1131, 'لسى': 980, 'حبيب': 450, 'وانشالله': 1274, 'ومواضيعهم': 1327, 'لعندك': 997, 'الو': 222, 'الحكومة': 104, 'ياخدو': 1422, 'أسوأ': 8, 'تعمل': 415, 'هالشي': 1226, 'لاختك': 929, 'مناسب': 1176, 'لحدا': 959, 'للاجتماع': 1026, 'طول': 612, 'بلاش': 363, 'كرسي': 830, 'خخخ': 472, 'مثلا': 1134, 'التلفزيون': 88, 'العربي': 161, 'السوري': 134, 'اهلي': 254, 'يبكي': 1448, 'بالنسبة': 290, 'للعربية': 1066, 'كنس': 878, 'البيت': 86, 'شلون': 574, 'كفى': 847, 'حياتها': 470, 'مسلسل': 1147, 'لأحمد': 897, 'تبع': 394, 'رجل': 513, 'اعمال': 54, 'يؤ': 1410, 'مشكورة': 1155, 'كسول': 840, 'للموضوع': 1085, 'كزبه': 837, 'ياشاام': 1431, 'ببلد': 292, 'قيمة': 781, 'للان': 1031, 'بتحط': 294, 'ملايين': 1172, 'ويكون': 1396, 'قوة': 775, 'وشباب': 1291, 'بتحققي': 295, 'العزيز': 163, 'قالها': 700, 'كب': 801, 'بابا': 270, 'قبلها': 713, 'فتح': 673, 'بيتك': 380, 'نورت': 1218, 'بحارتنا': 313, 'كليومين': 868, 'ليلة': 1112, 'رد': 516, 'الطوائف': 154, 'الباقية': 80, 'تركو': 407, 'ومواقفه': 1328, 'لحن': 963, 'كتاباتك': 807, 'سلم': 542, 'قامو': 705, 'لانني': 946, 'الزلمة': 124, 'يللي': 1492, 'كيفوا': 893, 'ووسائل': 1366, 'قصصر': 745, 'بيضل': 386, 'كبر': 802, 'لابدمن': 915, 'تدخل': 405, 'للصواب': 1061, 'سبحان': 535, 'مفيد': 1170, 'لأني': 909, 'يكونو': 1490, 'اكبر': 60, 'كعرب': 841, 'لغيرنا': 1004, 'قالو': 701, 'لديك': 968, 'للادارة': 1028, 'الكم': 190, 'النا': 212, 'ياها': 1443, 'حياتك': 469, 'ياعمي': 1435, 'زعلت': 524, 'تبين': 395, 'خليه': 483, 'ويلي': 1399, 'انتو': 240, 'طيب': 613, 'للخلف': 1045, 'للأمام': 1023, 'بسرعه': 336, 'يعطي': 1478, 'عافية': 616, 'ياخد': 1421, 'قلبن': 756, 'لالف': 940, 'كلامون': 852, 'الحق': 101, 'لاميركا': 943, 'الحجاب': 100, 'قريبين': 735, 'بقدر': 352, 'احلا': 31, 'بتمنا': 308, 'للحل': 1042, 'زيادة': 529, 'لغتنا': 1001, 'ووقت': 1367, 'خلدون': 478, 'بيترك': 379, 'اخ': 34, 'قليلين': 767, 'حيا': 468, 'دغري': 493, 'كريستالات': 834, 'فيكي': 690, 'قرت': 730, 'كاتبو': 785, 'للتاجر': 1035, 'أول': 18, 'ساكن': 533, 'بحياتي': 316, 'سمعت': 543, 'قالب': 699, 'صوت': 598, 'لاتنافسونا': 923, 'جدآ': 433, 'عمي': 649, 'أولا': 19, 'لاتخاف': 919, 'مارح': 1118, 'أرجو': 6, 'الامان': 77, 'علاقة': 632, 'انواع': 251, 'يااختي': 1414, 'قالولك': 702, 'لدرجه': 965, 'صارو': 585, 'ويع': 1391, 'الدنيا': 116, 'كميل': 871, 'اسامة': 46, 'والحمد': 1259, 'ونفس': 1355, 'الكلام': 188, 'سلام': 541, 'وياك': 1373, 'وأكيد': 1251, 'اله': 218, 'يسلمو': 1474, 'قوي': 779, 'جدا': 434, 'وووكتير': 1369, 'صفات': 596, 'كلون': 865, 'بيتا': 378, 'كدا': 823, 'تمام': 422, 'يأكل': 1409, 'طريقته': 606, 'وعن': 1303, 'قتل': 714, 'الغالية': 171, 'الشخصية': 143, 'مالا': 1123, 'فرحنا': 675, 'معناها': 1165, 'ياستي': 1428, 'سبب': 534, 'مطلوب': 1156, 'كتيررر': 815, 'إنت': 24, 'لصوابه': 989, 'قليل': 766, 'الشغله': 147, 'كويسة': 889, 'كتر': 809, 'يابنتي': 1416, 'بروح': 332, 'قام': 704, 'تحاولي': 398, 'يوصل': 1498, 'يتبع': 1454, 'للطالبة': 1063, 'بنقدر': 370, 'ايام': 262, 'للحلوين': 1043, 'يتئص': 1452, 'ياااه': 1412, 'كلماتك': 858, 'للواحد': 1090, 'يسلم': 1473, 'قلمك': 763, 'يتبرؤون': 1453, 'كميوتر': 872, 'لعمى': 994, 'للاكل': 1030, 'للكهرباء': 1074, 'للحشيش': 1041, 'والواقع': 1264, 'امرأة': 236, 'المشاغب': 198, 'يرحم': 1470, 'لقصص': 1012, 'قديمة': 724, 'تصير': 410, 'المواضيع': 206, 'للبنان': 1034, 'كل': 848, 'قشطة': 741, 'سوريا': 551, 'المقارنة': 202, 'يبنوا': 1449, 'ياشباب': 1432, 'وبعد': 1279, 'كلن': 860, 'للمطبخ': 1082, 'قبلت': 711, 'لاكتر': 939, 'عشان': 626, 'ويد': 1386, 'ويحطوا': 1384, 'مواضيع': 1188, 'للسنة': 1055, 'قلتى': 760, 'للظروف': 1065, 'للدين': 1047, 'بالذات': 276, 'لفينكس': 1010, 'ومؤمن': 1320, 'كوك': 881, 'كوم': 883, 'بالك': 283, 'بالله': 286, 'ياخالد': 1420, 'مشكل': 1153, 'الامارات': 76, 'اغلى': 56, 'كريم': 835, 'ونشا': 1345, 'قدروا': 721, 'كاتبهم': 784, 'بهديك': 374, 'الفايروس': 176, 'كلكن': 856, 'للاخ': 1027, 'لدة': 964, 'فيون': 694, 'كيلين': 894, 'كارلوس': 788, 'ضحك': 600, 'طالع': 602, 'لأبوه': 896, 'للاتنين': 1025, 'كيج': 890, 'ويلس': 1398, 'كونري': 885, 'قراار': 726, 'راي': 506, 'وموقف': 1329, 'قربت': 728, 'قلتلي': 759, 'كرت': 829, 'لزيارة': 974, 'قسم': 739, 'لأخواني': 899, 'اختي': 35, 'لاحدا': 925, 'لاموني': 942, 'احد': 28, 'لحد': 958, 'لصفاتي': 988, 'للاولادي': 1032, 'لربك': 970, 'بهي': 376, 'للريكارات': 1050, 'حماس': 466, 'لانهم': 949, 'يبيدوو': 1450, 'يؤئر': 1411, 'قدرته': 720, 'الواقع': 224, 'لعن': 995, 'كفروا': 846, 'الشرطي': 144, 'المواطن': 207, 'كامله': 795, 'نساء': 1204, 'لانعرف': 945, 'كثر': 819, 'للترحيب': 1036, 'ويريده': 1388, 'للكل': 1073, 'لأنكن': 904, 'رائع': 503, 'هوي': 1246, 'المطبخ': 201, 'جمال': 438, 'كامل': 794, 'لل': 1017, 'لاخر': 930, 'ايمتا': 265, 'كرة': 828, 'للبحيره': 1033, 'ويا': 1370, 'لدورتهم': 966, 'مدير': 1142, 'دعاية': 492, 'للمسلسل': 1079, 'قرروا': 731, 'قصص': 744, 'ويتحطها': 1378, 'قصيرة': 747, 'لعند': 996, 'ياجماعة': 1419, 'كبسة': 803, 'وطبعا': 1296, 'شر': 563, 'البلية': 83, 'ونفهم': 1356, 'هوب': 1243, 'كتيرة': 814, 'بسرعة': 335, 'اغتصاب': 55, 'خايف': 471, 'لاتطلبي': 920, 'للموظفين': 1086, 'قروو': 733, 'كتلك': 811, 'لغتي': 1002, 'كسرين': 838, 'لاحظو': 927, 'قسمين': 740, 'ياسيريا': 1430, 'لربنا': 972, 'قلبك': 755, 'لزيزة': 976, 'تسلاية': 408, 'للطالب': 1062, 'عندك': 652, 'المناسب': 203, 'قريتها': 738, 'كريمة': 836, 'يافا': 1436, 'كفرنا': 845, 'عمرها': 644, 'كلامها': 851, 'كتاباتها': 808, 'قريتا': 737, 'كوكتيل': 882, 'قرارات': 727, 'لعب': 990, 'يتحجبو': 1456, 'لشخص': 981, 'للسؤال': 1051, 'قمت': 768, 'يتحقق': 1459, 'ومحبوبين': 1323, 'قدرتك': 719, 'اسم': 47, 'تمر': 423, 'لالكن': 941, 'كونيكت': 888, 'كفايه': 843, 'المثل': 195, 'نفسي': 1214, 'لغاية': 1000, 'قولة': 777, 'قطع': 750, 'لشرطي': 982, 'كذابين': 824, 'الخ': 110, 'كتييي': 818, 'لمكشات': 1098, 'لاعندهم': 938, 'قصدي': 743, 'فيو': 693, 'للذ': 1048, 'للغرب': 1069, 'لمصلحة': 1096, 'ياكل': 1438, 'كنافة': 874, 'للمرة': 1077, 'الفلاح': 177, 'صناعة': 597, 'قاومناهم': 707, 'ووئفنا': 1363, 'ويحلئولنا': 1385, 'وورجينا': 1365, 'قريبتي': 734, 'اس': 43, 'لانوحر': 951, 'للنوايا': 1088, 'وناوي': 1334, 'للمدام': 1076}\n"
          ],
          "name": "stdout"
        }
      ]
    },
    {
      "cell_type": "code",
      "metadata": {
        "id": "kOi4GcSYdUIH",
        "colab_type": "code",
        "outputId": "1f827498-5394-44c6-bc5f-511e2b20021f",
        "colab": {
          "base_uri": "https://localhost:8080/",
          "height": 422
        }
      },
      "source": [
        "d = pd.DataFrame(X,columns=count_vector.get_feature_names())\n",
        "d"
      ],
      "execution_count": 199,
      "outputs": [
        {
          "output_type": "execute_result",
          "data": {
            "text/html": [
              "<div>\n",
              "<style scoped>\n",
              "    .dataframe tbody tr th:only-of-type {\n",
              "        vertical-align: middle;\n",
              "    }\n",
              "\n",
              "    .dataframe tbody tr th {\n",
              "        vertical-align: top;\n",
              "    }\n",
              "\n",
              "    .dataframe thead th {\n",
              "        text-align: right;\n",
              "    }\n",
              "</style>\n",
              "<table border=\"1\" class=\"dataframe\">\n",
              "  <thead>\n",
              "    <tr style=\"text-align: right;\">\n",
              "      <th></th>\n",
              "      <th>أبدا</th>\n",
              "      <th>أبو</th>\n",
              "      <th>أجل</th>\n",
              "      <th>أحلى</th>\n",
              "      <th>أخوك</th>\n",
              "      <th>أخي</th>\n",
              "      <th>أرجو</th>\n",
              "      <th>أسامة</th>\n",
              "      <th>أسوأ</th>\n",
              "      <th>أصلا</th>\n",
              "      <th>أظن</th>\n",
              "      <th>أكتر</th>\n",
              "      <th>أكيد</th>\n",
              "      <th>ألف</th>\n",
              "      <th>أنك</th>\n",
              "      <th>أنها</th>\n",
              "      <th>أنو</th>\n",
              "      <th>أهلا</th>\n",
              "      <th>أول</th>\n",
              "      <th>أولا</th>\n",
              "      <th>أيام</th>\n",
              "      <th>إخوة</th>\n",
              "      <th>إزا</th>\n",
              "      <th>إلها</th>\n",
              "      <th>إنت</th>\n",
              "      <th>إنو</th>\n",
              "      <th>ابو</th>\n",
              "      <th>اجت</th>\n",
              "      <th>احد</th>\n",
              "      <th>احسن</th>\n",
              "      <th>احكي</th>\n",
              "      <th>احلا</th>\n",
              "      <th>احلى</th>\n",
              "      <th>احنا</th>\n",
              "      <th>اخ</th>\n",
              "      <th>اختي</th>\n",
              "      <th>اخر</th>\n",
              "      <th>اخي</th>\n",
              "      <th>اذا</th>\n",
              "      <th>ارتفع</th>\n",
              "      <th>...</th>\n",
              "      <th>يتحمل</th>\n",
              "      <th>يتحول</th>\n",
              "      <th>يتزوج</th>\n",
              "      <th>يتكحل</th>\n",
              "      <th>يثبت</th>\n",
              "      <th>يجعل</th>\n",
              "      <th>يجي</th>\n",
              "      <th>يحصل</th>\n",
              "      <th>يحكي</th>\n",
              "      <th>يخليلكم</th>\n",
              "      <th>يرحم</th>\n",
              "      <th>يروح</th>\n",
              "      <th>يسترزق</th>\n",
              "      <th>يسلم</th>\n",
              "      <th>يسلمو</th>\n",
              "      <th>يشوف</th>\n",
              "      <th>يصير</th>\n",
              "      <th>يعرف</th>\n",
              "      <th>يعطي</th>\n",
              "      <th>يعطيك</th>\n",
              "      <th>يعطيكي</th>\n",
              "      <th>يعلق</th>\n",
              "      <th>يعمل</th>\n",
              "      <th>يعملو</th>\n",
              "      <th>يعني</th>\n",
              "      <th>يعين</th>\n",
              "      <th>يعينك</th>\n",
              "      <th>يقتل</th>\n",
              "      <th>يقول</th>\n",
              "      <th>يكون</th>\n",
              "      <th>يكونو</th>\n",
              "      <th>يلا</th>\n",
              "      <th>يللي</th>\n",
              "      <th>يلى</th>\n",
              "      <th>يلي</th>\n",
              "      <th>يمكن</th>\n",
              "      <th>ينزل</th>\n",
              "      <th>يهنيك</th>\n",
              "      <th>يوصل</th>\n",
              "      <th>يوم</th>\n",
              "    </tr>\n",
              "  </thead>\n",
              "  <tbody>\n",
              "    <tr>\n",
              "      <th>0</th>\n",
              "      <td>0</td>\n",
              "      <td>0</td>\n",
              "      <td>0</td>\n",
              "      <td>0</td>\n",
              "      <td>0</td>\n",
              "      <td>0</td>\n",
              "      <td>0</td>\n",
              "      <td>0</td>\n",
              "      <td>0</td>\n",
              "      <td>0</td>\n",
              "      <td>0</td>\n",
              "      <td>0</td>\n",
              "      <td>0</td>\n",
              "      <td>0</td>\n",
              "      <td>0</td>\n",
              "      <td>0</td>\n",
              "      <td>0</td>\n",
              "      <td>0</td>\n",
              "      <td>0</td>\n",
              "      <td>0</td>\n",
              "      <td>0</td>\n",
              "      <td>0</td>\n",
              "      <td>0</td>\n",
              "      <td>0</td>\n",
              "      <td>0</td>\n",
              "      <td>0</td>\n",
              "      <td>0</td>\n",
              "      <td>0</td>\n",
              "      <td>0</td>\n",
              "      <td>0</td>\n",
              "      <td>0</td>\n",
              "      <td>0</td>\n",
              "      <td>0</td>\n",
              "      <td>0</td>\n",
              "      <td>0</td>\n",
              "      <td>0</td>\n",
              "      <td>0</td>\n",
              "      <td>0</td>\n",
              "      <td>0</td>\n",
              "      <td>0</td>\n",
              "      <td>...</td>\n",
              "      <td>0</td>\n",
              "      <td>0</td>\n",
              "      <td>0</td>\n",
              "      <td>0</td>\n",
              "      <td>0</td>\n",
              "      <td>0</td>\n",
              "      <td>0</td>\n",
              "      <td>0</td>\n",
              "      <td>0</td>\n",
              "      <td>0</td>\n",
              "      <td>0</td>\n",
              "      <td>0</td>\n",
              "      <td>0</td>\n",
              "      <td>0</td>\n",
              "      <td>0</td>\n",
              "      <td>0</td>\n",
              "      <td>0</td>\n",
              "      <td>0</td>\n",
              "      <td>0</td>\n",
              "      <td>0</td>\n",
              "      <td>0</td>\n",
              "      <td>0</td>\n",
              "      <td>0</td>\n",
              "      <td>0</td>\n",
              "      <td>0</td>\n",
              "      <td>0</td>\n",
              "      <td>0</td>\n",
              "      <td>0</td>\n",
              "      <td>0</td>\n",
              "      <td>0</td>\n",
              "      <td>0</td>\n",
              "      <td>0</td>\n",
              "      <td>0</td>\n",
              "      <td>0</td>\n",
              "      <td>0</td>\n",
              "      <td>0</td>\n",
              "      <td>0</td>\n",
              "      <td>0</td>\n",
              "      <td>0</td>\n",
              "      <td>0</td>\n",
              "    </tr>\n",
              "    <tr>\n",
              "      <th>1</th>\n",
              "      <td>0</td>\n",
              "      <td>0</td>\n",
              "      <td>0</td>\n",
              "      <td>0</td>\n",
              "      <td>0</td>\n",
              "      <td>1</td>\n",
              "      <td>0</td>\n",
              "      <td>0</td>\n",
              "      <td>0</td>\n",
              "      <td>0</td>\n",
              "      <td>0</td>\n",
              "      <td>0</td>\n",
              "      <td>0</td>\n",
              "      <td>0</td>\n",
              "      <td>0</td>\n",
              "      <td>0</td>\n",
              "      <td>0</td>\n",
              "      <td>0</td>\n",
              "      <td>0</td>\n",
              "      <td>0</td>\n",
              "      <td>0</td>\n",
              "      <td>0</td>\n",
              "      <td>0</td>\n",
              "      <td>0</td>\n",
              "      <td>0</td>\n",
              "      <td>0</td>\n",
              "      <td>0</td>\n",
              "      <td>0</td>\n",
              "      <td>0</td>\n",
              "      <td>0</td>\n",
              "      <td>0</td>\n",
              "      <td>0</td>\n",
              "      <td>0</td>\n",
              "      <td>0</td>\n",
              "      <td>0</td>\n",
              "      <td>0</td>\n",
              "      <td>0</td>\n",
              "      <td>0</td>\n",
              "      <td>0</td>\n",
              "      <td>0</td>\n",
              "      <td>...</td>\n",
              "      <td>0</td>\n",
              "      <td>0</td>\n",
              "      <td>0</td>\n",
              "      <td>0</td>\n",
              "      <td>0</td>\n",
              "      <td>0</td>\n",
              "      <td>0</td>\n",
              "      <td>0</td>\n",
              "      <td>0</td>\n",
              "      <td>0</td>\n",
              "      <td>0</td>\n",
              "      <td>0</td>\n",
              "      <td>0</td>\n",
              "      <td>0</td>\n",
              "      <td>0</td>\n",
              "      <td>0</td>\n",
              "      <td>0</td>\n",
              "      <td>0</td>\n",
              "      <td>0</td>\n",
              "      <td>0</td>\n",
              "      <td>0</td>\n",
              "      <td>0</td>\n",
              "      <td>0</td>\n",
              "      <td>0</td>\n",
              "      <td>1</td>\n",
              "      <td>0</td>\n",
              "      <td>0</td>\n",
              "      <td>0</td>\n",
              "      <td>0</td>\n",
              "      <td>0</td>\n",
              "      <td>0</td>\n",
              "      <td>0</td>\n",
              "      <td>0</td>\n",
              "      <td>0</td>\n",
              "      <td>0</td>\n",
              "      <td>0</td>\n",
              "      <td>0</td>\n",
              "      <td>0</td>\n",
              "      <td>0</td>\n",
              "      <td>0</td>\n",
              "    </tr>\n",
              "    <tr>\n",
              "      <th>2</th>\n",
              "      <td>0</td>\n",
              "      <td>0</td>\n",
              "      <td>0</td>\n",
              "      <td>0</td>\n",
              "      <td>0</td>\n",
              "      <td>0</td>\n",
              "      <td>0</td>\n",
              "      <td>0</td>\n",
              "      <td>0</td>\n",
              "      <td>0</td>\n",
              "      <td>0</td>\n",
              "      <td>0</td>\n",
              "      <td>0</td>\n",
              "      <td>0</td>\n",
              "      <td>0</td>\n",
              "      <td>0</td>\n",
              "      <td>0</td>\n",
              "      <td>0</td>\n",
              "      <td>0</td>\n",
              "      <td>0</td>\n",
              "      <td>0</td>\n",
              "      <td>0</td>\n",
              "      <td>0</td>\n",
              "      <td>0</td>\n",
              "      <td>0</td>\n",
              "      <td>0</td>\n",
              "      <td>0</td>\n",
              "      <td>0</td>\n",
              "      <td>0</td>\n",
              "      <td>0</td>\n",
              "      <td>0</td>\n",
              "      <td>0</td>\n",
              "      <td>0</td>\n",
              "      <td>0</td>\n",
              "      <td>0</td>\n",
              "      <td>0</td>\n",
              "      <td>0</td>\n",
              "      <td>0</td>\n",
              "      <td>0</td>\n",
              "      <td>0</td>\n",
              "      <td>...</td>\n",
              "      <td>0</td>\n",
              "      <td>0</td>\n",
              "      <td>0</td>\n",
              "      <td>0</td>\n",
              "      <td>0</td>\n",
              "      <td>0</td>\n",
              "      <td>0</td>\n",
              "      <td>0</td>\n",
              "      <td>0</td>\n",
              "      <td>0</td>\n",
              "      <td>0</td>\n",
              "      <td>0</td>\n",
              "      <td>0</td>\n",
              "      <td>0</td>\n",
              "      <td>0</td>\n",
              "      <td>0</td>\n",
              "      <td>0</td>\n",
              "      <td>0</td>\n",
              "      <td>0</td>\n",
              "      <td>0</td>\n",
              "      <td>0</td>\n",
              "      <td>0</td>\n",
              "      <td>0</td>\n",
              "      <td>0</td>\n",
              "      <td>0</td>\n",
              "      <td>0</td>\n",
              "      <td>0</td>\n",
              "      <td>0</td>\n",
              "      <td>0</td>\n",
              "      <td>0</td>\n",
              "      <td>0</td>\n",
              "      <td>0</td>\n",
              "      <td>0</td>\n",
              "      <td>0</td>\n",
              "      <td>0</td>\n",
              "      <td>0</td>\n",
              "      <td>0</td>\n",
              "      <td>0</td>\n",
              "      <td>0</td>\n",
              "      <td>0</td>\n",
              "    </tr>\n",
              "    <tr>\n",
              "      <th>3</th>\n",
              "      <td>0</td>\n",
              "      <td>0</td>\n",
              "      <td>0</td>\n",
              "      <td>0</td>\n",
              "      <td>0</td>\n",
              "      <td>0</td>\n",
              "      <td>0</td>\n",
              "      <td>0</td>\n",
              "      <td>0</td>\n",
              "      <td>0</td>\n",
              "      <td>0</td>\n",
              "      <td>0</td>\n",
              "      <td>0</td>\n",
              "      <td>0</td>\n",
              "      <td>0</td>\n",
              "      <td>0</td>\n",
              "      <td>0</td>\n",
              "      <td>0</td>\n",
              "      <td>0</td>\n",
              "      <td>0</td>\n",
              "      <td>0</td>\n",
              "      <td>0</td>\n",
              "      <td>0</td>\n",
              "      <td>0</td>\n",
              "      <td>0</td>\n",
              "      <td>0</td>\n",
              "      <td>0</td>\n",
              "      <td>0</td>\n",
              "      <td>0</td>\n",
              "      <td>0</td>\n",
              "      <td>0</td>\n",
              "      <td>0</td>\n",
              "      <td>0</td>\n",
              "      <td>0</td>\n",
              "      <td>0</td>\n",
              "      <td>0</td>\n",
              "      <td>0</td>\n",
              "      <td>0</td>\n",
              "      <td>1</td>\n",
              "      <td>0</td>\n",
              "      <td>...</td>\n",
              "      <td>0</td>\n",
              "      <td>0</td>\n",
              "      <td>0</td>\n",
              "      <td>0</td>\n",
              "      <td>0</td>\n",
              "      <td>0</td>\n",
              "      <td>0</td>\n",
              "      <td>0</td>\n",
              "      <td>0</td>\n",
              "      <td>0</td>\n",
              "      <td>0</td>\n",
              "      <td>0</td>\n",
              "      <td>0</td>\n",
              "      <td>0</td>\n",
              "      <td>0</td>\n",
              "      <td>0</td>\n",
              "      <td>0</td>\n",
              "      <td>0</td>\n",
              "      <td>0</td>\n",
              "      <td>0</td>\n",
              "      <td>0</td>\n",
              "      <td>0</td>\n",
              "      <td>0</td>\n",
              "      <td>0</td>\n",
              "      <td>1</td>\n",
              "      <td>0</td>\n",
              "      <td>0</td>\n",
              "      <td>0</td>\n",
              "      <td>0</td>\n",
              "      <td>0</td>\n",
              "      <td>0</td>\n",
              "      <td>0</td>\n",
              "      <td>0</td>\n",
              "      <td>0</td>\n",
              "      <td>0</td>\n",
              "      <td>0</td>\n",
              "      <td>0</td>\n",
              "      <td>0</td>\n",
              "      <td>0</td>\n",
              "      <td>0</td>\n",
              "    </tr>\n",
              "    <tr>\n",
              "      <th>4</th>\n",
              "      <td>0</td>\n",
              "      <td>0</td>\n",
              "      <td>0</td>\n",
              "      <td>0</td>\n",
              "      <td>0</td>\n",
              "      <td>0</td>\n",
              "      <td>0</td>\n",
              "      <td>0</td>\n",
              "      <td>0</td>\n",
              "      <td>0</td>\n",
              "      <td>0</td>\n",
              "      <td>0</td>\n",
              "      <td>0</td>\n",
              "      <td>0</td>\n",
              "      <td>0</td>\n",
              "      <td>0</td>\n",
              "      <td>0</td>\n",
              "      <td>0</td>\n",
              "      <td>0</td>\n",
              "      <td>0</td>\n",
              "      <td>0</td>\n",
              "      <td>0</td>\n",
              "      <td>0</td>\n",
              "      <td>0</td>\n",
              "      <td>0</td>\n",
              "      <td>0</td>\n",
              "      <td>0</td>\n",
              "      <td>0</td>\n",
              "      <td>0</td>\n",
              "      <td>0</td>\n",
              "      <td>0</td>\n",
              "      <td>0</td>\n",
              "      <td>0</td>\n",
              "      <td>0</td>\n",
              "      <td>0</td>\n",
              "      <td>0</td>\n",
              "      <td>0</td>\n",
              "      <td>0</td>\n",
              "      <td>0</td>\n",
              "      <td>0</td>\n",
              "      <td>...</td>\n",
              "      <td>0</td>\n",
              "      <td>0</td>\n",
              "      <td>0</td>\n",
              "      <td>0</td>\n",
              "      <td>0</td>\n",
              "      <td>0</td>\n",
              "      <td>0</td>\n",
              "      <td>0</td>\n",
              "      <td>0</td>\n",
              "      <td>0</td>\n",
              "      <td>0</td>\n",
              "      <td>0</td>\n",
              "      <td>0</td>\n",
              "      <td>0</td>\n",
              "      <td>0</td>\n",
              "      <td>0</td>\n",
              "      <td>0</td>\n",
              "      <td>0</td>\n",
              "      <td>0</td>\n",
              "      <td>0</td>\n",
              "      <td>0</td>\n",
              "      <td>0</td>\n",
              "      <td>0</td>\n",
              "      <td>0</td>\n",
              "      <td>0</td>\n",
              "      <td>0</td>\n",
              "      <td>0</td>\n",
              "      <td>0</td>\n",
              "      <td>0</td>\n",
              "      <td>0</td>\n",
              "      <td>0</td>\n",
              "      <td>0</td>\n",
              "      <td>0</td>\n",
              "      <td>0</td>\n",
              "      <td>0</td>\n",
              "      <td>0</td>\n",
              "      <td>0</td>\n",
              "      <td>0</td>\n",
              "      <td>0</td>\n",
              "      <td>0</td>\n",
              "    </tr>\n",
              "    <tr>\n",
              "      <th>...</th>\n",
              "      <td>...</td>\n",
              "      <td>...</td>\n",
              "      <td>...</td>\n",
              "      <td>...</td>\n",
              "      <td>...</td>\n",
              "      <td>...</td>\n",
              "      <td>...</td>\n",
              "      <td>...</td>\n",
              "      <td>...</td>\n",
              "      <td>...</td>\n",
              "      <td>...</td>\n",
              "      <td>...</td>\n",
              "      <td>...</td>\n",
              "      <td>...</td>\n",
              "      <td>...</td>\n",
              "      <td>...</td>\n",
              "      <td>...</td>\n",
              "      <td>...</td>\n",
              "      <td>...</td>\n",
              "      <td>...</td>\n",
              "      <td>...</td>\n",
              "      <td>...</td>\n",
              "      <td>...</td>\n",
              "      <td>...</td>\n",
              "      <td>...</td>\n",
              "      <td>...</td>\n",
              "      <td>...</td>\n",
              "      <td>...</td>\n",
              "      <td>...</td>\n",
              "      <td>...</td>\n",
              "      <td>...</td>\n",
              "      <td>...</td>\n",
              "      <td>...</td>\n",
              "      <td>...</td>\n",
              "      <td>...</td>\n",
              "      <td>...</td>\n",
              "      <td>...</td>\n",
              "      <td>...</td>\n",
              "      <td>...</td>\n",
              "      <td>...</td>\n",
              "      <td>...</td>\n",
              "      <td>...</td>\n",
              "      <td>...</td>\n",
              "      <td>...</td>\n",
              "      <td>...</td>\n",
              "      <td>...</td>\n",
              "      <td>...</td>\n",
              "      <td>...</td>\n",
              "      <td>...</td>\n",
              "      <td>...</td>\n",
              "      <td>...</td>\n",
              "      <td>...</td>\n",
              "      <td>...</td>\n",
              "      <td>...</td>\n",
              "      <td>...</td>\n",
              "      <td>...</td>\n",
              "      <td>...</td>\n",
              "      <td>...</td>\n",
              "      <td>...</td>\n",
              "      <td>...</td>\n",
              "      <td>...</td>\n",
              "      <td>...</td>\n",
              "      <td>...</td>\n",
              "      <td>...</td>\n",
              "      <td>...</td>\n",
              "      <td>...</td>\n",
              "      <td>...</td>\n",
              "      <td>...</td>\n",
              "      <td>...</td>\n",
              "      <td>...</td>\n",
              "      <td>...</td>\n",
              "      <td>...</td>\n",
              "      <td>...</td>\n",
              "      <td>...</td>\n",
              "      <td>...</td>\n",
              "      <td>...</td>\n",
              "      <td>...</td>\n",
              "      <td>...</td>\n",
              "      <td>...</td>\n",
              "      <td>...</td>\n",
              "      <td>...</td>\n",
              "    </tr>\n",
              "    <tr>\n",
              "      <th>1195</th>\n",
              "      <td>0</td>\n",
              "      <td>0</td>\n",
              "      <td>0</td>\n",
              "      <td>0</td>\n",
              "      <td>0</td>\n",
              "      <td>0</td>\n",
              "      <td>0</td>\n",
              "      <td>0</td>\n",
              "      <td>0</td>\n",
              "      <td>0</td>\n",
              "      <td>0</td>\n",
              "      <td>0</td>\n",
              "      <td>0</td>\n",
              "      <td>0</td>\n",
              "      <td>0</td>\n",
              "      <td>0</td>\n",
              "      <td>0</td>\n",
              "      <td>0</td>\n",
              "      <td>0</td>\n",
              "      <td>0</td>\n",
              "      <td>0</td>\n",
              "      <td>0</td>\n",
              "      <td>0</td>\n",
              "      <td>0</td>\n",
              "      <td>0</td>\n",
              "      <td>0</td>\n",
              "      <td>0</td>\n",
              "      <td>0</td>\n",
              "      <td>0</td>\n",
              "      <td>0</td>\n",
              "      <td>0</td>\n",
              "      <td>0</td>\n",
              "      <td>0</td>\n",
              "      <td>0</td>\n",
              "      <td>0</td>\n",
              "      <td>0</td>\n",
              "      <td>0</td>\n",
              "      <td>0</td>\n",
              "      <td>0</td>\n",
              "      <td>1</td>\n",
              "      <td>...</td>\n",
              "      <td>0</td>\n",
              "      <td>0</td>\n",
              "      <td>0</td>\n",
              "      <td>0</td>\n",
              "      <td>0</td>\n",
              "      <td>0</td>\n",
              "      <td>0</td>\n",
              "      <td>0</td>\n",
              "      <td>0</td>\n",
              "      <td>0</td>\n",
              "      <td>0</td>\n",
              "      <td>0</td>\n",
              "      <td>0</td>\n",
              "      <td>0</td>\n",
              "      <td>0</td>\n",
              "      <td>0</td>\n",
              "      <td>0</td>\n",
              "      <td>0</td>\n",
              "      <td>0</td>\n",
              "      <td>0</td>\n",
              "      <td>0</td>\n",
              "      <td>0</td>\n",
              "      <td>0</td>\n",
              "      <td>0</td>\n",
              "      <td>0</td>\n",
              "      <td>0</td>\n",
              "      <td>0</td>\n",
              "      <td>0</td>\n",
              "      <td>0</td>\n",
              "      <td>0</td>\n",
              "      <td>0</td>\n",
              "      <td>0</td>\n",
              "      <td>0</td>\n",
              "      <td>0</td>\n",
              "      <td>0</td>\n",
              "      <td>0</td>\n",
              "      <td>0</td>\n",
              "      <td>0</td>\n",
              "      <td>0</td>\n",
              "      <td>0</td>\n",
              "    </tr>\n",
              "    <tr>\n",
              "      <th>1196</th>\n",
              "      <td>0</td>\n",
              "      <td>0</td>\n",
              "      <td>0</td>\n",
              "      <td>0</td>\n",
              "      <td>0</td>\n",
              "      <td>0</td>\n",
              "      <td>0</td>\n",
              "      <td>0</td>\n",
              "      <td>0</td>\n",
              "      <td>0</td>\n",
              "      <td>0</td>\n",
              "      <td>0</td>\n",
              "      <td>0</td>\n",
              "      <td>0</td>\n",
              "      <td>0</td>\n",
              "      <td>0</td>\n",
              "      <td>0</td>\n",
              "      <td>0</td>\n",
              "      <td>0</td>\n",
              "      <td>0</td>\n",
              "      <td>0</td>\n",
              "      <td>0</td>\n",
              "      <td>0</td>\n",
              "      <td>0</td>\n",
              "      <td>0</td>\n",
              "      <td>0</td>\n",
              "      <td>0</td>\n",
              "      <td>0</td>\n",
              "      <td>0</td>\n",
              "      <td>0</td>\n",
              "      <td>0</td>\n",
              "      <td>0</td>\n",
              "      <td>0</td>\n",
              "      <td>0</td>\n",
              "      <td>0</td>\n",
              "      <td>0</td>\n",
              "      <td>0</td>\n",
              "      <td>0</td>\n",
              "      <td>0</td>\n",
              "      <td>0</td>\n",
              "      <td>...</td>\n",
              "      <td>0</td>\n",
              "      <td>0</td>\n",
              "      <td>0</td>\n",
              "      <td>0</td>\n",
              "      <td>0</td>\n",
              "      <td>0</td>\n",
              "      <td>0</td>\n",
              "      <td>0</td>\n",
              "      <td>0</td>\n",
              "      <td>0</td>\n",
              "      <td>0</td>\n",
              "      <td>0</td>\n",
              "      <td>0</td>\n",
              "      <td>0</td>\n",
              "      <td>0</td>\n",
              "      <td>0</td>\n",
              "      <td>0</td>\n",
              "      <td>0</td>\n",
              "      <td>0</td>\n",
              "      <td>0</td>\n",
              "      <td>0</td>\n",
              "      <td>0</td>\n",
              "      <td>0</td>\n",
              "      <td>0</td>\n",
              "      <td>0</td>\n",
              "      <td>0</td>\n",
              "      <td>0</td>\n",
              "      <td>0</td>\n",
              "      <td>0</td>\n",
              "      <td>0</td>\n",
              "      <td>0</td>\n",
              "      <td>0</td>\n",
              "      <td>0</td>\n",
              "      <td>0</td>\n",
              "      <td>0</td>\n",
              "      <td>0</td>\n",
              "      <td>0</td>\n",
              "      <td>0</td>\n",
              "      <td>0</td>\n",
              "      <td>0</td>\n",
              "    </tr>\n",
              "    <tr>\n",
              "      <th>1197</th>\n",
              "      <td>0</td>\n",
              "      <td>0</td>\n",
              "      <td>0</td>\n",
              "      <td>0</td>\n",
              "      <td>0</td>\n",
              "      <td>0</td>\n",
              "      <td>0</td>\n",
              "      <td>0</td>\n",
              "      <td>0</td>\n",
              "      <td>0</td>\n",
              "      <td>0</td>\n",
              "      <td>0</td>\n",
              "      <td>0</td>\n",
              "      <td>0</td>\n",
              "      <td>0</td>\n",
              "      <td>0</td>\n",
              "      <td>0</td>\n",
              "      <td>0</td>\n",
              "      <td>0</td>\n",
              "      <td>0</td>\n",
              "      <td>0</td>\n",
              "      <td>0</td>\n",
              "      <td>0</td>\n",
              "      <td>0</td>\n",
              "      <td>0</td>\n",
              "      <td>0</td>\n",
              "      <td>0</td>\n",
              "      <td>0</td>\n",
              "      <td>0</td>\n",
              "      <td>0</td>\n",
              "      <td>0</td>\n",
              "      <td>0</td>\n",
              "      <td>0</td>\n",
              "      <td>0</td>\n",
              "      <td>0</td>\n",
              "      <td>0</td>\n",
              "      <td>0</td>\n",
              "      <td>0</td>\n",
              "      <td>0</td>\n",
              "      <td>0</td>\n",
              "      <td>...</td>\n",
              "      <td>0</td>\n",
              "      <td>0</td>\n",
              "      <td>0</td>\n",
              "      <td>0</td>\n",
              "      <td>0</td>\n",
              "      <td>0</td>\n",
              "      <td>0</td>\n",
              "      <td>0</td>\n",
              "      <td>0</td>\n",
              "      <td>0</td>\n",
              "      <td>0</td>\n",
              "      <td>0</td>\n",
              "      <td>0</td>\n",
              "      <td>0</td>\n",
              "      <td>0</td>\n",
              "      <td>0</td>\n",
              "      <td>0</td>\n",
              "      <td>0</td>\n",
              "      <td>0</td>\n",
              "      <td>0</td>\n",
              "      <td>0</td>\n",
              "      <td>0</td>\n",
              "      <td>0</td>\n",
              "      <td>0</td>\n",
              "      <td>0</td>\n",
              "      <td>0</td>\n",
              "      <td>0</td>\n",
              "      <td>0</td>\n",
              "      <td>0</td>\n",
              "      <td>0</td>\n",
              "      <td>0</td>\n",
              "      <td>0</td>\n",
              "      <td>0</td>\n",
              "      <td>0</td>\n",
              "      <td>0</td>\n",
              "      <td>0</td>\n",
              "      <td>0</td>\n",
              "      <td>0</td>\n",
              "      <td>0</td>\n",
              "      <td>0</td>\n",
              "    </tr>\n",
              "    <tr>\n",
              "      <th>1198</th>\n",
              "      <td>0</td>\n",
              "      <td>0</td>\n",
              "      <td>0</td>\n",
              "      <td>0</td>\n",
              "      <td>0</td>\n",
              "      <td>0</td>\n",
              "      <td>0</td>\n",
              "      <td>0</td>\n",
              "      <td>0</td>\n",
              "      <td>0</td>\n",
              "      <td>0</td>\n",
              "      <td>0</td>\n",
              "      <td>0</td>\n",
              "      <td>0</td>\n",
              "      <td>0</td>\n",
              "      <td>0</td>\n",
              "      <td>0</td>\n",
              "      <td>0</td>\n",
              "      <td>0</td>\n",
              "      <td>0</td>\n",
              "      <td>0</td>\n",
              "      <td>0</td>\n",
              "      <td>0</td>\n",
              "      <td>0</td>\n",
              "      <td>0</td>\n",
              "      <td>0</td>\n",
              "      <td>0</td>\n",
              "      <td>0</td>\n",
              "      <td>0</td>\n",
              "      <td>0</td>\n",
              "      <td>0</td>\n",
              "      <td>0</td>\n",
              "      <td>0</td>\n",
              "      <td>0</td>\n",
              "      <td>0</td>\n",
              "      <td>0</td>\n",
              "      <td>0</td>\n",
              "      <td>0</td>\n",
              "      <td>0</td>\n",
              "      <td>0</td>\n",
              "      <td>...</td>\n",
              "      <td>0</td>\n",
              "      <td>0</td>\n",
              "      <td>0</td>\n",
              "      <td>0</td>\n",
              "      <td>0</td>\n",
              "      <td>0</td>\n",
              "      <td>0</td>\n",
              "      <td>0</td>\n",
              "      <td>0</td>\n",
              "      <td>0</td>\n",
              "      <td>0</td>\n",
              "      <td>0</td>\n",
              "      <td>0</td>\n",
              "      <td>0</td>\n",
              "      <td>0</td>\n",
              "      <td>0</td>\n",
              "      <td>0</td>\n",
              "      <td>0</td>\n",
              "      <td>0</td>\n",
              "      <td>0</td>\n",
              "      <td>0</td>\n",
              "      <td>0</td>\n",
              "      <td>0</td>\n",
              "      <td>0</td>\n",
              "      <td>0</td>\n",
              "      <td>0</td>\n",
              "      <td>0</td>\n",
              "      <td>0</td>\n",
              "      <td>0</td>\n",
              "      <td>0</td>\n",
              "      <td>0</td>\n",
              "      <td>0</td>\n",
              "      <td>0</td>\n",
              "      <td>0</td>\n",
              "      <td>0</td>\n",
              "      <td>0</td>\n",
              "      <td>0</td>\n",
              "      <td>0</td>\n",
              "      <td>0</td>\n",
              "      <td>0</td>\n",
              "    </tr>\n",
              "    <tr>\n",
              "      <th>1199</th>\n",
              "      <td>0</td>\n",
              "      <td>0</td>\n",
              "      <td>0</td>\n",
              "      <td>0</td>\n",
              "      <td>0</td>\n",
              "      <td>0</td>\n",
              "      <td>0</td>\n",
              "      <td>0</td>\n",
              "      <td>0</td>\n",
              "      <td>0</td>\n",
              "      <td>0</td>\n",
              "      <td>0</td>\n",
              "      <td>0</td>\n",
              "      <td>0</td>\n",
              "      <td>0</td>\n",
              "      <td>0</td>\n",
              "      <td>0</td>\n",
              "      <td>0</td>\n",
              "      <td>0</td>\n",
              "      <td>0</td>\n",
              "      <td>0</td>\n",
              "      <td>0</td>\n",
              "      <td>0</td>\n",
              "      <td>0</td>\n",
              "      <td>0</td>\n",
              "      <td>0</td>\n",
              "      <td>0</td>\n",
              "      <td>0</td>\n",
              "      <td>0</td>\n",
              "      <td>0</td>\n",
              "      <td>0</td>\n",
              "      <td>0</td>\n",
              "      <td>0</td>\n",
              "      <td>0</td>\n",
              "      <td>0</td>\n",
              "      <td>0</td>\n",
              "      <td>0</td>\n",
              "      <td>0</td>\n",
              "      <td>0</td>\n",
              "      <td>0</td>\n",
              "      <td>...</td>\n",
              "      <td>0</td>\n",
              "      <td>0</td>\n",
              "      <td>0</td>\n",
              "      <td>0</td>\n",
              "      <td>0</td>\n",
              "      <td>0</td>\n",
              "      <td>0</td>\n",
              "      <td>0</td>\n",
              "      <td>0</td>\n",
              "      <td>0</td>\n",
              "      <td>0</td>\n",
              "      <td>0</td>\n",
              "      <td>0</td>\n",
              "      <td>0</td>\n",
              "      <td>0</td>\n",
              "      <td>0</td>\n",
              "      <td>0</td>\n",
              "      <td>0</td>\n",
              "      <td>0</td>\n",
              "      <td>0</td>\n",
              "      <td>0</td>\n",
              "      <td>0</td>\n",
              "      <td>0</td>\n",
              "      <td>0</td>\n",
              "      <td>0</td>\n",
              "      <td>0</td>\n",
              "      <td>0</td>\n",
              "      <td>0</td>\n",
              "      <td>0</td>\n",
              "      <td>0</td>\n",
              "      <td>0</td>\n",
              "      <td>0</td>\n",
              "      <td>0</td>\n",
              "      <td>0</td>\n",
              "      <td>0</td>\n",
              "      <td>0</td>\n",
              "      <td>0</td>\n",
              "      <td>0</td>\n",
              "      <td>0</td>\n",
              "      <td>0</td>\n",
              "    </tr>\n",
              "  </tbody>\n",
              "</table>\n",
              "<p>1200 rows × 1500 columns</p>\n",
              "</div>"
            ],
            "text/plain": [
              "      أبدا  أبو  أجل  أحلى  أخوك  أخي  ...  يلي  يمكن  ينزل  يهنيك  يوصل  يوم\n",
              "0        0    0    0     0     0    0  ...    0     0     0      0     0    0\n",
              "1        0    0    0     0     0    1  ...    0     0     0      0     0    0\n",
              "2        0    0    0     0     0    0  ...    0     0     0      0     0    0\n",
              "3        0    0    0     0     0    0  ...    0     0     0      0     0    0\n",
              "4        0    0    0     0     0    0  ...    0     0     0      0     0    0\n",
              "...    ...  ...  ...   ...   ...  ...  ...  ...   ...   ...    ...   ...  ...\n",
              "1195     0    0    0     0     0    0  ...    0     0     0      0     0    0\n",
              "1196     0    0    0     0     0    0  ...    0     0     0      0     0    0\n",
              "1197     0    0    0     0     0    0  ...    0     0     0      0     0    0\n",
              "1198     0    0    0     0     0    0  ...    0     0     0      0     0    0\n",
              "1199     0    0    0     0     0    0  ...    0     0     0      0     0    0\n",
              "\n",
              "[1200 rows x 1500 columns]"
            ]
          },
          "metadata": {
            "tags": []
          },
          "execution_count": 199
        }
      ]
    },
    {
      "cell_type": "code",
      "metadata": {
        "id": "-AglMJ90elxR",
        "colab_type": "code",
        "colab": {
          "base_uri": "https://localhost:8080/",
          "height": 34
        },
        "outputId": "1ba34f98-f24f-45cb-b9f9-a98395733ade"
      },
      "source": [
        "# convert classes to number\n",
        "y = encoder = LabelEncoder()\n",
        "y = encoder.fit_transform(data['sentiment'])\n",
        "y"
      ],
      "execution_count": 200,
      "outputs": [
        {
          "output_type": "execute_result",
          "data": {
            "text/plain": [
              "array([1, 3, 1, ..., 2, 1, 3])"
            ]
          },
          "metadata": {
            "tags": []
          },
          "execution_count": 200
        }
      ]
    },
    {
      "cell_type": "code",
      "metadata": {
        "id": "MjE9Olq7ento",
        "colab_type": "code",
        "colab": {}
      },
      "source": [
        "# Split data into training and testing\n",
        "X_train, X_test, y_train, y_test = train_test_split(X,y, test_size =0.2, random_state=42)\n"
      ],
      "execution_count": 0,
      "outputs": []
    },
    {
      "cell_type": "markdown",
      "metadata": {
        "id": "cLPU03d4f8aT",
        "colab_type": "text"
      },
      "source": [
        "## Build classifier model"
      ]
    },
    {
      "cell_type": "markdown",
      "metadata": {
        "id": "HvibhPuL69no",
        "colab_type": "text"
      },
      "source": [
        "### Training model"
      ]
    },
    {
      "cell_type": "code",
      "metadata": {
        "id": "E3lksI3sgWdc",
        "colab_type": "code",
        "outputId": "e9687d1a-d63b-45c7-c94b-00919e12e727",
        "colab": {
          "base_uri": "https://localhost:8080/",
          "height": 34
        }
      },
      "source": [
        "# Define Gauusian Naive bayes\n",
        "model = GaussianNB()\n",
        "\n",
        "# train model\n",
        "model.fit(X_train, y_train) "
      ],
      "execution_count": 202,
      "outputs": [
        {
          "output_type": "execute_result",
          "data": {
            "text/plain": [
              "GaussianNB(priors=None, var_smoothing=1e-09)"
            ]
          },
          "metadata": {
            "tags": []
          },
          "execution_count": 202
        }
      ]
    },
    {
      "cell_type": "markdown",
      "metadata": {
        "id": "3RXpEjRE6_gq",
        "colab_type": "text"
      },
      "source": [
        "### Evaluate model"
      ]
    },
    {
      "cell_type": "code",
      "metadata": {
        "id": "GmRkPpPhgfdj",
        "colab_type": "code",
        "outputId": "878659e8-af08-42a1-9661-a3e8cb2083e2",
        "colab": {
          "base_uri": "https://localhost:8080/",
          "height": 202
        }
      },
      "source": [
        "# Predicting the Test set results \n",
        "y_pred = model.predict(X_test) \n",
        "y_pred"
      ],
      "execution_count": 203,
      "outputs": [
        {
          "output_type": "execute_result",
          "data": {
            "text/plain": [
              "array([2, 1, 2, 2, 3, 1, 3, 1, 1, 1, 3, 3, 1, 1, 1, 3, 1, 2, 1, 1, 1, 1,\n",
              "       3, 2, 2, 1, 1, 1, 3, 3, 1, 1, 3, 2, 1, 1, 1, 1, 1, 1, 3, 1, 1, 1,\n",
              "       1, 1, 2, 2, 3, 2, 1, 3, 1, 3, 3, 1, 1, 1, 1, 1, 1, 3, 3, 1, 1, 3,\n",
              "       2, 1, 2, 1, 3, 1, 1, 3, 1, 2, 1, 3, 3, 2, 3, 2, 1, 1, 3, 1, 3, 3,\n",
              "       1, 1, 3, 1, 1, 1, 3, 1, 1, 3, 1, 1, 3, 1, 1, 1, 1, 1, 2, 3, 2, 1,\n",
              "       3, 3, 1, 1, 1, 3, 3, 3, 1, 3, 1, 2, 3, 2, 3, 1, 3, 1, 1, 1, 1, 2,\n",
              "       1, 3, 1, 3, 1, 1, 1, 3, 1, 1, 1, 1, 3, 3, 1, 1, 1, 1, 3, 3, 1, 3,\n",
              "       2, 1, 1, 3, 3, 1, 1, 3, 1, 3, 1, 3, 1, 1, 1, 1, 1, 1, 1, 3, 3, 1,\n",
              "       3, 2, 1, 3, 3, 1, 3, 3, 1, 3, 3, 3, 3, 2, 1, 3, 1, 3, 1, 1, 3, 3,\n",
              "       3, 2, 2, 1, 3, 1, 3, 1, 3, 3, 1, 2, 2, 3, 1, 1, 1, 1, 2, 1, 1, 2,\n",
              "       3, 1, 1, 1, 3, 2, 3, 1, 3, 3, 2, 3, 3, 1, 1, 1, 2, 3, 3, 1])"
            ]
          },
          "metadata": {
            "tags": []
          },
          "execution_count": 203
        }
      ]
    },
    {
      "cell_type": "code",
      "metadata": {
        "id": "HjHMjBfEhso3",
        "colab_type": "code",
        "outputId": "b69819a2-e58c-4e01-c7af-d6ce5f4ff5c1",
        "colab": {
          "base_uri": "https://localhost:8080/",
          "height": 34
        }
      },
      "source": [
        "print('Test model accuracy: ',accuracy_score(y_test, y_pred))"
      ],
      "execution_count": 204,
      "outputs": [
        {
          "output_type": "stream",
          "text": [
            "Test model accuracy:  0.4875\n"
          ],
          "name": "stdout"
        }
      ]
    },
    {
      "cell_type": "markdown",
      "metadata": {
        "id": "YWgNkWpB7Duf",
        "colab_type": "text"
      },
      "source": [
        "### Test with new review"
      ]
    },
    {
      "cell_type": "code",
      "metadata": {
        "id": "q37egok4jgmM",
        "colab_type": "code",
        "outputId": "a0faed02-784b-4728-dfb5-f0e674b0e9c0",
        "colab": {
          "base_uri": "https://localhost:8080/",
          "height": 34
        }
      },
      "source": [
        "# input statment\n",
        "test_text = ['منتج رائع و جودته ممتازة أعجبني جدًا'] \n",
        "\n",
        "# convert to number\n",
        "test_vector = count_vector.transform(test_text)\n",
        "test_vector = test_vector.toarray()\n",
        "\n",
        "## encodeing predict class\n",
        "text_predict_class = encoder.inverse_transform(model.predict(test_vector))\n",
        "print(test_text[0], 'is: ',text_predict_class[0])"
      ],
      "execution_count": 205,
      "outputs": [
        {
          "output_type": "stream",
          "text": [
            "منتج رائع و جودته ممتازة أعجبني جدًا is:  Positive\n"
          ],
          "name": "stdout"
        }
      ]
    },
    {
      "cell_type": "code",
      "metadata": {
        "id": "mHghfxwnqRR6",
        "colab_type": "code",
        "colab": {}
      },
      "source": [
        ""
      ],
      "execution_count": 0,
      "outputs": []
    }
  ]
}